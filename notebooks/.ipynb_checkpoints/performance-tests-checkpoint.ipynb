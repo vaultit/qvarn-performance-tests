{
 "cells": [
  {
   "cell_type": "code",
   "execution_count": 1,
   "metadata": {},
   "outputs": [],
   "source": [
    "%matplotlib inline"
   ]
  },
  {
   "cell_type": "code",
   "execution_count": 2,
   "metadata": {},
   "outputs": [],
   "source": [
    "qvarn = 'http://localhost:9001'\n",
    "jsonb = 'http://localhost:9002'\n",
    "planb = 'http://localhost:9003'\n",
    "names = {\n",
    "    qvarn: 'qvarn',\n",
    "    jsonb: 'jsonb',\n",
    "    planb: 'planb',\n",
    "}\n",
    "backends = qvarn, jsonb, planb"
   ]
  },
  {
   "cell_type": "code",
   "execution_count": 3,
   "metadata": {},
   "outputs": [],
   "source": [
    "import collections\n",
    "import configparser\n",
    "import datetime\n",
    "import faker\n",
    "import hashlib\n",
    "import itertools\n",
    "import jwt\n",
    "import logging as log\n",
    "import os\n",
    "import pandas as pd\n",
    "import pathlib\n",
    "import random\n",
    "import requests\n",
    "import seaborn as sns\n",
    "import statistics\n",
    "import sys\n",
    "import time\n",
    "import tqdm\n",
    "import ujson as json\n",
    "from IPython.display import display\n",
    "\n",
    "log.basicConfig(filename='/tmp/performance-testing.log', level=log.DEBUG)\n",
    "log.getLogger('urllib3').setLevel(log.ERROR)\n",
    "\n",
    "sns.set(style=\"whitegrid\", font_scale=2, rc={\n",
    "    'figure.figsize': (16, 8),\n",
    "})\n",
    "\n",
    "claims = {\n",
    "    'iss': 'https://auth-jsonb.alpha.vaultit.org',\n",
    "    'sub': '',\n",
    "    'aud': '',\n",
    "    'exp': (datetime.datetime.now() + datetime.timedelta(days=10)).timestamp(),\n",
    "    'scope': ' '.join([\n",
    "        scope % resource_type\n",
    "        for scope in (\n",
    "            'uapi_%s_get',\n",
    "            'uapi_%s_post',\n",
    "            'uapi_%s_id_get',\n",
    "            'uapi_%s_id_put',\n",
    "            'uapi_%s_id_delete',\n",
    "            'uapi_%s_search_id_get',\n",
    "        )\n",
    "        for resource_type in (\n",
    "            'orgs',\n",
    "        )\n",
    "    ]),\n",
    "}\n",
    "key = pathlib.Path('../keys/rsa').read_bytes()\n",
    "token = jwt.encode(claims, key, algorithm='RS512').decode()\n",
    "\n",
    "session = requests.Session()\n",
    "session.headers['authorization'] = f'Bearer {token}'\n",
    "session.headers['cache-control'] = 'no-cache'\n",
    "\n",
    "fake = faker.Faker()"
   ]
  },
  {
   "cell_type": "code",
   "execution_count": 4,
   "metadata": {},
   "outputs": [
    {
     "data": {
      "text/plain": [
       "{\n",
       "    'api': {'version': '0.82-6.vaultit'},\n",
       "    'implementation': {'name': 'Qvarn', 'version': '0.82-6.vaultit'},\n",
       "}"
      ]
     },
     "execution_count": 4,
     "metadata": {},
     "output_type": "execute_result"
    }
   ],
   "source": [
    "session.get(f'{qvarn}/version').json()"
   ]
  },
  {
   "cell_type": "code",
   "execution_count": 5,
   "metadata": {},
   "outputs": [
    {
     "data": {
      "text/plain": [
       "{\n",
       "    'api': {'version': '0.91.vaultit29-gec646a2'},\n",
       "    'implementation': {'name': 'Qvarn', 'version': '0.91.vaultit29-gec646a2'},\n",
       "}"
      ]
     },
     "execution_count": 5,
     "metadata": {},
     "output_type": "execute_result"
    }
   ],
   "source": [
    "session.get(f'{jsonb}/version').json()"
   ]
  },
  {
   "cell_type": "code",
   "execution_count": 6,
   "metadata": {},
   "outputs": [
    {
     "data": {
      "text/plain": [
       "{\n",
       "    'api': {'version': '0.82-5.vaultit'},\n",
       "    'implementation': {\n",
       "        'name': 'Qvarn PlanB',\n",
       "        'version': '0.0.2.dev13+ge1ccf7d',\n",
       "    },\n",
       "}"
      ]
     },
     "execution_count": 6,
     "metadata": {},
     "output_type": "execute_result"
    }
   ],
   "source": [
    "session.get(f'{planb}/version').json()"
   ]
  },
  {
   "cell_type": "code",
   "execution_count": 7,
   "metadata": {},
   "outputs": [],
   "source": [
    "class Test:\n",
    "    \n",
    "    def __init__(self, n, backend, *args, **kwargs):\n",
    "        self.backend = backend\n",
    "        self.total = n\n",
    "        self.prepare(*args, **kwargs)\n",
    "        \n",
    "    def prepare(self):\n",
    "        pass\n",
    "    \n",
    "    def __iter__(self):\n",
    "        yield from range(self.total)\n",
    "            \n",
    "    def __call__(self, item):\n",
    "        raise NotImplementedError()"
   ]
  },
  {
   "cell_type": "code",
   "execution_count": 8,
   "metadata": {},
   "outputs": [
    {
     "data": {
      "text/html": [
       "<div>\n",
       "<style scoped>\n",
       "    .dataframe tbody tr th:only-of-type {\n",
       "        vertical-align: middle;\n",
       "    }\n",
       "\n",
       "    .dataframe tbody tr th {\n",
       "        vertical-align: top;\n",
       "    }\n",
       "\n",
       "    .dataframe thead tr th {\n",
       "        text-align: left;\n",
       "    }\n",
       "</style>\n",
       "<table border=\"1\" class=\"dataframe\">\n",
       "  <thead>\n",
       "    <tr>\n",
       "      <th></th>\n",
       "      <th colspan=\"2\" halign=\"left\">iterations</th>\n",
       "      <th colspan=\"4\" halign=\"left\">time in seconds</th>\n",
       "      <th colspan=\"2\" halign=\"left\"></th>\n",
       "    </tr>\n",
       "    <tr>\n",
       "      <th></th>\n",
       "      <th>total</th>\n",
       "      <th>failed</th>\n",
       "      <th>total</th>\n",
       "      <th>mean</th>\n",
       "      <th>median</th>\n",
       "      <th>stdev</th>\n",
       "      <th>n resources</th>\n",
       "      <th>n times slower</th>\n",
       "    </tr>\n",
       "  </thead>\n",
       "  <tbody>\n",
       "    <tr>\n",
       "      <th>qvarn</th>\n",
       "      <td>10</td>\n",
       "      <td>0</td>\n",
       "      <td>4.0</td>\n",
       "      <td>1.333333</td>\n",
       "      <td>1.0</td>\n",
       "      <td>0.57735</td>\n",
       "      <td>100</td>\n",
       "      <td>1.0</td>\n",
       "    </tr>\n",
       "    <tr>\n",
       "      <th>jsonb</th>\n",
       "      <td>10</td>\n",
       "      <td>1</td>\n",
       "      <td>6.0</td>\n",
       "      <td>2.000000</td>\n",
       "      <td>2.0</td>\n",
       "      <td>1.00000</td>\n",
       "      <td>100</td>\n",
       "      <td>2.0</td>\n",
       "    </tr>\n",
       "    <tr>\n",
       "      <th>planb</th>\n",
       "      <td>10</td>\n",
       "      <td>10</td>\n",
       "      <td>NaN</td>\n",
       "      <td>NaN</td>\n",
       "      <td>NaN</td>\n",
       "      <td>NaN</td>\n",
       "      <td>100</td>\n",
       "      <td>nan</td>\n",
       "    </tr>\n",
       "  </tbody>\n",
       "</table>\n",
       "</div>"
      ],
      "text/plain": [
       "      iterations        time in seconds                                        \\\n",
       "           total failed           total      mean median    stdev n resources   \n",
       "qvarn         10      0             4.0  1.333333    1.0  0.57735         100   \n",
       "jsonb         10      1             6.0  2.000000    2.0  1.00000         100   \n",
       "planb         10     10             NaN       NaN    NaN      NaN         100   \n",
       "\n",
       "                      \n",
       "      n times slower  \n",
       "qvarn            1.0  \n",
       "jsonb            2.0  \n",
       "planb            nan"
      ]
     },
     "execution_count": 8,
     "metadata": {},
     "output_type": "execute_result"
    }
   ],
   "source": [
    "def stats_table(backends, counts, times, runs, failed):\n",
    "    frame = pd.DataFrame(collections.OrderedDict([\n",
    "        (('iterations', 'total'), [runs[x].total for x in backends]),\n",
    "        (('iterations', 'failed'), [failed[x] for x in backends]),\n",
    "        (('time in seconds', 'total'), [sum(times[x]) if times[x] else None for x in backends]),\n",
    "        (('time in seconds', 'mean'), [statistics.mean(times[x]) if times[x] else None for x in backends]),\n",
    "        (('time in seconds', 'median'), [statistics.median(times[x]) if times[x] else None for x in backends]),\n",
    "        (('time in seconds', 'stdev'), [statistics.stdev(times[x]) if times[x] else None for x in backends]),\n",
    "        (('', 'n resources'), [counts[x] for x in backends]),\n",
    "    ]), index=[names[x] for x in backends])\n",
    "    frame = frame.sort_values(('time in seconds', 'median'))\n",
    "    median = frame[('time in seconds', 'median')]\n",
    "    frame[('', 'n times slower')] = (median / median.min()).map('{:.1f}'.format)\n",
    "    return frame\n",
    "\n",
    "frame = stats_table(\n",
    "    (qvarn, jsonb, planb),\n",
    "    {qvarn: 100, jsonb: 100, planb: 100},\n",
    "    {qvarn: [1, 2, 1], jsonb: [1, 3, 2], planb: []},\n",
    "    {qvarn: Test(10, qvarn), jsonb: Test(10, jsonb), planb: Test(10, planb)},\n",
    "    {qvarn: 0, jsonb: 1, planb: 10},\n",
    ")\n",
    "frame"
   ]
  },
  {
   "cell_type": "code",
   "execution_count": 9,
   "metadata": {},
   "outputs": [
    {
     "data": {
      "text/plain": [
       "<matplotlib.axes._subplots.AxesSubplot object at 0x7f3d0a52b198>"
      ]
     },
     "execution_count": 9,
     "metadata": {},
     "output_type": "execute_result"
    },
    {
     "data": {
      "image/png": "[encoded data removed]",
      "text/plain": [
       "<Figure size 1152x576 with 1 Axes>"
      ]
     },
     "metadata": {},
     "output_type": "display_data"
    }
   ],
   "source": [
    "def violin_plot(backends, times, size):\n",
    "    frame = pd.DataFrame(collections.OrderedDict([\n",
    "        (names[x], times[x] + [None for i in range(size - len(times[x]))])\n",
    "        for x in backends\n",
    "    ]))\n",
    "    ax = sns.violinplot(data=frame, orient='h')\n",
    "    ax.set_xscale('log')\n",
    "    ax.set_xlabel(\"time in seconds (log scale)\")\n",
    "    return ax\n",
    "\n",
    "violin_plot((qvarn, jsonb, planb), {qvarn: [1, 2, 1, 1], jsonb: [1, 3, 2, 2], planb: []}, 4)"
   ]
  },
  {
   "cell_type": "code",
   "execution_count": 10,
   "metadata": {},
   "outputs": [],
   "source": [
    "summary = pd.DataFrame({}, index=[names[x] for x in backends])"
   ]
  },
  {
   "cell_type": "code",
   "execution_count": 11,
   "metadata": {},
   "outputs": [],
   "source": [
    "def measure(n, backends, test, *args, **kwargs):\n",
    "    global summary\n",
    "    \n",
    "    counts = {\n",
    "        x: len(session.get(f'{x}/orgs').json()['resources'])\n",
    "        for x in backends\n",
    "    }\n",
    "    failed = {backend: 0 for backend in backends}\n",
    "    times = collections.defaultdict(list)\n",
    "    runs = {}\n",
    "    for backend in backends:\n",
    "        run = runs[backend] = test(n, backend, *args, **kwargs)\n",
    "        name = names[backend]\n",
    "        for item in tqdm.tqdm_notebook(run, name, total=run.total, leave=False):\n",
    "            start = time.monotonic()\n",
    "            try:\n",
    "                resp = run(item)\n",
    "            except KeyboardInterrupt:\n",
    "                raise\n",
    "            except:\n",
    "                log.exception('error')\n",
    "                ok = False\n",
    "                resp = None\n",
    "            else:\n",
    "                ok = resp.ok\n",
    "            delta = time.monotonic() - start\n",
    "            if ok:\n",
    "                times[backend].append(delta)\n",
    "            else:\n",
    "                if resp:\n",
    "                    log.error('stauts: %d, response: %s', resp.status_code, resp.text)\n",
    "                failed[backend] += 1\n",
    "                \n",
    "    frame = stats_table(backends, counts, times, runs, failed)\n",
    "    display(frame)\n",
    "    \n",
    "    summary = pd.concat([summary, frame[('', 'n times slower')].astype(float)], axis=1, ignore_index=True)\n",
    "    \n",
    "    size = max(len(times[x]) for x in backends)\n",
    "    if size > 1:\n",
    "        ax = violin_plot(backends, times, size)\n",
    "        display(ax)"
   ]
  },
  {
   "cell_type": "code",
   "execution_count": 12,
   "metadata": {},
   "outputs": [
    {
     "data": {
      "text/plain": [
       "'f392-5764f9d0f0a6a9a12d88383853273c86-a74c4710'"
      ]
     },
     "execution_count": 12,
     "metadata": {},
     "output_type": "execute_result"
    }
   ],
   "source": [
    "def get_new_id(resource_type):\n",
    "    type_field = hashlib.sha512(resource_type.encode()).hexdigest()[:4]\n",
    "    random_field = os.urandom(16).hex()\n",
    "    checksum_field = hashlib.sha512((type_field + random_field).encode()).hexdigest()[:8]\n",
    "    return '-'.join([type_field, random_field, checksum_field])\n",
    "\n",
    "get_new_id('org')"
   ]
  },
  {
   "cell_type": "code",
   "execution_count": 13,
   "metadata": {},
   "outputs": [
    {
     "data": {
      "application/vnd.jupyter.widget-view+json": {
       "model_id": "860c6a2086b442f0af51c99b1fef695d",
       "version_major": 2,
       "version_minor": 0
      },
      "text/plain": [
       "HBox(children=(IntProgress(value=0, max=10000), HTML(value='')))"
      ]
     },
     "metadata": {},
     "output_type": "display_data"
    },
    {
     "name": "stdout",
     "output_type": "stream",
     "text": [
      "\n"
     ]
    }
   ],
   "source": [
    "with open('orgs.jsonl', 'w') as f:\n",
    "    for i in tqdm.tqdm_notebook(range(10_000)):\n",
    "        org =  {\n",
    "            'type': 'org',\n",
    "            'country': 'FI',\n",
    "            'names': (\n",
    "                [fake.company(), fake.catch_phrase()]\n",
    "                if random.randint(0, 50) == 42 else\n",
    "                [fake.company()]\n",
    "            ),\n",
    "            'gov_org_ids': [\n",
    "                {\n",
    "                    'country': 'FI',\n",
    "                    'org_id_type': 'registration_number',\n",
    "                    'gov_org_id': fake.ssn(),\n",
    "                }\n",
    "            ],\n",
    "            'contacts': [\n",
    "                {\n",
    "                    'contact_type': 'phone',\n",
    "                    'phone_number': fake.phone_number(),\n",
    "                    'full_address': fake.address(),\n",
    "                    'contact_timestamp': str(time.time()),\n",
    "                    'country': fake.country_code(),\n",
    "                    'contact_roles': [],\n",
    "                    'address_lines': fake.address().splitlines(),\n",
    "                    'post_code': None,\n",
    "                    'post_area': None,\n",
    "                    'einvoice_operator': None,\n",
    "                    'contact_source': 'qvarn-genarator',\n",
    "                    'einvoice_address': None,\n",
    "                    'email_address': None,\n",
    "                }\n",
    "                for i in range(random.randint(1, 5))\n",
    "            ],\n",
    "        }\n",
    "        json.dump(org, f, ensure_ascii=False)\n",
    "        f.write('\\n')"
   ]
  },
  {
   "cell_type": "code",
   "execution_count": 14,
   "metadata": {},
   "outputs": [],
   "source": [
    "def read_orgs():\n",
    "    with open('orgs.jsonl') as f:\n",
    "        yield from map(json.loads, f)\n",
    "            \n",
    "def gen_orgs(backends):\n",
    "    return {backend: read_orgs() for backend in backends}\n",
    "    \n",
    "orgs = gen_orgs(backends)"
   ]
  },
  {
   "cell_type": "code",
   "execution_count": 38,
   "metadata": {},
   "outputs": [
    {
     "data": {
      "application/vnd.jupyter.widget-view+json": {
       "model_id": "",
       "version_major": 2,
       "version_minor": 0
      },
      "text/plain": [
       "HBox(children=(IntProgress(value=1, bar_style='info', description='delete: qvarn', max=1), HTML(value='')))"
      ]
     },
     "metadata": {},
     "output_type": "display_data"
    },
    {
     "name": "stdout",
     "output_type": "stream",
     "text": [
      "\r"
     ]
    },
    {
     "data": {
      "application/vnd.jupyter.widget-view+json": {
       "model_id": "",
       "version_major": 2,
       "version_minor": 0
      },
      "text/plain": [
       "HBox(children=(IntProgress(value=1, bar_style='info', description='delete: jsonb', max=1), HTML(value='')))"
      ]
     },
     "metadata": {},
     "output_type": "display_data"
    },
    {
     "name": "stdout",
     "output_type": "stream",
     "text": [
      "\r"
     ]
    },
    {
     "data": {
      "application/vnd.jupyter.widget-view+json": {
       "model_id": "",
       "version_major": 2,
       "version_minor": 0
      },
      "text/plain": [
       "HBox(children=(IntProgress(value=1, bar_style='info', description='delete: planb', max=1), HTML(value='')))"
      ]
     },
     "metadata": {},
     "output_type": "display_data"
    },
    {
     "name": "stdout",
     "output_type": "stream",
     "text": [
      "\r"
     ]
    },
    {
     "data": {
      "text/html": [
       "<div>\n",
       "<style scoped>\n",
       "    .dataframe tbody tr th:only-of-type {\n",
       "        vertical-align: middle;\n",
       "    }\n",
       "\n",
       "    .dataframe tbody tr th {\n",
       "        vertical-align: top;\n",
       "    }\n",
       "\n",
       "    .dataframe thead tr th {\n",
       "        text-align: left;\n",
       "    }\n",
       "</style>\n",
       "<table border=\"1\" class=\"dataframe\">\n",
       "  <thead>\n",
       "    <tr>\n",
       "      <th></th>\n",
       "      <th colspan=\"2\" halign=\"left\">delete orgs</th>\n",
       "      <th colspan=\"2\" halign=\"left\">create orgs</th>\n",
       "      <th></th>\n",
       "    </tr>\n",
       "    <tr>\n",
       "      <th></th>\n",
       "      <th>deleted</th>\n",
       "      <th>failed</th>\n",
       "      <th>created</th>\n",
       "      <th>failed</th>\n",
       "      <th>orgs</th>\n",
       "    </tr>\n",
       "  </thead>\n",
       "  <tbody>\n",
       "    <tr>\n",
       "      <th>qvarn</th>\n",
       "      <td>0</td>\n",
       "      <td>0</td>\n",
       "      <td>0</td>\n",
       "      <td>0</td>\n",
       "      <td>0</td>\n",
       "    </tr>\n",
       "    <tr>\n",
       "      <th>jsonb</th>\n",
       "      <td>0</td>\n",
       "      <td>0</td>\n",
       "      <td>0</td>\n",
       "      <td>0</td>\n",
       "      <td>0</td>\n",
       "    </tr>\n",
       "    <tr>\n",
       "      <th>planb</th>\n",
       "      <td>0</td>\n",
       "      <td>0</td>\n",
       "      <td>0</td>\n",
       "      <td>0</td>\n",
       "      <td>0</td>\n",
       "    </tr>\n",
       "  </tbody>\n",
       "</table>\n",
       "</div>"
      ],
      "text/plain": [
       "      delete orgs        create orgs            \n",
       "          deleted failed     created failed orgs\n",
       "qvarn           0      0           0      0    0\n",
       "jsonb           0      0           0      0    0\n",
       "planb           0      0           0      0    0"
      ]
     },
     "execution_count": 38,
     "metadata": {},
     "output_type": "execute_result"
    }
   ],
   "source": [
    "def delete_orgs(backends):\n",
    "    result = {}\n",
    "    for backend in backends:\n",
    "        success = failure = 0\n",
    "        for resource in tqdm.tqdm_notebook(session.get(f'{backend}/orgs').json()['resources'], f'delete: {names[backend]}', leave=False):\n",
    "            try:\n",
    "                resp = session.delete(f'{backend}/orgs/{resource[\"id\"]}')\n",
    "            except requests.ConnectionError:\n",
    "                log.exception('error while deleteing %s', resource['id'])\n",
    "                failure += 1\n",
    "            else:\n",
    "                if resp.ok:\n",
    "                    success += 1\n",
    "                else:\n",
    "                    failure += 1\n",
    "        result[backend] = {'success': success, 'failure': failure}\n",
    "    return result\n",
    "            \n",
    "            \n",
    "def create_orgs(n, backends):\n",
    "    result = {}\n",
    "    for backend in backends:\n",
    "        success = failure = 0\n",
    "        for resource in tqdm.tqdm_notebook(itertools.islice(orgs[backend], n), f'create: {names[backend]}', total=n, leave=False):\n",
    "            try:\n",
    "                resp = session.post(f'{backend}/orgs', json=resource)\n",
    "            except requests.ConnectionError:\n",
    "                log.exception('error while creating resource')\n",
    "                failure += 1\n",
    "            else:\n",
    "                if resp.ok:\n",
    "                    success += 1\n",
    "                else:\n",
    "                    failure += 1\n",
    "        result[backend] = {'success': success, 'failure': failure}\n",
    "    return result\n",
    "            \n",
    "\n",
    "def reset(n, backends, delete=True):\n",
    "    global orgs\n",
    "    orgs = gen_orgs(backends)\n",
    "    deleted = delete_orgs(backends) if delete else {x: {'success': 0, 'failure': 0} for x in backends}\n",
    "    created = create_orgs(n, backends) if n > 0 else {x: {'success': 0, 'failure': 0} for x in backends}\n",
    "    return pd.DataFrame(collections.OrderedDict([\n",
    "        (('delete orgs', 'deleted'), [deleted[x]['success'] for x in backends]),\n",
    "        (('delete orgs', 'failed'), [deleted[x]['failure'] for x in backends]),\n",
    "        (('create orgs', 'created'), [created[x]['success'] for x in backends]),\n",
    "        (('create orgs', 'failed'), [created[x]['failure'] for x in backends]),\n",
    "        (('', 'orgs'), [len(session.get(f'{x}/orgs').json()['resources']) for x in backends]),\n",
    "    ]), index=[names[x] for x in backends])\n",
    "    \n",
    "reset(0, backends)"
   ]
  },
  {
   "cell_type": "code",
   "execution_count": 31,
   "metadata": {},
   "outputs": [
    {
     "data": {
      "application/vnd.jupyter.widget-view+json": {
       "model_id": "",
       "version_major": 2,
       "version_minor": 0
      },
      "text/plain": [
       "HBox(children=(IntProgress(value=0, description='qvarn'), HTML(value='')))"
      ]
     },
     "metadata": {},
     "output_type": "display_data"
    },
    {
     "name": "stdout",
     "output_type": "stream",
     "text": [
      "\r"
     ]
    },
    {
     "data": {
      "application/vnd.jupyter.widget-view+json": {
       "model_id": "",
       "version_major": 2,
       "version_minor": 0
      },
      "text/plain": [
       "HBox(children=(IntProgress(value=0, description='jsonb'), HTML(value='')))"
      ]
     },
     "metadata": {},
     "output_type": "display_data"
    },
    {
     "name": "stdout",
     "output_type": "stream",
     "text": [
      "\r"
     ]
    },
    {
     "data": {
      "application/vnd.jupyter.widget-view+json": {
       "model_id": "",
       "version_major": 2,
       "version_minor": 0
      },
      "text/plain": [
       "HBox(children=(IntProgress(value=0, description='planb'), HTML(value='')))"
      ]
     },
     "metadata": {},
     "output_type": "display_data"
    },
    {
     "name": "stdout",
     "output_type": "stream",
     "text": [
      "\r"
     ]
    },
    {
     "data": {
      "text/html": [
       "<div>\n",
       "<style scoped>\n",
       "    .dataframe tbody tr th:only-of-type {\n",
       "        vertical-align: middle;\n",
       "    }\n",
       "\n",
       "    .dataframe tbody tr th {\n",
       "        vertical-align: top;\n",
       "    }\n",
       "\n",
       "    .dataframe thead tr th {\n",
       "        text-align: left;\n",
       "    }\n",
       "</style>\n",
       "<table border=\"1\" class=\"dataframe\">\n",
       "  <thead>\n",
       "    <tr>\n",
       "      <th></th>\n",
       "      <th colspan=\"2\" halign=\"left\">iterations</th>\n",
       "      <th colspan=\"4\" halign=\"left\">time in seconds</th>\n",
       "      <th colspan=\"2\" halign=\"left\"></th>\n",
       "    </tr>\n",
       "    <tr>\n",
       "      <th></th>\n",
       "      <th>total</th>\n",
       "      <th>failed</th>\n",
       "      <th>total</th>\n",
       "      <th>mean</th>\n",
       "      <th>median</th>\n",
       "      <th>stdev</th>\n",
       "      <th>n resources</th>\n",
       "      <th>n times slower</th>\n",
       "    </tr>\n",
       "  </thead>\n",
       "  <tbody>\n",
       "    <tr>\n",
       "      <th>planb</th>\n",
       "      <td>100</td>\n",
       "      <td>0</td>\n",
       "      <td>0.914601</td>\n",
       "      <td>0.009146</td>\n",
       "      <td>0.008819</td>\n",
       "      <td>0.002037</td>\n",
       "      <td>0</td>\n",
       "      <td>1.0</td>\n",
       "    </tr>\n",
       "    <tr>\n",
       "      <th>qvarn</th>\n",
       "      <td>100</td>\n",
       "      <td>0</td>\n",
       "      <td>1.867133</td>\n",
       "      <td>0.018671</td>\n",
       "      <td>0.018578</td>\n",
       "      <td>0.001640</td>\n",
       "      <td>0</td>\n",
       "      <td>2.1</td>\n",
       "    </tr>\n",
       "    <tr>\n",
       "      <th>jsonb</th>\n",
       "      <td>100</td>\n",
       "      <td>0</td>\n",
       "      <td>2.332783</td>\n",
       "      <td>0.023328</td>\n",
       "      <td>0.022949</td>\n",
       "      <td>0.002333</td>\n",
       "      <td>0</td>\n",
       "      <td>2.6</td>\n",
       "    </tr>\n",
       "  </tbody>\n",
       "</table>\n",
       "</div>"
      ],
      "text/plain": [
       "      iterations        time in seconds                                \\\n",
       "           total failed           total      mean    median     stdev   \n",
       "planb        100      0        0.914601  0.009146  0.008819  0.002037   \n",
       "qvarn        100      0        1.867133  0.018671  0.018578  0.001640   \n",
       "jsonb        100      0        2.332783  0.023328  0.022949  0.002333   \n",
       "\n",
       "                                  \n",
       "      n resources n times slower  \n",
       "planb           0            1.0  \n",
       "qvarn           0            2.1  \n",
       "jsonb           0            2.6"
      ]
     },
     "metadata": {},
     "output_type": "display_data"
    },
    {
     "data": {
      "text/plain": [
       "<matplotlib.axes._subplots.AxesSubplot object at 0x7f3d0837e780>"
      ]
     },
     "metadata": {},
     "output_type": "display_data"
    },
    {
     "data": {
      "image/png": "[encoded data removed]",
      "text/plain": [
       "<Figure size 1152x576 with 1 Axes>"
      ]
     },
     "metadata": {},
     "output_type": "display_data"
    }
   ],
   "source": [
    "class CreateOrgs(Test):\n",
    "    \n",
    "    def __iter__(self):\n",
    "        yield from itertools.islice(orgs[self.backend], self.total)\n",
    "    \n",
    "    def __call__(self, item):\n",
    "        return session.post(f'{self.backend}/orgs', json=org)\n",
    "    \n",
    "measure(100, backends, CreateOrgs)"
   ]
  },
  {
   "cell_type": "code",
   "execution_count": 32,
   "metadata": {},
   "outputs": [
    {
     "data": {
      "application/vnd.jupyter.widget-view+json": {
       "model_id": "",
       "version_major": 2,
       "version_minor": 0
      },
      "text/plain": [
       "HBox(children=(IntProgress(value=0, description='qvarn'), HTML(value='')))"
      ]
     },
     "metadata": {},
     "output_type": "display_data"
    },
    {
     "name": "stdout",
     "output_type": "stream",
     "text": [
      "\r"
     ]
    },
    {
     "data": {
      "application/vnd.jupyter.widget-view+json": {
       "model_id": "",
       "version_major": 2,
       "version_minor": 0
      },
      "text/plain": [
       "HBox(children=(IntProgress(value=0, description='jsonb'), HTML(value='')))"
      ]
     },
     "metadata": {},
     "output_type": "display_data"
    },
    {
     "name": "stdout",
     "output_type": "stream",
     "text": [
      "\r"
     ]
    },
    {
     "data": {
      "application/vnd.jupyter.widget-view+json": {
       "model_id": "",
       "version_major": 2,
       "version_minor": 0
      },
      "text/plain": [
       "HBox(children=(IntProgress(value=0, description='planb'), HTML(value='')))"
      ]
     },
     "metadata": {},
     "output_type": "display_data"
    },
    {
     "name": "stdout",
     "output_type": "stream",
     "text": [
      "\r"
     ]
    },
    {
     "data": {
      "text/html": [
       "<div>\n",
       "<style scoped>\n",
       "    .dataframe tbody tr th:only-of-type {\n",
       "        vertical-align: middle;\n",
       "    }\n",
       "\n",
       "    .dataframe tbody tr th {\n",
       "        vertical-align: top;\n",
       "    }\n",
       "\n",
       "    .dataframe thead tr th {\n",
       "        text-align: left;\n",
       "    }\n",
       "</style>\n",
       "<table border=\"1\" class=\"dataframe\">\n",
       "  <thead>\n",
       "    <tr>\n",
       "      <th></th>\n",
       "      <th colspan=\"2\" halign=\"left\">iterations</th>\n",
       "      <th colspan=\"4\" halign=\"left\">time in seconds</th>\n",
       "      <th colspan=\"2\" halign=\"left\"></th>\n",
       "    </tr>\n",
       "    <tr>\n",
       "      <th></th>\n",
       "      <th>total</th>\n",
       "      <th>failed</th>\n",
       "      <th>total</th>\n",
       "      <th>mean</th>\n",
       "      <th>median</th>\n",
       "      <th>stdev</th>\n",
       "      <th>n resources</th>\n",
       "      <th>n times slower</th>\n",
       "    </tr>\n",
       "  </thead>\n",
       "  <tbody>\n",
       "    <tr>\n",
       "      <th>planb</th>\n",
       "      <td>100</td>\n",
       "      <td>0</td>\n",
       "      <td>1.284953</td>\n",
       "      <td>0.012850</td>\n",
       "      <td>0.012826</td>\n",
       "      <td>0.001891</td>\n",
       "      <td>100</td>\n",
       "      <td>1.0</td>\n",
       "    </tr>\n",
       "    <tr>\n",
       "      <th>qvarn</th>\n",
       "      <td>100</td>\n",
       "      <td>2</td>\n",
       "      <td>2.165899</td>\n",
       "      <td>0.022101</td>\n",
       "      <td>0.022046</td>\n",
       "      <td>0.002258</td>\n",
       "      <td>100</td>\n",
       "      <td>1.7</td>\n",
       "    </tr>\n",
       "    <tr>\n",
       "      <th>jsonb</th>\n",
       "      <td>100</td>\n",
       "      <td>0</td>\n",
       "      <td>2.454223</td>\n",
       "      <td>0.024542</td>\n",
       "      <td>0.023926</td>\n",
       "      <td>0.003123</td>\n",
       "      <td>100</td>\n",
       "      <td>1.9</td>\n",
       "    </tr>\n",
       "  </tbody>\n",
       "</table>\n",
       "</div>"
      ],
      "text/plain": [
       "      iterations        time in seconds                                \\\n",
       "           total failed           total      mean    median     stdev   \n",
       "planb        100      0        1.284953  0.012850  0.012826  0.001891   \n",
       "qvarn        100      2        2.165899  0.022101  0.022046  0.002258   \n",
       "jsonb        100      0        2.454223  0.024542  0.023926  0.003123   \n",
       "\n",
       "                                  \n",
       "      n resources n times slower  \n",
       "planb         100            1.0  \n",
       "qvarn         100            1.7  \n",
       "jsonb         100            1.9"
      ]
     },
     "metadata": {},
     "output_type": "display_data"
    },
    {
     "data": {
      "text/plain": [
       "<matplotlib.axes._subplots.AxesSubplot object at 0x7f3d0825aeb8>"
      ]
     },
     "metadata": {},
     "output_type": "display_data"
    },
    {
     "data": {
      "image/png": "[encoded data removed]",
      "text/plain": [
       "<Figure size 1152x576 with 1 Axes>"
      ]
     },
     "metadata": {},
     "output_type": "display_data"
    }
   ],
   "source": [
    "class UpdateOrgs(Test):\n",
    "    \n",
    "    def __iter__(self):\n",
    "        for resource in session.get(f'{self.backend}/orgs').json()['resources'][:self.total]:\n",
    "            try:\n",
    "                yield session.get(f'{self.backend}/orgs/{resource[\"id\"]}').json()\n",
    "            except requests.ConnectionError:\n",
    "                pass\n",
    "        \n",
    "    def __call__(self, resource):\n",
    "        resource = dict(next(orgs[self.backend]), id=resource['id'], revision=resource['revision'])\n",
    "        return session.put(f'{self.backend}/orgs/{resource[\"id\"]}', json=resource)\n",
    "    \n",
    "measure(100, backends, UpdateOrgs)"
   ]
  },
  {
   "cell_type": "code",
   "execution_count": 33,
   "metadata": {},
   "outputs": [
    {
     "data": {
      "application/vnd.jupyter.widget-view+json": {
       "model_id": "",
       "version_major": 2,
       "version_minor": 0
      },
      "text/plain": [
       "HBox(children=(IntProgress(value=0, description='qvarn'), HTML(value='')))"
      ]
     },
     "metadata": {},
     "output_type": "display_data"
    },
    {
     "name": "stdout",
     "output_type": "stream",
     "text": [
      "\r"
     ]
    },
    {
     "data": {
      "application/vnd.jupyter.widget-view+json": {
       "model_id": "",
       "version_major": 2,
       "version_minor": 0
      },
      "text/plain": [
       "HBox(children=(IntProgress(value=0, description='jsonb'), HTML(value='')))"
      ]
     },
     "metadata": {},
     "output_type": "display_data"
    },
    {
     "name": "stdout",
     "output_type": "stream",
     "text": [
      "\r"
     ]
    },
    {
     "data": {
      "application/vnd.jupyter.widget-view+json": {
       "model_id": "",
       "version_major": 2,
       "version_minor": 0
      },
      "text/plain": [
       "HBox(children=(IntProgress(value=0, description='planb'), HTML(value='')))"
      ]
     },
     "metadata": {},
     "output_type": "display_data"
    },
    {
     "name": "stdout",
     "output_type": "stream",
     "text": [
      "\r"
     ]
    },
    {
     "data": {
      "text/html": [
       "<div>\n",
       "<style scoped>\n",
       "    .dataframe tbody tr th:only-of-type {\n",
       "        vertical-align: middle;\n",
       "    }\n",
       "\n",
       "    .dataframe tbody tr th {\n",
       "        vertical-align: top;\n",
       "    }\n",
       "\n",
       "    .dataframe thead tr th {\n",
       "        text-align: left;\n",
       "    }\n",
       "</style>\n",
       "<table border=\"1\" class=\"dataframe\">\n",
       "  <thead>\n",
       "    <tr>\n",
       "      <th></th>\n",
       "      <th colspan=\"2\" halign=\"left\">iterations</th>\n",
       "      <th colspan=\"4\" halign=\"left\">time in seconds</th>\n",
       "      <th colspan=\"2\" halign=\"left\"></th>\n",
       "    </tr>\n",
       "    <tr>\n",
       "      <th></th>\n",
       "      <th>total</th>\n",
       "      <th>failed</th>\n",
       "      <th>total</th>\n",
       "      <th>mean</th>\n",
       "      <th>median</th>\n",
       "      <th>stdev</th>\n",
       "      <th>n resources</th>\n",
       "      <th>n times slower</th>\n",
       "    </tr>\n",
       "  </thead>\n",
       "  <tbody>\n",
       "    <tr>\n",
       "      <th>planb</th>\n",
       "      <td>100</td>\n",
       "      <td>0</td>\n",
       "      <td>0.769943</td>\n",
       "      <td>0.007699</td>\n",
       "      <td>0.007549</td>\n",
       "      <td>0.001060</td>\n",
       "      <td>100</td>\n",
       "      <td>1.0</td>\n",
       "    </tr>\n",
       "    <tr>\n",
       "      <th>jsonb</th>\n",
       "      <td>100</td>\n",
       "      <td>0</td>\n",
       "      <td>1.155926</td>\n",
       "      <td>0.011559</td>\n",
       "      <td>0.011207</td>\n",
       "      <td>0.001804</td>\n",
       "      <td>100</td>\n",
       "      <td>1.5</td>\n",
       "    </tr>\n",
       "    <tr>\n",
       "      <th>qvarn</th>\n",
       "      <td>100</td>\n",
       "      <td>0</td>\n",
       "      <td>1.829684</td>\n",
       "      <td>0.018297</td>\n",
       "      <td>0.017959</td>\n",
       "      <td>0.001828</td>\n",
       "      <td>100</td>\n",
       "      <td>2.4</td>\n",
       "    </tr>\n",
       "  </tbody>\n",
       "</table>\n",
       "</div>"
      ],
      "text/plain": [
       "      iterations        time in seconds                                \\\n",
       "           total failed           total      mean    median     stdev   \n",
       "planb        100      0        0.769943  0.007699  0.007549  0.001060   \n",
       "jsonb        100      0        1.155926  0.011559  0.011207  0.001804   \n",
       "qvarn        100      0        1.829684  0.018297  0.017959  0.001828   \n",
       "\n",
       "                                  \n",
       "      n resources n times slower  \n",
       "planb         100            1.0  \n",
       "jsonb         100            1.5  \n",
       "qvarn         100            2.4"
      ]
     },
     "metadata": {},
     "output_type": "display_data"
    },
    {
     "data": {
      "text/plain": [
       "<matplotlib.axes._subplots.AxesSubplot object at 0x7f3d08282588>"
      ]
     },
     "metadata": {},
     "output_type": "display_data"
    },
    {
     "data": {
      "image/png": "[encoded data removed]",
      "text/plain": [
       "<Figure size 1152x576 with 1 Axes>"
      ]
     },
     "metadata": {},
     "output_type": "display_data"
    }
   ],
   "source": [
    "class DeleteResources(Test):\n",
    "    \n",
    "    def prepare(self, resource_type):\n",
    "        self.resource_type = resource_type\n",
    "        self.resp = session.get(f'{self.backend}/{resource_type}').json()\n",
    "        self.total = len(self.resp['resources'])\n",
    "        \n",
    "    def __iter__(self):\n",
    "        yield from iter(self.resp['resources'])\n",
    "            \n",
    "    def __call__(self, resource):\n",
    "        return session.delete(f'{self.backend}/{self.resource_type}/{resource[\"id\"]}')\n",
    "\n",
    "measure(None, backends, DeleteResources, 'orgs')"
   ]
  },
  {
   "cell_type": "code",
   "execution_count": 39,
   "metadata": {},
   "outputs": [
    {
     "data": {
      "application/vnd.jupyter.widget-view+json": {
       "model_id": "",
       "version_major": 2,
       "version_minor": 0
      },
      "text/plain": [
       "HBox(children=(IntProgress(value=1, bar_style='info', description='delete: qvarn', max=1), HTML(value='')))"
      ]
     },
     "metadata": {},
     "output_type": "display_data"
    },
    {
     "name": "stdout",
     "output_type": "stream",
     "text": [
      "\r"
     ]
    },
    {
     "data": {
      "application/vnd.jupyter.widget-view+json": {
       "model_id": "",
       "version_major": 2,
       "version_minor": 0
      },
      "text/plain": [
       "HBox(children=(IntProgress(value=1, bar_style='info', description='delete: jsonb', max=1), HTML(value='')))"
      ]
     },
     "metadata": {},
     "output_type": "display_data"
    },
    {
     "name": "stdout",
     "output_type": "stream",
     "text": [
      "\r"
     ]
    },
    {
     "data": {
      "application/vnd.jupyter.widget-view+json": {
       "model_id": "",
       "version_major": 2,
       "version_minor": 0
      },
      "text/plain": [
       "HBox(children=(IntProgress(value=1, bar_style='info', description='delete: planb', max=1), HTML(value='')))"
      ]
     },
     "metadata": {},
     "output_type": "display_data"
    },
    {
     "name": "stdout",
     "output_type": "stream",
     "text": [
      "\r"
     ]
    },
    {
     "data": {
      "application/vnd.jupyter.widget-view+json": {
       "model_id": "",
       "version_major": 2,
       "version_minor": 0
      },
      "text/plain": [
       "HBox(children=(IntProgress(value=0, description='create: qvarn'), HTML(value='')))"
      ]
     },
     "metadata": {},
     "output_type": "display_data"
    },
    {
     "name": "stdout",
     "output_type": "stream",
     "text": [
      "\r"
     ]
    },
    {
     "data": {
      "application/vnd.jupyter.widget-view+json": {
       "model_id": "",
       "version_major": 2,
       "version_minor": 0
      },
      "text/plain": [
       "HBox(children=(IntProgress(value=0, description='create: jsonb'), HTML(value='')))"
      ]
     },
     "metadata": {},
     "output_type": "display_data"
    },
    {
     "name": "stdout",
     "output_type": "stream",
     "text": [
      "\r"
     ]
    },
    {
     "data": {
      "application/vnd.jupyter.widget-view+json": {
       "model_id": "",
       "version_major": 2,
       "version_minor": 0
      },
      "text/plain": [
       "HBox(children=(IntProgress(value=0, description='create: planb'), HTML(value='')))"
      ]
     },
     "metadata": {},
     "output_type": "display_data"
    },
    {
     "name": "stdout",
     "output_type": "stream",
     "text": [
      "\r"
     ]
    },
    {
     "data": {
      "text/html": [
       "<div>\n",
       "<style scoped>\n",
       "    .dataframe tbody tr th:only-of-type {\n",
       "        vertical-align: middle;\n",
       "    }\n",
       "\n",
       "    .dataframe tbody tr th {\n",
       "        vertical-align: top;\n",
       "    }\n",
       "\n",
       "    .dataframe thead tr th {\n",
       "        text-align: left;\n",
       "    }\n",
       "</style>\n",
       "<table border=\"1\" class=\"dataframe\">\n",
       "  <thead>\n",
       "    <tr>\n",
       "      <th></th>\n",
       "      <th colspan=\"2\" halign=\"left\">delete orgs</th>\n",
       "      <th colspan=\"2\" halign=\"left\">create orgs</th>\n",
       "      <th></th>\n",
       "    </tr>\n",
       "    <tr>\n",
       "      <th></th>\n",
       "      <th>deleted</th>\n",
       "      <th>failed</th>\n",
       "      <th>created</th>\n",
       "      <th>failed</th>\n",
       "      <th>orgs</th>\n",
       "    </tr>\n",
       "  </thead>\n",
       "  <tbody>\n",
       "    <tr>\n",
       "      <th>qvarn</th>\n",
       "      <td>0</td>\n",
       "      <td>0</td>\n",
       "      <td>100</td>\n",
       "      <td>0</td>\n",
       "      <td>100</td>\n",
       "    </tr>\n",
       "    <tr>\n",
       "      <th>jsonb</th>\n",
       "      <td>0</td>\n",
       "      <td>0</td>\n",
       "      <td>100</td>\n",
       "      <td>0</td>\n",
       "      <td>100</td>\n",
       "    </tr>\n",
       "    <tr>\n",
       "      <th>planb</th>\n",
       "      <td>0</td>\n",
       "      <td>0</td>\n",
       "      <td>100</td>\n",
       "      <td>0</td>\n",
       "      <td>100</td>\n",
       "    </tr>\n",
       "  </tbody>\n",
       "</table>\n",
       "</div>"
      ],
      "text/plain": [
       "      delete orgs        create orgs            \n",
       "          deleted failed     created failed orgs\n",
       "qvarn           0      0         100      0  100\n",
       "jsonb           0      0         100      0  100\n",
       "planb           0      0         100      0  100"
      ]
     },
     "execution_count": 39,
     "metadata": {},
     "output_type": "execute_result"
    }
   ],
   "source": [
    "reset(100, backends)"
   ]
  },
  {
   "cell_type": "code",
   "execution_count": 40,
   "metadata": {},
   "outputs": [
    {
     "data": {
      "application/vnd.jupyter.widget-view+json": {
       "model_id": "",
       "version_major": 2,
       "version_minor": 0
      },
      "text/plain": [
       "HBox(children=(IntProgress(value=0, description='qvarn'), HTML(value='')))"
      ]
     },
     "metadata": {},
     "output_type": "display_data"
    },
    {
     "name": "stdout",
     "output_type": "stream",
     "text": [
      "\r"
     ]
    },
    {
     "data": {
      "application/vnd.jupyter.widget-view+json": {
       "model_id": "",
       "version_major": 2,
       "version_minor": 0
      },
      "text/plain": [
       "HBox(children=(IntProgress(value=0, description='jsonb'), HTML(value='')))"
      ]
     },
     "metadata": {},
     "output_type": "display_data"
    },
    {
     "name": "stdout",
     "output_type": "stream",
     "text": [
      "\r"
     ]
    },
    {
     "data": {
      "application/vnd.jupyter.widget-view+json": {
       "model_id": "",
       "version_major": 2,
       "version_minor": 0
      },
      "text/plain": [
       "HBox(children=(IntProgress(value=0, description='planb'), HTML(value='')))"
      ]
     },
     "metadata": {},
     "output_type": "display_data"
    },
    {
     "name": "stdout",
     "output_type": "stream",
     "text": [
      "\r"
     ]
    },
    {
     "data": {
      "text/html": [
       "<div>\n",
       "<style scoped>\n",
       "    .dataframe tbody tr th:only-of-type {\n",
       "        vertical-align: middle;\n",
       "    }\n",
       "\n",
       "    .dataframe tbody tr th {\n",
       "        vertical-align: top;\n",
       "    }\n",
       "\n",
       "    .dataframe thead tr th {\n",
       "        text-align: left;\n",
       "    }\n",
       "</style>\n",
       "<table border=\"1\" class=\"dataframe\">\n",
       "  <thead>\n",
       "    <tr>\n",
       "      <th></th>\n",
       "      <th colspan=\"2\" halign=\"left\">iterations</th>\n",
       "      <th colspan=\"4\" halign=\"left\">time in seconds</th>\n",
       "      <th colspan=\"2\" halign=\"left\"></th>\n",
       "    </tr>\n",
       "    <tr>\n",
       "      <th></th>\n",
       "      <th>total</th>\n",
       "      <th>failed</th>\n",
       "      <th>total</th>\n",
       "      <th>mean</th>\n",
       "      <th>median</th>\n",
       "      <th>stdev</th>\n",
       "      <th>n resources</th>\n",
       "      <th>n times slower</th>\n",
       "    </tr>\n",
       "  </thead>\n",
       "  <tbody>\n",
       "    <tr>\n",
       "      <th>planb</th>\n",
       "      <td>100</td>\n",
       "      <td>0</td>\n",
       "      <td>0.578755</td>\n",
       "      <td>0.005788</td>\n",
       "      <td>0.005563</td>\n",
       "      <td>0.001144</td>\n",
       "      <td>100</td>\n",
       "      <td>1.0</td>\n",
       "    </tr>\n",
       "    <tr>\n",
       "      <th>qvarn</th>\n",
       "      <td>100</td>\n",
       "      <td>3</td>\n",
       "      <td>0.647133</td>\n",
       "      <td>0.006671</td>\n",
       "      <td>0.006623</td>\n",
       "      <td>0.000874</td>\n",
       "      <td>100</td>\n",
       "      <td>1.2</td>\n",
       "    </tr>\n",
       "    <tr>\n",
       "      <th>jsonb</th>\n",
       "      <td>100</td>\n",
       "      <td>0</td>\n",
       "      <td>1.677517</td>\n",
       "      <td>0.016775</td>\n",
       "      <td>0.016501</td>\n",
       "      <td>0.002507</td>\n",
       "      <td>100</td>\n",
       "      <td>3.0</td>\n",
       "    </tr>\n",
       "  </tbody>\n",
       "</table>\n",
       "</div>"
      ],
      "text/plain": [
       "      iterations        time in seconds                                \\\n",
       "           total failed           total      mean    median     stdev   \n",
       "planb        100      0        0.578755  0.005788  0.005563  0.001144   \n",
       "qvarn        100      3        0.647133  0.006671  0.006623  0.000874   \n",
       "jsonb        100      0        1.677517  0.016775  0.016501  0.002507   \n",
       "\n",
       "                                  \n",
       "      n resources n times slower  \n",
       "planb         100            1.0  \n",
       "qvarn         100            1.2  \n",
       "jsonb         100            3.0"
      ]
     },
     "metadata": {},
     "output_type": "display_data"
    },
    {
     "data": {
      "text/plain": [
       "<matplotlib.axes._subplots.AxesSubplot object at 0x7f3d07128898>"
      ]
     },
     "metadata": {},
     "output_type": "display_data"
    },
    {
     "data": {
      "image/png": "[encoded data removed]",
      "text/plain": [
       "<Figure size 1152x576 with 1 Axes>"
      ]
     },
     "metadata": {},
     "output_type": "display_data"
    }
   ],
   "source": [
    "class GetAll(Test):\n",
    "    def __call__(self, item):\n",
    "        return session.get(f'{self.backend}/orgs')\n",
    "    \n",
    "measure(100, backends, GetAll)"
   ]
  },
  {
   "cell_type": "code",
   "execution_count": 41,
   "metadata": {},
   "outputs": [
    {
     "data": {
      "application/vnd.jupyter.widget-view+json": {
       "model_id": "",
       "version_major": 2,
       "version_minor": 0
      },
      "text/plain": [
       "HBox(children=(IntProgress(value=0, description='qvarn'), HTML(value='')))"
      ]
     },
     "metadata": {},
     "output_type": "display_data"
    },
    {
     "name": "stdout",
     "output_type": "stream",
     "text": [
      "\r"
     ]
    },
    {
     "data": {
      "application/vnd.jupyter.widget-view+json": {
       "model_id": "",
       "version_major": 2,
       "version_minor": 0
      },
      "text/plain": [
       "HBox(children=(IntProgress(value=0, description='jsonb'), HTML(value='')))"
      ]
     },
     "metadata": {},
     "output_type": "display_data"
    },
    {
     "name": "stdout",
     "output_type": "stream",
     "text": [
      "\r"
     ]
    },
    {
     "data": {
      "application/vnd.jupyter.widget-view+json": {
       "model_id": "",
       "version_major": 2,
       "version_minor": 0
      },
      "text/plain": [
       "HBox(children=(IntProgress(value=0, description='planb'), HTML(value='')))"
      ]
     },
     "metadata": {},
     "output_type": "display_data"
    },
    {
     "name": "stdout",
     "output_type": "stream",
     "text": [
      "\r"
     ]
    },
    {
     "data": {
      "text/html": [
       "<div>\n",
       "<style scoped>\n",
       "    .dataframe tbody tr th:only-of-type {\n",
       "        vertical-align: middle;\n",
       "    }\n",
       "\n",
       "    .dataframe tbody tr th {\n",
       "        vertical-align: top;\n",
       "    }\n",
       "\n",
       "    .dataframe thead tr th {\n",
       "        text-align: left;\n",
       "    }\n",
       "</style>\n",
       "<table border=\"1\" class=\"dataframe\">\n",
       "  <thead>\n",
       "    <tr>\n",
       "      <th></th>\n",
       "      <th colspan=\"2\" halign=\"left\">iterations</th>\n",
       "      <th colspan=\"4\" halign=\"left\">time in seconds</th>\n",
       "      <th colspan=\"2\" halign=\"left\"></th>\n",
       "    </tr>\n",
       "    <tr>\n",
       "      <th></th>\n",
       "      <th>total</th>\n",
       "      <th>failed</th>\n",
       "      <th>total</th>\n",
       "      <th>mean</th>\n",
       "      <th>median</th>\n",
       "      <th>stdev</th>\n",
       "      <th>n resources</th>\n",
       "      <th>n times slower</th>\n",
       "    </tr>\n",
       "  </thead>\n",
       "  <tbody>\n",
       "    <tr>\n",
       "      <th>planb</th>\n",
       "      <td>100</td>\n",
       "      <td>0</td>\n",
       "      <td>1.585997</td>\n",
       "      <td>0.015860</td>\n",
       "      <td>0.014778</td>\n",
       "      <td>0.004434</td>\n",
       "      <td>100</td>\n",
       "      <td>1.0</td>\n",
       "    </tr>\n",
       "    <tr>\n",
       "      <th>jsonb</th>\n",
       "      <td>100</td>\n",
       "      <td>0</td>\n",
       "      <td>20.123495</td>\n",
       "      <td>0.201235</td>\n",
       "      <td>0.201149</td>\n",
       "      <td>0.009945</td>\n",
       "      <td>100</td>\n",
       "      <td>13.6</td>\n",
       "    </tr>\n",
       "    <tr>\n",
       "      <th>qvarn</th>\n",
       "      <td>100</td>\n",
       "      <td>0</td>\n",
       "      <td>51.679059</td>\n",
       "      <td>0.516791</td>\n",
       "      <td>0.513634</td>\n",
       "      <td>0.017876</td>\n",
       "      <td>100</td>\n",
       "      <td>34.8</td>\n",
       "    </tr>\n",
       "  </tbody>\n",
       "</table>\n",
       "</div>"
      ],
      "text/plain": [
       "      iterations        time in seconds                                \\\n",
       "           total failed           total      mean    median     stdev   \n",
       "planb        100      0        1.585997  0.015860  0.014778  0.004434   \n",
       "jsonb        100      0       20.123495  0.201235  0.201149  0.009945   \n",
       "qvarn        100      0       51.679059  0.516791  0.513634  0.017876   \n",
       "\n",
       "                                  \n",
       "      n resources n times slower  \n",
       "planb         100            1.0  \n",
       "jsonb         100           13.6  \n",
       "qvarn         100           34.8"
      ]
     },
     "metadata": {},
     "output_type": "display_data"
    },
    {
     "data": {
      "text/plain": [
       "<matplotlib.axes._subplots.AxesSubplot object at 0x7f3d07537518>"
      ]
     },
     "metadata": {},
     "output_type": "display_data"
    },
    {
     "data": {
      "image/png": "[encoded data removed]",
      "text/plain": [
       "<Figure size 1152x576 with 1 Axes>"
      ]
     },
     "metadata": {},
     "output_type": "display_data"
    }
   ],
   "source": [
    "class SearchShowAll(Test):\n",
    "    \n",
    "    def __call__(self, item):\n",
    "        return session.get(f'{self.backend}/orgs/search/show_all')\n",
    "\n",
    "measure(100, backends, SearchShowAll)"
   ]
  },
  {
   "cell_type": "code",
   "execution_count": 42,
   "metadata": {},
   "outputs": [
    {
     "data": {
      "application/vnd.jupyter.widget-view+json": {
       "model_id": "",
       "version_major": 2,
       "version_minor": 0
      },
      "text/plain": [
       "HBox(children=(IntProgress(value=0, description='qvarn'), HTML(value='')))"
      ]
     },
     "metadata": {},
     "output_type": "display_data"
    },
    {
     "name": "stdout",
     "output_type": "stream",
     "text": [
      "\r"
     ]
    },
    {
     "data": {
      "application/vnd.jupyter.widget-view+json": {
       "model_id": "",
       "version_major": 2,
       "version_minor": 0
      },
      "text/plain": [
       "HBox(children=(IntProgress(value=0, description='jsonb'), HTML(value='')))"
      ]
     },
     "metadata": {},
     "output_type": "display_data"
    },
    {
     "name": "stdout",
     "output_type": "stream",
     "text": [
      "\r"
     ]
    },
    {
     "data": {
      "application/vnd.jupyter.widget-view+json": {
       "model_id": "",
       "version_major": 2,
       "version_minor": 0
      },
      "text/plain": [
       "HBox(children=(IntProgress(value=0, description='planb'), HTML(value='')))"
      ]
     },
     "metadata": {},
     "output_type": "display_data"
    },
    {
     "name": "stdout",
     "output_type": "stream",
     "text": [
      "\r"
     ]
    },
    {
     "data": {
      "text/html": [
       "<div>\n",
       "<style scoped>\n",
       "    .dataframe tbody tr th:only-of-type {\n",
       "        vertical-align: middle;\n",
       "    }\n",
       "\n",
       "    .dataframe tbody tr th {\n",
       "        vertical-align: top;\n",
       "    }\n",
       "\n",
       "    .dataframe thead tr th {\n",
       "        text-align: left;\n",
       "    }\n",
       "</style>\n",
       "<table border=\"1\" class=\"dataframe\">\n",
       "  <thead>\n",
       "    <tr>\n",
       "      <th></th>\n",
       "      <th colspan=\"2\" halign=\"left\">iterations</th>\n",
       "      <th colspan=\"4\" halign=\"left\">time in seconds</th>\n",
       "      <th colspan=\"2\" halign=\"left\"></th>\n",
       "    </tr>\n",
       "    <tr>\n",
       "      <th></th>\n",
       "      <th>total</th>\n",
       "      <th>failed</th>\n",
       "      <th>total</th>\n",
       "      <th>mean</th>\n",
       "      <th>median</th>\n",
       "      <th>stdev</th>\n",
       "      <th>n resources</th>\n",
       "      <th>n times slower</th>\n",
       "    </tr>\n",
       "  </thead>\n",
       "  <tbody>\n",
       "    <tr>\n",
       "      <th>planb</th>\n",
       "      <td>100</td>\n",
       "      <td>0</td>\n",
       "      <td>1.201439</td>\n",
       "      <td>0.012014</td>\n",
       "      <td>0.011595</td>\n",
       "      <td>0.001771</td>\n",
       "      <td>100</td>\n",
       "      <td>1.0</td>\n",
       "    </tr>\n",
       "    <tr>\n",
       "      <th>qvarn</th>\n",
       "      <td>100</td>\n",
       "      <td>0</td>\n",
       "      <td>8.905134</td>\n",
       "      <td>0.089051</td>\n",
       "      <td>0.088009</td>\n",
       "      <td>0.006739</td>\n",
       "      <td>100</td>\n",
       "      <td>7.6</td>\n",
       "    </tr>\n",
       "    <tr>\n",
       "      <th>jsonb</th>\n",
       "      <td>100</td>\n",
       "      <td>0</td>\n",
       "      <td>17.181096</td>\n",
       "      <td>0.171811</td>\n",
       "      <td>0.171276</td>\n",
       "      <td>0.008814</td>\n",
       "      <td>100</td>\n",
       "      <td>14.8</td>\n",
       "    </tr>\n",
       "  </tbody>\n",
       "</table>\n",
       "</div>"
      ],
      "text/plain": [
       "      iterations        time in seconds                                \\\n",
       "           total failed           total      mean    median     stdev   \n",
       "planb        100      0        1.201439  0.012014  0.011595  0.001771   \n",
       "qvarn        100      0        8.905134  0.089051  0.088009  0.006739   \n",
       "jsonb        100      0       17.181096  0.171811  0.171276  0.008814   \n",
       "\n",
       "                                  \n",
       "      n resources n times slower  \n",
       "planb         100            1.0  \n",
       "qvarn         100            7.6  \n",
       "jsonb         100           14.8"
      ]
     },
     "metadata": {},
     "output_type": "display_data"
    },
    {
     "data": {
      "text/plain": [
       "<matplotlib.axes._subplots.AxesSubplot object at 0x7f3d074c2ba8>"
      ]
     },
     "metadata": {},
     "output_type": "display_data"
    },
    {
     "data": {
      "image/png": "[encoded data removed]",
      "text/plain": [
       "<Figure size 1152x576 with 1 Axes>"
      ]
     },
     "metadata": {},
     "output_type": "display_data"
    }
   ],
   "source": [
    "class SearchShow(Test):\n",
    "    \n",
    "    def __call__(self, item):\n",
    "        return session.get(f'{self.backend}/orgs/search/show/names')\n",
    "\n",
    "measure(100, backends, SearchShow)"
   ]
  },
  {
   "cell_type": "code",
   "execution_count": 46,
   "metadata": {},
   "outputs": [
    {
     "data": {
      "application/vnd.jupyter.widget-view+json": {
       "model_id": "",
       "version_major": 2,
       "version_minor": 0
      },
      "text/plain": [
       "HBox(children=(IntProgress(value=0, description='create: qvarn', max=5000), HTML(value='')))"
      ]
     },
     "metadata": {},
     "output_type": "display_data"
    },
    {
     "name": "stdout",
     "output_type": "stream",
     "text": [
      "\r"
     ]
    },
    {
     "data": {
      "application/vnd.jupyter.widget-view+json": {
       "model_id": "",
       "version_major": 2,
       "version_minor": 0
      },
      "text/plain": [
       "HBox(children=(IntProgress(value=0, description='create: jsonb', max=5000), HTML(value='')))"
      ]
     },
     "metadata": {},
     "output_type": "display_data"
    },
    {
     "name": "stdout",
     "output_type": "stream",
     "text": [
      "\r"
     ]
    },
    {
     "data": {
      "application/vnd.jupyter.widget-view+json": {
       "model_id": "",
       "version_major": 2,
       "version_minor": 0
      },
      "text/plain": [
       "HBox(children=(IntProgress(value=0, description='create: planb', max=5000), HTML(value='')))"
      ]
     },
     "metadata": {},
     "output_type": "display_data"
    },
    {
     "name": "stdout",
     "output_type": "stream",
     "text": [
      "\r"
     ]
    },
    {
     "data": {
      "text/html": [
       "<div>\n",
       "<style scoped>\n",
       "    .dataframe tbody tr th:only-of-type {\n",
       "        vertical-align: middle;\n",
       "    }\n",
       "\n",
       "    .dataframe tbody tr th {\n",
       "        vertical-align: top;\n",
       "    }\n",
       "\n",
       "    .dataframe thead tr th {\n",
       "        text-align: left;\n",
       "    }\n",
       "</style>\n",
       "<table border=\"1\" class=\"dataframe\">\n",
       "  <thead>\n",
       "    <tr>\n",
       "      <th></th>\n",
       "      <th colspan=\"2\" halign=\"left\">delete orgs</th>\n",
       "      <th colspan=\"2\" halign=\"left\">create orgs</th>\n",
       "      <th></th>\n",
       "    </tr>\n",
       "    <tr>\n",
       "      <th></th>\n",
       "      <th>deleted</th>\n",
       "      <th>failed</th>\n",
       "      <th>created</th>\n",
       "      <th>failed</th>\n",
       "      <th>orgs</th>\n",
       "    </tr>\n",
       "  </thead>\n",
       "  <tbody>\n",
       "    <tr>\n",
       "      <th>qvarn</th>\n",
       "      <td>0</td>\n",
       "      <td>0</td>\n",
       "      <td>4992</td>\n",
       "      <td>8</td>\n",
       "      <td>5092</td>\n",
       "    </tr>\n",
       "    <tr>\n",
       "      <th>jsonb</th>\n",
       "      <td>0</td>\n",
       "      <td>0</td>\n",
       "      <td>5000</td>\n",
       "      <td>0</td>\n",
       "      <td>5100</td>\n",
       "    </tr>\n",
       "    <tr>\n",
       "      <th>planb</th>\n",
       "      <td>0</td>\n",
       "      <td>0</td>\n",
       "      <td>5000</td>\n",
       "      <td>0</td>\n",
       "      <td>5100</td>\n",
       "    </tr>\n",
       "  </tbody>\n",
       "</table>\n",
       "</div>"
      ],
      "text/plain": [
       "      delete orgs        create orgs             \n",
       "          deleted failed     created failed  orgs\n",
       "qvarn           0      0        4992      8  5092\n",
       "jsonb           0      0        5000      0  5100\n",
       "planb           0      0        5000      0  5100"
      ]
     },
     "execution_count": 46,
     "metadata": {},
     "output_type": "execute_result"
    }
   ],
   "source": [
    "reset(5000, backends, delete=False)"
   ]
  },
  {
   "cell_type": "code",
   "execution_count": 50,
   "metadata": {},
   "outputs": [
    {
     "data": {
      "application/vnd.jupyter.widget-view+json": {
       "model_id": "",
       "version_major": 2,
       "version_minor": 0
      },
      "text/plain": [
       "HBox(children=(IntProgress(value=0, description='qvarn'), HTML(value='')))"
      ]
     },
     "metadata": {},
     "output_type": "display_data"
    },
    {
     "name": "stdout",
     "output_type": "stream",
     "text": [
      "\r"
     ]
    },
    {
     "data": {
      "application/vnd.jupyter.widget-view+json": {
       "model_id": "",
       "version_major": 2,
       "version_minor": 0
      },
      "text/plain": [
       "HBox(children=(IntProgress(value=0, description='jsonb'), HTML(value='')))"
      ]
     },
     "metadata": {},
     "output_type": "display_data"
    },
    {
     "name": "stdout",
     "output_type": "stream",
     "text": [
      "\r"
     ]
    },
    {
     "data": {
      "application/vnd.jupyter.widget-view+json": {
       "model_id": "",
       "version_major": 2,
       "version_minor": 0
      },
      "text/plain": [
       "HBox(children=(IntProgress(value=0, description='planb'), HTML(value='')))"
      ]
     },
     "metadata": {},
     "output_type": "display_data"
    },
    {
     "name": "stdout",
     "output_type": "stream",
     "text": [
      "\r"
     ]
    },
    {
     "data": {
      "text/html": [
       "<div>\n",
       "<style scoped>\n",
       "    .dataframe tbody tr th:only-of-type {\n",
       "        vertical-align: middle;\n",
       "    }\n",
       "\n",
       "    .dataframe tbody tr th {\n",
       "        vertical-align: top;\n",
       "    }\n",
       "\n",
       "    .dataframe thead tr th {\n",
       "        text-align: left;\n",
       "    }\n",
       "</style>\n",
       "<table border=\"1\" class=\"dataframe\">\n",
       "  <thead>\n",
       "    <tr>\n",
       "      <th></th>\n",
       "      <th colspan=\"2\" halign=\"left\">iterations</th>\n",
       "      <th colspan=\"4\" halign=\"left\">time in seconds</th>\n",
       "      <th colspan=\"2\" halign=\"left\"></th>\n",
       "    </tr>\n",
       "    <tr>\n",
       "      <th></th>\n",
       "      <th>total</th>\n",
       "      <th>failed</th>\n",
       "      <th>total</th>\n",
       "      <th>mean</th>\n",
       "      <th>median</th>\n",
       "      <th>stdev</th>\n",
       "      <th>n resources</th>\n",
       "      <th>n times slower</th>\n",
       "    </tr>\n",
       "  </thead>\n",
       "  <tbody>\n",
       "    <tr>\n",
       "      <th>planb</th>\n",
       "      <td>100</td>\n",
       "      <td>0</td>\n",
       "      <td>0.496766</td>\n",
       "      <td>0.004968</td>\n",
       "      <td>0.004632</td>\n",
       "      <td>0.001125</td>\n",
       "      <td>5100</td>\n",
       "      <td>1.0</td>\n",
       "    </tr>\n",
       "    <tr>\n",
       "      <th>qvarn</th>\n",
       "      <td>100</td>\n",
       "      <td>1</td>\n",
       "      <td>1.485635</td>\n",
       "      <td>0.015006</td>\n",
       "      <td>0.014620</td>\n",
       "      <td>0.001654</td>\n",
       "      <td>5092</td>\n",
       "      <td>3.2</td>\n",
       "    </tr>\n",
       "    <tr>\n",
       "      <th>jsonb</th>\n",
       "      <td>100</td>\n",
       "      <td>0</td>\n",
       "      <td>901.048257</td>\n",
       "      <td>9.010483</td>\n",
       "      <td>9.018637</td>\n",
       "      <td>0.147988</td>\n",
       "      <td>5100</td>\n",
       "      <td>1947.1</td>\n",
       "    </tr>\n",
       "  </tbody>\n",
       "</table>\n",
       "</div>"
      ],
      "text/plain": [
       "      iterations        time in seconds                                \\\n",
       "           total failed           total      mean    median     stdev   \n",
       "planb        100      0        0.496766  0.004968  0.004632  0.001125   \n",
       "qvarn        100      1        1.485635  0.015006  0.014620  0.001654   \n",
       "jsonb        100      0      901.048257  9.010483  9.018637  0.147988   \n",
       "\n",
       "                                  \n",
       "      n resources n times slower  \n",
       "planb        5100            1.0  \n",
       "qvarn        5092            3.2  \n",
       "jsonb        5100         1947.1"
      ]
     },
     "metadata": {},
     "output_type": "display_data"
    },
    {
     "data": {
      "text/plain": [
       "<matplotlib.axes._subplots.AxesSubplot object at 0x7f3d07256588>"
      ]
     },
     "metadata": {},
     "output_type": "display_data"
    },
    {
     "data": {
      "image/png": "[encoded data removed]",
      "text/plain": [
       "<Figure size 1152x576 with 1 Axes>"
      ]
     },
     "metadata": {},
     "output_type": "display_data"
    }
   ],
   "source": [
    "class SearchLimit(Test):\n",
    "    \n",
    "    def __call__(self, item):\n",
    "        return session.get(f'{self.backend}/orgs/search/sort/id/limit/1')\n",
    "    \n",
    "measure(100, backends, SearchLimit)"
   ]
  },
  {
   "cell_type": "code",
   "execution_count": 47,
   "metadata": {},
   "outputs": [
    {
     "data": {
      "application/vnd.jupyter.widget-view+json": {
       "model_id": "",
       "version_major": 2,
       "version_minor": 0
      },
      "text/plain": [
       "HBox(children=(IntProgress(value=0, description='qvarn', max=1000), HTML(value='')))"
      ]
     },
     "metadata": {},
     "output_type": "display_data"
    },
    {
     "name": "stdout",
     "output_type": "stream",
     "text": [
      "\r"
     ]
    },
    {
     "data": {
      "application/vnd.jupyter.widget-view+json": {
       "model_id": "",
       "version_major": 2,
       "version_minor": 0
      },
      "text/plain": [
       "HBox(children=(IntProgress(value=0, description='jsonb', max=1000), HTML(value='')))"
      ]
     },
     "metadata": {},
     "output_type": "display_data"
    },
    {
     "name": "stdout",
     "output_type": "stream",
     "text": [
      "\r"
     ]
    },
    {
     "data": {
      "application/vnd.jupyter.widget-view+json": {
       "model_id": "",
       "version_major": 2,
       "version_minor": 0
      },
      "text/plain": [
       "HBox(children=(IntProgress(value=0, description='planb', max=1000), HTML(value='')))"
      ]
     },
     "metadata": {},
     "output_type": "display_data"
    },
    {
     "name": "stdout",
     "output_type": "stream",
     "text": [
      "\r"
     ]
    },
    {
     "data": {
      "text/html": [
       "<div>\n",
       "<style scoped>\n",
       "    .dataframe tbody tr th:only-of-type {\n",
       "        vertical-align: middle;\n",
       "    }\n",
       "\n",
       "    .dataframe tbody tr th {\n",
       "        vertical-align: top;\n",
       "    }\n",
       "\n",
       "    .dataframe thead tr th {\n",
       "        text-align: left;\n",
       "    }\n",
       "</style>\n",
       "<table border=\"1\" class=\"dataframe\">\n",
       "  <thead>\n",
       "    <tr>\n",
       "      <th></th>\n",
       "      <th colspan=\"2\" halign=\"left\">iterations</th>\n",
       "      <th colspan=\"4\" halign=\"left\">time in seconds</th>\n",
       "      <th colspan=\"2\" halign=\"left\"></th>\n",
       "    </tr>\n",
       "    <tr>\n",
       "      <th></th>\n",
       "      <th>total</th>\n",
       "      <th>failed</th>\n",
       "      <th>total</th>\n",
       "      <th>mean</th>\n",
       "      <th>median</th>\n",
       "      <th>stdev</th>\n",
       "      <th>n resources</th>\n",
       "      <th>n times slower</th>\n",
       "    </tr>\n",
       "  </thead>\n",
       "  <tbody>\n",
       "    <tr>\n",
       "      <th>planb</th>\n",
       "      <td>1000</td>\n",
       "      <td>0</td>\n",
       "      <td>4.449375</td>\n",
       "      <td>0.004449</td>\n",
       "      <td>0.004258</td>\n",
       "      <td>0.000741</td>\n",
       "      <td>5100</td>\n",
       "      <td>1.0</td>\n",
       "    </tr>\n",
       "    <tr>\n",
       "      <th>jsonb</th>\n",
       "      <td>1000</td>\n",
       "      <td>0</td>\n",
       "      <td>6.649882</td>\n",
       "      <td>0.006650</td>\n",
       "      <td>0.006434</td>\n",
       "      <td>0.000915</td>\n",
       "      <td>5100</td>\n",
       "      <td>1.5</td>\n",
       "    </tr>\n",
       "    <tr>\n",
       "      <th>qvarn</th>\n",
       "      <td>1000</td>\n",
       "      <td>0</td>\n",
       "      <td>31.203397</td>\n",
       "      <td>0.031203</td>\n",
       "      <td>0.031457</td>\n",
       "      <td>0.008299</td>\n",
       "      <td>5092</td>\n",
       "      <td>7.4</td>\n",
       "    </tr>\n",
       "  </tbody>\n",
       "</table>\n",
       "</div>"
      ],
      "text/plain": [
       "      iterations        time in seconds                                \\\n",
       "           total failed           total      mean    median     stdev   \n",
       "planb       1000      0        4.449375  0.004449  0.004258  0.000741   \n",
       "jsonb       1000      0        6.649882  0.006650  0.006434  0.000915   \n",
       "qvarn       1000      0       31.203397  0.031203  0.031457  0.008299   \n",
       "\n",
       "                                  \n",
       "      n resources n times slower  \n",
       "planb        5100            1.0  \n",
       "jsonb        5100            1.5  \n",
       "qvarn        5092            7.4"
      ]
     },
     "metadata": {},
     "output_type": "display_data"
    },
    {
     "data": {
      "text/plain": [
       "<matplotlib.axes._subplots.AxesSubplot object at 0x7f3d0752e5f8>"
      ]
     },
     "metadata": {},
     "output_type": "display_data"
    },
    {
     "data": {
      "image/png": "[encoded data removed]",
      "text/plain": [
       "<Figure size 1152x576 with 1 Axes>"
      ]
     },
     "metadata": {},
     "output_type": "display_data"
    }
   ],
   "source": [
    "class GetOne(Test):\n",
    "    \n",
    "    def prepare(self):\n",
    "        self.resources = [\n",
    "            resource['id'] for resource in session.get(f'{self.backend}/orgs').json()['resources']\n",
    "        ]\n",
    "        \n",
    "    def __call__(self, item):\n",
    "        return session.get(f'{self.backend}/orgs/{random.choice(self.resources)}')\n",
    "    \n",
    "measure(1000, backends, GetOne)"
   ]
  },
  {
   "cell_type": "code",
   "execution_count": 48,
   "metadata": {},
   "outputs": [
    {
     "data": {
      "application/vnd.jupyter.widget-view+json": {
       "model_id": "",
       "version_major": 2,
       "version_minor": 0
      },
      "text/plain": [
       "HBox(children=(IntProgress(value=0, description='qvarn'), HTML(value='')))"
      ]
     },
     "metadata": {},
     "output_type": "display_data"
    },
    {
     "name": "stdout",
     "output_type": "stream",
     "text": [
      "\r"
     ]
    },
    {
     "data": {
      "application/vnd.jupyter.widget-view+json": {
       "model_id": "",
       "version_major": 2,
       "version_minor": 0
      },
      "text/plain": [
       "HBox(children=(IntProgress(value=0, description='jsonb'), HTML(value='')))"
      ]
     },
     "metadata": {},
     "output_type": "display_data"
    },
    {
     "name": "stdout",
     "output_type": "stream",
     "text": [
      "\r"
     ]
    },
    {
     "data": {
      "application/vnd.jupyter.widget-view+json": {
       "model_id": "",
       "version_major": 2,
       "version_minor": 0
      },
      "text/plain": [
       "HBox(children=(IntProgress(value=0, description='planb'), HTML(value='')))"
      ]
     },
     "metadata": {},
     "output_type": "display_data"
    },
    {
     "name": "stdout",
     "output_type": "stream",
     "text": [
      "\r"
     ]
    },
    {
     "data": {
      "text/html": [
       "<div>\n",
       "<style scoped>\n",
       "    .dataframe tbody tr th:only-of-type {\n",
       "        vertical-align: middle;\n",
       "    }\n",
       "\n",
       "    .dataframe tbody tr th {\n",
       "        vertical-align: top;\n",
       "    }\n",
       "\n",
       "    .dataframe thead tr th {\n",
       "        text-align: left;\n",
       "    }\n",
       "</style>\n",
       "<table border=\"1\" class=\"dataframe\">\n",
       "  <thead>\n",
       "    <tr>\n",
       "      <th></th>\n",
       "      <th colspan=\"2\" halign=\"left\">iterations</th>\n",
       "      <th colspan=\"4\" halign=\"left\">time in seconds</th>\n",
       "      <th colspan=\"2\" halign=\"left\"></th>\n",
       "    </tr>\n",
       "    <tr>\n",
       "      <th></th>\n",
       "      <th>total</th>\n",
       "      <th>failed</th>\n",
       "      <th>total</th>\n",
       "      <th>mean</th>\n",
       "      <th>median</th>\n",
       "      <th>stdev</th>\n",
       "      <th>n resources</th>\n",
       "      <th>n times slower</th>\n",
       "    </tr>\n",
       "  </thead>\n",
       "  <tbody>\n",
       "    <tr>\n",
       "      <th>planb</th>\n",
       "      <td>100</td>\n",
       "      <td>0</td>\n",
       "      <td>0.508397</td>\n",
       "      <td>0.005084</td>\n",
       "      <td>0.004918</td>\n",
       "      <td>0.000793</td>\n",
       "      <td>5100</td>\n",
       "      <td>1.0</td>\n",
       "    </tr>\n",
       "    <tr>\n",
       "      <th>jsonb</th>\n",
       "      <td>100</td>\n",
       "      <td>0</td>\n",
       "      <td>0.916751</td>\n",
       "      <td>0.009168</td>\n",
       "      <td>0.008964</td>\n",
       "      <td>0.001408</td>\n",
       "      <td>5100</td>\n",
       "      <td>1.8</td>\n",
       "    </tr>\n",
       "    <tr>\n",
       "      <th>qvarn</th>\n",
       "      <td>100</td>\n",
       "      <td>1</td>\n",
       "      <td>1.417678</td>\n",
       "      <td>0.014320</td>\n",
       "      <td>0.013743</td>\n",
       "      <td>0.002502</td>\n",
       "      <td>5092</td>\n",
       "      <td>2.8</td>\n",
       "    </tr>\n",
       "  </tbody>\n",
       "</table>\n",
       "</div>"
      ],
      "text/plain": [
       "      iterations        time in seconds                                \\\n",
       "           total failed           total      mean    median     stdev   \n",
       "planb        100      0        0.508397  0.005084  0.004918  0.000793   \n",
       "jsonb        100      0        0.916751  0.009168  0.008964  0.001408   \n",
       "qvarn        100      1        1.417678  0.014320  0.013743  0.002502   \n",
       "\n",
       "                                  \n",
       "      n resources n times slower  \n",
       "planb        5100            1.0  \n",
       "jsonb        5100            1.8  \n",
       "qvarn        5092            2.8"
      ]
     },
     "metadata": {},
     "output_type": "display_data"
    },
    {
     "data": {
      "text/plain": [
       "<matplotlib.axes._subplots.AxesSubplot object at 0x7f3d082d9da0>"
      ]
     },
     "metadata": {},
     "output_type": "display_data"
    },
    {
     "data": {
      "image/png": "[encoded data removed]",
      "text/plain": [
       "<Figure size 1152x576 with 1 Axes>"
      ]
     },
     "metadata": {},
     "output_type": "display_data"
    }
   ],
   "source": [
    "class SearchExact(Test):\n",
    "    \n",
    "    def prepare(self):\n",
    "        self.gov_org_ids = [\n",
    "            resource['gov_org_ids'][0]['gov_org_id'] for resource in (\n",
    "                session.get(f'{self.backend}/orgs/search/show/gov_org_ids').\n",
    "                json()['resources']\n",
    "            )\n",
    "        ]\n",
    "        \n",
    "    def __call__(self, item):\n",
    "        return session.get(f'{self.backend}/orgs/search/exact/gov_org_id/{random.choice(self.gov_org_ids)}')\n",
    "    \n",
    "measure(100, backends, SearchExact)"
   ]
  },
  {
   "cell_type": "code",
   "execution_count": 49,
   "metadata": {},
   "outputs": [
    {
     "data": {
      "application/vnd.jupyter.widget-view+json": {
       "model_id": "",
       "version_major": 2,
       "version_minor": 0
      },
      "text/plain": [
       "HBox(children=(IntProgress(value=0, description='qvarn'), HTML(value='')))"
      ]
     },
     "metadata": {},
     "output_type": "display_data"
    },
    {
     "name": "stdout",
     "output_type": "stream",
     "text": [
      "\r"
     ]
    },
    {
     "data": {
      "application/vnd.jupyter.widget-view+json": {
       "model_id": "",
       "version_major": 2,
       "version_minor": 0
      },
      "text/plain": [
       "HBox(children=(IntProgress(value=0, description='jsonb'), HTML(value='')))"
      ]
     },
     "metadata": {},
     "output_type": "display_data"
    },
    {
     "name": "stdout",
     "output_type": "stream",
     "text": [
      "\r"
     ]
    },
    {
     "data": {
      "application/vnd.jupyter.widget-view+json": {
       "model_id": "",
       "version_major": 2,
       "version_minor": 0
      },
      "text/plain": [
       "HBox(children=(IntProgress(value=0, description='planb'), HTML(value='')))"
      ]
     },
     "metadata": {},
     "output_type": "display_data"
    },
    {
     "name": "stdout",
     "output_type": "stream",
     "text": [
      "\r"
     ]
    },
    {
     "data": {
      "text/html": [
       "<div>\n",
       "<style scoped>\n",
       "    .dataframe tbody tr th:only-of-type {\n",
       "        vertical-align: middle;\n",
       "    }\n",
       "\n",
       "    .dataframe tbody tr th {\n",
       "        vertical-align: top;\n",
       "    }\n",
       "\n",
       "    .dataframe thead tr th {\n",
       "        text-align: left;\n",
       "    }\n",
       "</style>\n",
       "<table border=\"1\" class=\"dataframe\">\n",
       "  <thead>\n",
       "    <tr>\n",
       "      <th></th>\n",
       "      <th colspan=\"2\" halign=\"left\">iterations</th>\n",
       "      <th colspan=\"4\" halign=\"left\">time in seconds</th>\n",
       "      <th colspan=\"2\" halign=\"left\"></th>\n",
       "    </tr>\n",
       "    <tr>\n",
       "      <th></th>\n",
       "      <th>total</th>\n",
       "      <th>failed</th>\n",
       "      <th>total</th>\n",
       "      <th>mean</th>\n",
       "      <th>median</th>\n",
       "      <th>stdev</th>\n",
       "      <th>n resources</th>\n",
       "      <th>n times slower</th>\n",
       "    </tr>\n",
       "  </thead>\n",
       "  <tbody>\n",
       "    <tr>\n",
       "      <th>qvarn</th>\n",
       "      <td>100</td>\n",
       "      <td>1</td>\n",
       "      <td>1.429260</td>\n",
       "      <td>0.014437</td>\n",
       "      <td>0.014253</td>\n",
       "      <td>0.001573</td>\n",
       "      <td>5092</td>\n",
       "      <td>1.0</td>\n",
       "    </tr>\n",
       "    <tr>\n",
       "      <th>planb</th>\n",
       "      <td>100</td>\n",
       "      <td>0</td>\n",
       "      <td>1.479883</td>\n",
       "      <td>0.014799</td>\n",
       "      <td>0.014334</td>\n",
       "      <td>0.001758</td>\n",
       "      <td>5100</td>\n",
       "      <td>1.0</td>\n",
       "    </tr>\n",
       "    <tr>\n",
       "      <th>jsonb</th>\n",
       "      <td>100</td>\n",
       "      <td>0</td>\n",
       "      <td>6.533869</td>\n",
       "      <td>0.065339</td>\n",
       "      <td>0.065106</td>\n",
       "      <td>0.003590</td>\n",
       "      <td>5100</td>\n",
       "      <td>4.6</td>\n",
       "    </tr>\n",
       "  </tbody>\n",
       "</table>\n",
       "</div>"
      ],
      "text/plain": [
       "      iterations        time in seconds                                \\\n",
       "           total failed           total      mean    median     stdev   \n",
       "qvarn        100      1        1.429260  0.014437  0.014253  0.001573   \n",
       "planb        100      0        1.479883  0.014799  0.014334  0.001758   \n",
       "jsonb        100      0        6.533869  0.065339  0.065106  0.003590   \n",
       "\n",
       "                                  \n",
       "      n resources n times slower  \n",
       "qvarn        5092            1.0  \n",
       "planb        5100            1.0  \n",
       "jsonb        5100            4.6"
      ]
     },
     "metadata": {},
     "output_type": "display_data"
    },
    {
     "data": {
      "text/plain": [
       "<matplotlib.axes._subplots.AxesSubplot object at 0x7f3d0712def0>"
      ]
     },
     "metadata": {},
     "output_type": "display_data"
    },
    {
     "data": {
      "image/png": "[encoded data removed]",
      "text/plain": [
       "<Figure size 1152x576 with 1 Axes>"
      ]
     },
     "metadata": {},
     "output_type": "display_data"
    }
   ],
   "source": [
    "class SearchStartswith(Test):\n",
    "    \n",
    "    def prepare(self):\n",
    "        self.gov_org_ids = [\n",
    "            resource['gov_org_ids'][0]['gov_org_id'] for resource in (\n",
    "                session.get(f'{self.backend}/orgs/search/show/gov_org_ids').\n",
    "                json()['resources']\n",
    "            )\n",
    "        ]\n",
    "        \n",
    "    def __call__(self, item):\n",
    "        return session.get(f'{self.backend}/orgs/search/startswith/gov_org_id/{random.choice(self.gov_org_ids)}')\n",
    "    \n",
    "measure(100, backends, SearchStartswith)"
   ]
  },
  {
   "cell_type": "code",
   "execution_count": 51,
   "metadata": {},
   "outputs": [
    {
     "data": {
      "text/plain": [
       "Text(0.5,0,'n times slower (mean of all tests)')"
      ]
     },
     "execution_count": 51,
     "metadata": {},
     "output_type": "execute_result"
    },
    {
     "data": {
      "image/png": "[encoded data removed]",
      "text/plain": [
       "<Figure size 1152x576 with 1 Axes>"
      ]
     },
     "metadata": {},
     "output_type": "display_data"
    }
   ],
   "source": [
    "ax = summary.mean(axis=1).sort_values(ascending=False).plot.barh()\n",
    "ax.set_xlabel('n times slower (mean of all tests)')"
   ]
  },
  {
   "cell_type": "code",
   "execution_count": 52,
   "metadata": {},
   "outputs": [
    {
     "data": {
      "text/plain": [
       "Text(0.5,0,'n times slower (median of all tests)')"
      ]
     },
     "execution_count": 52,
     "metadata": {},
     "output_type": "execute_result"
    },
    {
     "data": {
      "image/png": "[encoded data removed]",
      "text/plain": [
       "<Figure size 1152x576 with 1 Axes>"
      ]
     },
     "metadata": {},
     "output_type": "display_data"
    }
   ],
   "source": [
    "ax = summary.median(axis=1).sort_values(ascending=False).plot.barh()\n",
    "ax.set_xlabel('n times slower (median of all tests)')"
   ]
  }
 ],
 "metadata": {
  "kernelspec": {
   "display_name": "Python 3",
   "language": "python",
   "name": "python3"
  },
  "language_info": {
   "codemirror_mode": {
    "name": "ipython",
    "version": 3
   },
   "file_extension": ".py",
   "mimetype": "text/x-python",
   "name": "python",
   "nbconvert_exporter": "python",
   "pygments_lexer": "ipython3",
   "version": "3.6.4"
  }
 },
 "nbformat": 4,
 "nbformat_minor": 2
}
