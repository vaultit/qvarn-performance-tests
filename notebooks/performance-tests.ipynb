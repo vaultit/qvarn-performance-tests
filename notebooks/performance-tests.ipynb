{
 "cells": [
  {
   "cell_type": "code",
   "execution_count": 1,
   "metadata": {},
   "outputs": [],
   "source": [
    "%matplotlib inline"
   ]
  },
  {
   "cell_type": "code",
   "execution_count": 2,
   "metadata": {},
   "outputs": [],
   "source": [
    "qvarn = 'http://localhost:9001'\n",
    "jsonb_91_no_alog = 'http://localhost:9002'\n",
    "jsonb_91_alog = 'http://localhost:9003'\n",
    "jsonb_92_no_alog = 'http://localhost:9004'\n",
    "jsonb_92_alog = 'http://localhost:9005'\n",
    "planb = 'http://localhost:9006'\n",
    "\n",
    "names = {\n",
    "    qvarn: 'qvarn',\n",
    "    jsonb_91_no_alog: 'jsonb_91_no_alog',\n",
    "    jsonb_91_alog: 'jsonb_91_alog',\n",
    "    jsonb_92_no_alog: 'jsonb_92_no_alog',\n",
    "    jsonb_92_alog: 'jsonb_92_alog',\n",
    "    planb: 'planb',\n",
    "}\n",
    "backends = qvarn, jsonb_91_no_alog, jsonb_91_alog, jsonb_92_no_alog, jsonb_92_alog, planb"
   ]
  },
  {
   "cell_type": "code",
   "execution_count": 3,
   "metadata": {},
   "outputs": [],
   "source": [
    "import collections\n",
    "import configparser\n",
    "import datetime\n",
    "import faker\n",
    "import hashlib\n",
    "import itertools\n",
    "import jwt\n",
    "import logging as log\n",
    "import os\n",
    "import pandas as pd\n",
    "import pathlib\n",
    "import random\n",
    "import requests\n",
    "import seaborn as sns\n",
    "import statistics\n",
    "import sys\n",
    "import time\n",
    "import tqdm\n",
    "import ujson as json\n",
    "from IPython.display import display\n",
    "\n",
    "log.basicConfig(filename='/tmp/performance-testing.log', level=log.DEBUG)\n",
    "log.getLogger('urllib3').setLevel(log.ERROR)\n",
    "\n",
    "sns.set(style=\"whitegrid\", font_scale=2, rc={\n",
    "    'figure.figsize': (16, 8),\n",
    "})\n",
    "\n",
    "claims = {\n",
    "    'iss': 'https://auth-jsonb.alpha.vaultit.org',\n",
    "    'sub': '',\n",
    "    'aud': '',\n",
    "    'exp': (datetime.datetime.now() + datetime.timedelta(days=10)).timestamp(),\n",
    "    'scope': ' '.join([\n",
    "        scope % resource_type\n",
    "        for scope in (\n",
    "            'uapi_%s_get',\n",
    "            'uapi_%s_post',\n",
    "            'uapi_%s_id_get',\n",
    "            'uapi_%s_id_put',\n",
    "            'uapi_%s_id_delete',\n",
    "            'uapi_%s_search_id_get',\n",
    "        )\n",
    "        for resource_type in (\n",
    "            'orgs',\n",
    "            'access',\n",
    "        )\n",
    "    ]),\n",
    "}\n",
    "key = pathlib.Path('../keys/rsa').read_bytes()\n",
    "token = jwt.encode(claims, key, algorithm='RS512').decode()\n",
    "\n",
    "session = requests.Session()\n",
    "session.headers['authorization'] = f'Bearer {token}'\n",
    "session.headers['cache-control'] = 'no-cache'\n",
    "\n",
    "fake = faker.Faker()"
   ]
  },
  {
   "cell_type": "code",
   "execution_count": 4,
   "metadata": {},
   "outputs": [
    {
     "data": {
      "text/plain": [
       "{\n",
       "    'api': {'version': '0.82-6.vaultit'},\n",
       "    'implementation': {'name': 'Qvarn', 'version': '0.82-6.vaultit'},\n",
       "}"
      ]
     },
     "execution_count": 4,
     "metadata": {},
     "output_type": "execute_result"
    }
   ],
   "source": [
    "session.get(f'{qvarn}/version').json()"
   ]
  },
  {
   "cell_type": "code",
   "execution_count": 5,
   "metadata": {},
   "outputs": [
    {
     "data": {
      "text/plain": [
       "{\n",
       "    'api': {'version': '0.91'},\n",
       "    'implementation': {'name': 'Qvarn', 'version': '0.91'},\n",
       "}"
      ]
     },
     "execution_count": 5,
     "metadata": {},
     "output_type": "execute_result"
    }
   ],
   "source": [
    "session.get(f'{jsonb_91_no_alog}/version').json()"
   ]
  },
  {
   "cell_type": "code",
   "execution_count": 6,
   "metadata": {},
   "outputs": [
    {
     "data": {
      "text/plain": [
       "{\n",
       "    'api': {'version': '0.91'},\n",
       "    'implementation': {'name': 'Qvarn', 'version': '0.91'},\n",
       "}"
      ]
     },
     "execution_count": 6,
     "metadata": {},
     "output_type": "execute_result"
    }
   ],
   "source": [
    "session.get(f'{jsonb_91_alog}/version').json()"
   ]
  },
  {
   "cell_type": "code",
   "execution_count": 7,
   "metadata": {},
   "outputs": [
    {
     "data": {
      "text/plain": [
       "{\n",
       "    'api': {'version': '0.92'},\n",
       "    'implementation': {'name': 'Qvarn', 'version': '0.92'},\n",
       "}"
      ]
     },
     "execution_count": 7,
     "metadata": {},
     "output_type": "execute_result"
    }
   ],
   "source": [
    "session.get(f'{jsonb_92_no_alog}/version').json()"
   ]
  },
  {
   "cell_type": "code",
   "execution_count": 8,
   "metadata": {},
   "outputs": [
    {
     "data": {
      "text/plain": [
       "{\n",
       "    'api': {'version': '0.92'},\n",
       "    'implementation': {'name': 'Qvarn', 'version': '0.92'},\n",
       "}"
      ]
     },
     "execution_count": 8,
     "metadata": {},
     "output_type": "execute_result"
    }
   ],
   "source": [
    "session.get(f'{jsonb_92_alog}/version').json()"
   ]
  },
  {
   "cell_type": "code",
   "execution_count": 9,
   "metadata": {},
   "outputs": [
    {
     "data": {
      "text/plain": [
       "{\n",
       "    'api': {'version': '0.82-5.vaultit'},\n",
       "    'implementation': {'name': 'Qvarn PlanB', 'version': '0.0.1'},\n",
       "}"
      ]
     },
     "execution_count": 9,
     "metadata": {},
     "output_type": "execute_result"
    }
   ],
   "source": [
    "session.get(f'{planb}/version').json()"
   ]
  },
  {
   "cell_type": "code",
   "execution_count": 10,
   "metadata": {},
   "outputs": [],
   "source": [
    "class Test:\n",
    "    \n",
    "    def __init__(self, n, backend, *args, **kwargs):\n",
    "        self.backend = backend\n",
    "        self.total = n\n",
    "        self.prepare(*args, **kwargs)\n",
    "        \n",
    "    def prepare(self):\n",
    "        pass\n",
    "    \n",
    "    def __iter__(self):\n",
    "        yield from range(self.total)\n",
    "            \n",
    "    def __call__(self, item):\n",
    "        raise NotImplementedError()"
   ]
  },
  {
   "cell_type": "code",
   "execution_count": 11,
   "metadata": {},
   "outputs": [],
   "source": [
    "def stats_table(backends, counts, times, runs, failed):\n",
    "    frame = pd.DataFrame(collections.OrderedDict([\n",
    "        (('iterations', 'total'), [runs[x].total for x in backends]),\n",
    "        (('iterations', 'failed'), [failed[x] for x in backends]),\n",
    "        (('time in seconds', 'total'), [sum(times[x]) if times[x] else None for x in backends]),\n",
    "        (('time in seconds', 'mean'), [statistics.mean(times[x]) if times[x] else None for x in backends]),\n",
    "        (('time in seconds', 'median'), [statistics.median(times[x]) if times[x] else None for x in backends]),\n",
    "        (('time in seconds', 'stdev'), [statistics.stdev(times[x]) if times[x] else None for x in backends]),\n",
    "        (('', 'n resources'), [counts[x] for x in backends]),\n",
    "    ]), index=[names[x] for x in backends])\n",
    "    frame = frame.sort_values(('time in seconds', 'median'))\n",
    "    median = frame[('time in seconds', 'median')]\n",
    "    frame[('', 'n times slower')] = (median / median.min()).map('{:.1f}'.format)\n",
    "    return frame"
   ]
  },
  {
   "cell_type": "code",
   "execution_count": 12,
   "metadata": {},
   "outputs": [],
   "source": [
    "def violin_plot(backends, times, size):\n",
    "    frame = pd.DataFrame(collections.OrderedDict([\n",
    "        (names[x], times[x] + [None for i in range(size - len(times[x]))])\n",
    "        for x in backends\n",
    "    ]))\n",
    "    ax = sns.violinplot(data=frame, orient='h')\n",
    "    ax.set_xscale('log')\n",
    "    ax.set_xlabel(\"time in seconds (log scale)\")\n",
    "    return ax"
   ]
  },
  {
   "cell_type": "code",
   "execution_count": 13,
   "metadata": {},
   "outputs": [],
   "source": [
    "summary = pd.DataFrame({}, index=[names[x] for x in backends])"
   ]
  },
  {
   "cell_type": "code",
   "execution_count": 14,
   "metadata": {},
   "outputs": [],
   "source": [
    "def measure(n, backends, test, *args, **kwargs):\n",
    "    global summary\n",
    "    \n",
    "    counts = {\n",
    "        x: len(session.get(f'{x}/orgs').json()['resources'])\n",
    "        for x in backends\n",
    "    }\n",
    "    failed = {backend: 0 for backend in backends}\n",
    "    times = collections.defaultdict(list)\n",
    "    runs = {}\n",
    "    for backend in backends:\n",
    "        run = runs[backend] = test(n, backend, *args, **kwargs)\n",
    "        name = names[backend]\n",
    "        for item in tqdm.tqdm_notebook(run, name, total=run.total, leave=False):\n",
    "            start = time.monotonic()\n",
    "            try:\n",
    "                resp = run(item)\n",
    "            except KeyboardInterrupt:\n",
    "                raise\n",
    "            except:\n",
    "                log.exception('error')\n",
    "                ok = False\n",
    "                resp = None\n",
    "            else:\n",
    "                ok = resp.ok\n",
    "            delta = time.monotonic() - start\n",
    "            if ok:\n",
    "                times[backend].append(delta)\n",
    "            else:\n",
    "                if resp:\n",
    "                    log.error('stauts: %d, response: %s', resp.status_code, resp.text)\n",
    "                failed[backend] += 1\n",
    "                \n",
    "    frame = stats_table(backends, counts, times, runs, failed)\n",
    "    display(frame)\n",
    "    \n",
    "    summary = pd.concat([summary, frame[('', 'n times slower')].astype(float)], axis=1, ignore_index=True)\n",
    "    \n",
    "    size = max(len(times[x]) for x in backends)\n",
    "    if size > 1:\n",
    "        ax = violin_plot(backends, times, size)\n",
    "        display(ax)"
   ]
  },
  {
   "cell_type": "code",
   "execution_count": 15,
   "metadata": {},
   "outputs": [
    {
     "data": {
      "text/plain": [
       "'f392-9320139dc00d498dc544729ff5c7535d-e0ef6cd0'"
      ]
     },
     "execution_count": 15,
     "metadata": {},
     "output_type": "execute_result"
    }
   ],
   "source": [
    "def get_new_id(resource_type):\n",
    "    type_field = hashlib.sha512(resource_type.encode()).hexdigest()[:4]\n",
    "    random_field = os.urandom(16).hex()\n",
    "    checksum_field = hashlib.sha512((type_field + random_field).encode()).hexdigest()[:8]\n",
    "    return '-'.join([type_field, random_field, checksum_field])\n",
    "\n",
    "get_new_id('org')"
   ]
  },
  {
   "cell_type": "code",
   "execution_count": 16,
   "metadata": {},
   "outputs": [
    {
     "data": {
      "application/vnd.jupyter.widget-view+json": {
       "model_id": "abe9a71a467a4adeb88e4d0a1f9f8b33",
       "version_major": 2,
       "version_minor": 0
      },
      "text/plain": [
       "HBox(children=(IntProgress(value=0, max=5000), HTML(value='')))"
      ]
     },
     "metadata": {},
     "output_type": "display_data"
    },
    {
     "name": "stdout",
     "output_type": "stream",
     "text": [
      "\n"
     ]
    }
   ],
   "source": [
    "with open('orgs.jsonl', 'w') as f:\n",
    "    for i in tqdm.tqdm_notebook(range(5_000)):\n",
    "        org =  {\n",
    "            'type': 'org',\n",
    "            'country': 'FI',\n",
    "            'names': (\n",
    "                [fake.company(), fake.catch_phrase()]\n",
    "                if random.randint(0, 50) == 42 else\n",
    "                [fake.company()]\n",
    "            ),\n",
    "            'gov_org_ids': [\n",
    "                {\n",
    "                    'country': 'FI',\n",
    "                    'org_id_type': 'registration_number',\n",
    "                    'gov_org_id': fake.ssn(),\n",
    "                }\n",
    "            ],\n",
    "            'contacts': [\n",
    "                {\n",
    "                    'contact_type': 'phone',\n",
    "                    'phone_number': fake.phone_number(),\n",
    "                    'full_address': fake.address(),\n",
    "                    'contact_timestamp': str(time.time()),\n",
    "                    'country': fake.country_code(),\n",
    "                    'contact_roles': [],\n",
    "                    'address_lines': fake.address().splitlines(),\n",
    "                    'post_code': None,\n",
    "                    'post_area': None,\n",
    "                    'einvoice_operator': None,\n",
    "                    'contact_source': 'qvarn-genarator',\n",
    "                    'einvoice_address': None,\n",
    "                    'email_address': None,\n",
    "                }\n",
    "                for i in range(random.randint(1, 5))\n",
    "            ],\n",
    "        }\n",
    "        json.dump(org, f, ensure_ascii=False)\n",
    "        f.write('\\n')"
   ]
  },
  {
   "cell_type": "code",
   "execution_count": 17,
   "metadata": {},
   "outputs": [],
   "source": [
    "def read_orgs():\n",
    "    with open('orgs.jsonl') as f:\n",
    "        yield from map(json.loads, f)\n",
    "            \n",
    "def gen_orgs(backends):\n",
    "    return {backend: read_orgs() for backend in backends}\n",
    "    \n",
    "orgs = gen_orgs(backends)"
   ]
  },
  {
   "cell_type": "code",
   "execution_count": 18,
   "metadata": {},
   "outputs": [
    {
     "data": {
      "application/vnd.jupyter.widget-view+json": {
       "model_id": "",
       "version_major": 2,
       "version_minor": 0
      },
      "text/plain": [
       "HBox(children=(IntProgress(value=0, description='delete: qvarn', max=1097), HTML(value='')))"
      ]
     },
     "metadata": {},
     "output_type": "display_data"
    },
    {
     "name": "stdout",
     "output_type": "stream",
     "text": [
      "\r"
     ]
    },
    {
     "data": {
      "application/vnd.jupyter.widget-view+json": {
       "model_id": "",
       "version_major": 2,
       "version_minor": 0
      },
      "text/plain": [
       "HBox(children=(IntProgress(value=0, description='delete: jsonb_91_no_alog', max=1100), HTML(value='')))"
      ]
     },
     "metadata": {},
     "output_type": "display_data"
    },
    {
     "name": "stdout",
     "output_type": "stream",
     "text": [
      "\r"
     ]
    },
    {
     "data": {
      "application/vnd.jupyter.widget-view+json": {
       "model_id": "",
       "version_major": 2,
       "version_minor": 0
      },
      "text/plain": [
       "HBox(children=(IntProgress(value=0, description='delete: jsonb_91_alog', max=1100), HTML(value='')))"
      ]
     },
     "metadata": {},
     "output_type": "display_data"
    },
    {
     "name": "stdout",
     "output_type": "stream",
     "text": [
      "\r"
     ]
    },
    {
     "data": {
      "application/vnd.jupyter.widget-view+json": {
       "model_id": "",
       "version_major": 2,
       "version_minor": 0
      },
      "text/plain": [
       "HBox(children=(IntProgress(value=0, description='delete: jsonb_92_no_alog', max=1100), HTML(value='')))"
      ]
     },
     "metadata": {},
     "output_type": "display_data"
    },
    {
     "name": "stdout",
     "output_type": "stream",
     "text": [
      "\r"
     ]
    },
    {
     "data": {
      "application/vnd.jupyter.widget-view+json": {
       "model_id": "",
       "version_major": 2,
       "version_minor": 0
      },
      "text/plain": [
       "HBox(children=(IntProgress(value=0, description='delete: jsonb_92_alog', max=1100), HTML(value='')))"
      ]
     },
     "metadata": {},
     "output_type": "display_data"
    },
    {
     "name": "stdout",
     "output_type": "stream",
     "text": [
      "\r"
     ]
    },
    {
     "data": {
      "application/vnd.jupyter.widget-view+json": {
       "model_id": "",
       "version_major": 2,
       "version_minor": 0
      },
      "text/plain": [
       "HBox(children=(IntProgress(value=0, description='delete: planb', max=1100), HTML(value='')))"
      ]
     },
     "metadata": {},
     "output_type": "display_data"
    },
    {
     "name": "stdout",
     "output_type": "stream",
     "text": [
      "\r"
     ]
    },
    {
     "data": {
      "text/html": [
       "<div>\n",
       "<style scoped>\n",
       "    .dataframe tbody tr th:only-of-type {\n",
       "        vertical-align: middle;\n",
       "    }\n",
       "\n",
       "    .dataframe tbody tr th {\n",
       "        vertical-align: top;\n",
       "    }\n",
       "\n",
       "    .dataframe thead tr th {\n",
       "        text-align: left;\n",
       "    }\n",
       "</style>\n",
       "<table border=\"1\" class=\"dataframe\">\n",
       "  <thead>\n",
       "    <tr>\n",
       "      <th></th>\n",
       "      <th colspan=\"2\" halign=\"left\">delete orgs</th>\n",
       "      <th colspan=\"2\" halign=\"left\">create orgs</th>\n",
       "      <th></th>\n",
       "    </tr>\n",
       "    <tr>\n",
       "      <th></th>\n",
       "      <th>deleted</th>\n",
       "      <th>failed</th>\n",
       "      <th>created</th>\n",
       "      <th>failed</th>\n",
       "      <th>orgs</th>\n",
       "    </tr>\n",
       "  </thead>\n",
       "  <tbody>\n",
       "    <tr>\n",
       "      <th>qvarn</th>\n",
       "      <td>1095</td>\n",
       "      <td>2</td>\n",
       "      <td>0</td>\n",
       "      <td>0</td>\n",
       "      <td>2</td>\n",
       "    </tr>\n",
       "    <tr>\n",
       "      <th>jsonb_91_no_alog</th>\n",
       "      <td>1100</td>\n",
       "      <td>0</td>\n",
       "      <td>0</td>\n",
       "      <td>0</td>\n",
       "      <td>0</td>\n",
       "    </tr>\n",
       "    <tr>\n",
       "      <th>jsonb_91_alog</th>\n",
       "      <td>1100</td>\n",
       "      <td>0</td>\n",
       "      <td>0</td>\n",
       "      <td>0</td>\n",
       "      <td>0</td>\n",
       "    </tr>\n",
       "    <tr>\n",
       "      <th>jsonb_92_no_alog</th>\n",
       "      <td>1100</td>\n",
       "      <td>0</td>\n",
       "      <td>0</td>\n",
       "      <td>0</td>\n",
       "      <td>0</td>\n",
       "    </tr>\n",
       "    <tr>\n",
       "      <th>jsonb_92_alog</th>\n",
       "      <td>1100</td>\n",
       "      <td>0</td>\n",
       "      <td>0</td>\n",
       "      <td>0</td>\n",
       "      <td>0</td>\n",
       "    </tr>\n",
       "    <tr>\n",
       "      <th>planb</th>\n",
       "      <td>1100</td>\n",
       "      <td>0</td>\n",
       "      <td>0</td>\n",
       "      <td>0</td>\n",
       "      <td>0</td>\n",
       "    </tr>\n",
       "  </tbody>\n",
       "</table>\n",
       "</div>"
      ],
      "text/plain": [
       "                 delete orgs        create orgs            \n",
       "                     deleted failed     created failed orgs\n",
       "qvarn                   1095      2           0      0    2\n",
       "jsonb_91_no_alog        1100      0           0      0    0\n",
       "jsonb_91_alog           1100      0           0      0    0\n",
       "jsonb_92_no_alog        1100      0           0      0    0\n",
       "jsonb_92_alog           1100      0           0      0    0\n",
       "planb                   1100      0           0      0    0"
      ]
     },
     "execution_count": 18,
     "metadata": {},
     "output_type": "execute_result"
    }
   ],
   "source": [
    "def delete_orgs(backends):\n",
    "    result = {}\n",
    "    for backend in backends:\n",
    "        success = failure = 0\n",
    "        for resource in tqdm.tqdm_notebook(session.get(f'{backend}/orgs').json()['resources'], f'delete: {names[backend]}', leave=False):\n",
    "            try:\n",
    "                resp = session.delete(f'{backend}/orgs/{resource[\"id\"]}')\n",
    "            except requests.ConnectionError:\n",
    "                log.exception('error while deleteing %s', resource['id'])\n",
    "                failure += 1\n",
    "            else:\n",
    "                if resp.ok:\n",
    "                    success += 1\n",
    "                else:\n",
    "                    failure += 1\n",
    "        result[backend] = {'success': success, 'failure': failure}\n",
    "    return result\n",
    "            \n",
    "            \n",
    "def create_orgs(n, backends):\n",
    "    result = {}\n",
    "    for backend in backends:\n",
    "        success = failure = 0\n",
    "        for resource in tqdm.tqdm_notebook(itertools.islice(orgs[backend], n), f'create: {names[backend]}', total=n, leave=False):\n",
    "            try:\n",
    "                resp = session.post(f'{backend}/orgs', json=resource)\n",
    "            except requests.ConnectionError:\n",
    "                log.exception('error while creating resource')\n",
    "                failure += 1\n",
    "            else:\n",
    "                if resp.ok:\n",
    "                    success += 1\n",
    "                else:\n",
    "                    failure += 1\n",
    "        result[backend] = {'success': success, 'failure': failure}\n",
    "    return result\n",
    "            \n",
    "\n",
    "def reset(n, backends, delete=True):\n",
    "    global orgs\n",
    "    orgs = gen_orgs(backends)\n",
    "    deleted = delete_orgs(backends) if delete else {x: {'success': 0, 'failure': 0} for x in backends}\n",
    "    created = create_orgs(n, backends) if n > 0 else {x: {'success': 0, 'failure': 0} for x in backends}\n",
    "    return pd.DataFrame(collections.OrderedDict([\n",
    "        (('delete orgs', 'deleted'), [deleted[x]['success'] for x in backends]),\n",
    "        (('delete orgs', 'failed'), [deleted[x]['failure'] for x in backends]),\n",
    "        (('create orgs', 'created'), [created[x]['success'] for x in backends]),\n",
    "        (('create orgs', 'failed'), [created[x]['failure'] for x in backends]),\n",
    "        (('', 'orgs'), [len(session.get(f'{x}/orgs').json()['resources']) for x in backends]),\n",
    "    ]), index=[names[x] for x in backends])\n",
    "    \n",
    "reset(0, backends)"
   ]
  },
  {
   "cell_type": "code",
   "execution_count": 19,
   "metadata": {},
   "outputs": [
    {
     "data": {
      "application/vnd.jupyter.widget-view+json": {
       "model_id": "",
       "version_major": 2,
       "version_minor": 0
      },
      "text/plain": [
       "HBox(children=(IntProgress(value=0, description='qvarn'), HTML(value='')))"
      ]
     },
     "metadata": {},
     "output_type": "display_data"
    },
    {
     "name": "stdout",
     "output_type": "stream",
     "text": [
      "\r"
     ]
    },
    {
     "data": {
      "application/vnd.jupyter.widget-view+json": {
       "model_id": "",
       "version_major": 2,
       "version_minor": 0
      },
      "text/plain": [
       "HBox(children=(IntProgress(value=0, description='jsonb_91_no_alog'), HTML(value='')))"
      ]
     },
     "metadata": {},
     "output_type": "display_data"
    },
    {
     "name": "stdout",
     "output_type": "stream",
     "text": [
      "\r"
     ]
    },
    {
     "data": {
      "application/vnd.jupyter.widget-view+json": {
       "model_id": "",
       "version_major": 2,
       "version_minor": 0
      },
      "text/plain": [
       "HBox(children=(IntProgress(value=0, description='jsonb_91_alog'), HTML(value='')))"
      ]
     },
     "metadata": {},
     "output_type": "display_data"
    },
    {
     "name": "stdout",
     "output_type": "stream",
     "text": [
      "\r"
     ]
    },
    {
     "data": {
      "application/vnd.jupyter.widget-view+json": {
       "model_id": "",
       "version_major": 2,
       "version_minor": 0
      },
      "text/plain": [
       "HBox(children=(IntProgress(value=0, description='jsonb_92_no_alog'), HTML(value='')))"
      ]
     },
     "metadata": {},
     "output_type": "display_data"
    },
    {
     "name": "stdout",
     "output_type": "stream",
     "text": [
      "\r"
     ]
    },
    {
     "data": {
      "application/vnd.jupyter.widget-view+json": {
       "model_id": "",
       "version_major": 2,
       "version_minor": 0
      },
      "text/plain": [
       "HBox(children=(IntProgress(value=0, description='jsonb_92_alog'), HTML(value='')))"
      ]
     },
     "metadata": {},
     "output_type": "display_data"
    },
    {
     "name": "stdout",
     "output_type": "stream",
     "text": [
      "\r"
     ]
    },
    {
     "data": {
      "application/vnd.jupyter.widget-view+json": {
       "model_id": "",
       "version_major": 2,
       "version_minor": 0
      },
      "text/plain": [
       "HBox(children=(IntProgress(value=0, description='planb'), HTML(value='')))"
      ]
     },
     "metadata": {},
     "output_type": "display_data"
    },
    {
     "name": "stdout",
     "output_type": "stream",
     "text": [
      "\r"
     ]
    },
    {
     "data": {
      "text/html": [
       "<div>\n",
       "<style scoped>\n",
       "    .dataframe tbody tr th:only-of-type {\n",
       "        vertical-align: middle;\n",
       "    }\n",
       "\n",
       "    .dataframe tbody tr th {\n",
       "        vertical-align: top;\n",
       "    }\n",
       "\n",
       "    .dataframe thead tr th {\n",
       "        text-align: left;\n",
       "    }\n",
       "</style>\n",
       "<table border=\"1\" class=\"dataframe\">\n",
       "  <thead>\n",
       "    <tr>\n",
       "      <th></th>\n",
       "      <th colspan=\"2\" halign=\"left\">iterations</th>\n",
       "      <th colspan=\"4\" halign=\"left\">time in seconds</th>\n",
       "      <th colspan=\"2\" halign=\"left\"></th>\n",
       "    </tr>\n",
       "    <tr>\n",
       "      <th></th>\n",
       "      <th>total</th>\n",
       "      <th>failed</th>\n",
       "      <th>total</th>\n",
       "      <th>mean</th>\n",
       "      <th>median</th>\n",
       "      <th>stdev</th>\n",
       "      <th>n resources</th>\n",
       "      <th>n times slower</th>\n",
       "    </tr>\n",
       "  </thead>\n",
       "  <tbody>\n",
       "    <tr>\n",
       "      <th>planb</th>\n",
       "      <td>100</td>\n",
       "      <td>0</td>\n",
       "      <td>1.475979</td>\n",
       "      <td>0.014760</td>\n",
       "      <td>0.014176</td>\n",
       "      <td>0.002875</td>\n",
       "      <td>0</td>\n",
       "      <td>1.0</td>\n",
       "    </tr>\n",
       "    <tr>\n",
       "      <th>qvarn</th>\n",
       "      <td>100</td>\n",
       "      <td>1</td>\n",
       "      <td>3.790447</td>\n",
       "      <td>0.038287</td>\n",
       "      <td>0.036524</td>\n",
       "      <td>0.007612</td>\n",
       "      <td>2</td>\n",
       "      <td>2.6</td>\n",
       "    </tr>\n",
       "    <tr>\n",
       "      <th>jsonb_92_no_alog</th>\n",
       "      <td>100</td>\n",
       "      <td>0</td>\n",
       "      <td>4.387475</td>\n",
       "      <td>0.043875</td>\n",
       "      <td>0.043251</td>\n",
       "      <td>0.005010</td>\n",
       "      <td>0</td>\n",
       "      <td>3.1</td>\n",
       "    </tr>\n",
       "    <tr>\n",
       "      <th>jsonb_91_no_alog</th>\n",
       "      <td>100</td>\n",
       "      <td>0</td>\n",
       "      <td>4.734542</td>\n",
       "      <td>0.047345</td>\n",
       "      <td>0.046015</td>\n",
       "      <td>0.005253</td>\n",
       "      <td>0</td>\n",
       "      <td>3.2</td>\n",
       "    </tr>\n",
       "    <tr>\n",
       "      <th>jsonb_92_alog</th>\n",
       "      <td>100</td>\n",
       "      <td>0</td>\n",
       "      <td>5.484761</td>\n",
       "      <td>0.054848</td>\n",
       "      <td>0.054619</td>\n",
       "      <td>0.005587</td>\n",
       "      <td>0</td>\n",
       "      <td>3.9</td>\n",
       "    </tr>\n",
       "    <tr>\n",
       "      <th>jsonb_91_alog</th>\n",
       "      <td>100</td>\n",
       "      <td>0</td>\n",
       "      <td>6.371266</td>\n",
       "      <td>0.063713</td>\n",
       "      <td>0.061557</td>\n",
       "      <td>0.011877</td>\n",
       "      <td>0</td>\n",
       "      <td>4.3</td>\n",
       "    </tr>\n",
       "  </tbody>\n",
       "</table>\n",
       "</div>"
      ],
      "text/plain": [
       "                 iterations        time in seconds                      \\\n",
       "                      total failed           total      mean    median   \n",
       "planb                   100      0        1.475979  0.014760  0.014176   \n",
       "qvarn                   100      1        3.790447  0.038287  0.036524   \n",
       "jsonb_92_no_alog        100      0        4.387475  0.043875  0.043251   \n",
       "jsonb_91_no_alog        100      0        4.734542  0.047345  0.046015   \n",
       "jsonb_92_alog           100      0        5.484761  0.054848  0.054619   \n",
       "jsonb_91_alog           100      0        6.371266  0.063713  0.061557   \n",
       "\n",
       "                                                       \n",
       "                     stdev n resources n times slower  \n",
       "planb             0.002875           0            1.0  \n",
       "qvarn             0.007612           2            2.6  \n",
       "jsonb_92_no_alog  0.005010           0            3.1  \n",
       "jsonb_91_no_alog  0.005253           0            3.2  \n",
       "jsonb_92_alog     0.005587           0            3.9  \n",
       "jsonb_91_alog     0.011877           0            4.3"
      ]
     },
     "metadata": {},
     "output_type": "display_data"
    },
    {
     "data": {
      "text/plain": [
       "<matplotlib.axes._subplots.AxesSubplot object at 0x7fafaa4b8908>"
      ]
     },
     "metadata": {},
     "output_type": "display_data"
    },
    {
     "data": {
      "image/png": "[encoded data removed]",
      "text/plain": [
       "<Figure size 1152x576 with 1 Axes>"
      ]
     },
     "metadata": {},
     "output_type": "display_data"
    }
   ],
   "source": [
    "class CreateOrgs(Test):\n",
    "    \n",
    "    def __iter__(self):\n",
    "        yield from itertools.islice(orgs[self.backend], self.total)\n",
    "    \n",
    "    def __call__(self, item):\n",
    "        return session.post(f'{self.backend}/orgs', json=org)\n",
    "    \n",
    "measure(100, backends, CreateOrgs)"
   ]
  },
  {
   "cell_type": "code",
   "execution_count": 20,
   "metadata": {},
   "outputs": [
    {
     "data": {
      "application/vnd.jupyter.widget-view+json": {
       "model_id": "",
       "version_major": 2,
       "version_minor": 0
      },
      "text/plain": [
       "HBox(children=(IntProgress(value=0, description='qvarn'), HTML(value='')))"
      ]
     },
     "metadata": {},
     "output_type": "display_data"
    },
    {
     "name": "stdout",
     "output_type": "stream",
     "text": [
      "\r"
     ]
    },
    {
     "data": {
      "application/vnd.jupyter.widget-view+json": {
       "model_id": "",
       "version_major": 2,
       "version_minor": 0
      },
      "text/plain": [
       "HBox(children=(IntProgress(value=0, description='jsonb_91_no_alog'), HTML(value='')))"
      ]
     },
     "metadata": {},
     "output_type": "display_data"
    },
    {
     "name": "stdout",
     "output_type": "stream",
     "text": [
      "\r"
     ]
    },
    {
     "data": {
      "application/vnd.jupyter.widget-view+json": {
       "model_id": "",
       "version_major": 2,
       "version_minor": 0
      },
      "text/plain": [
       "HBox(children=(IntProgress(value=0, description='jsonb_91_alog'), HTML(value='')))"
      ]
     },
     "metadata": {},
     "output_type": "display_data"
    },
    {
     "name": "stdout",
     "output_type": "stream",
     "text": [
      "\r"
     ]
    },
    {
     "data": {
      "application/vnd.jupyter.widget-view+json": {
       "model_id": "",
       "version_major": 2,
       "version_minor": 0
      },
      "text/plain": [
       "HBox(children=(IntProgress(value=0, description='jsonb_92_no_alog'), HTML(value='')))"
      ]
     },
     "metadata": {},
     "output_type": "display_data"
    },
    {
     "name": "stdout",
     "output_type": "stream",
     "text": [
      "\r"
     ]
    },
    {
     "data": {
      "application/vnd.jupyter.widget-view+json": {
       "model_id": "",
       "version_major": 2,
       "version_minor": 0
      },
      "text/plain": [
       "HBox(children=(IntProgress(value=0, description='jsonb_92_alog'), HTML(value='')))"
      ]
     },
     "metadata": {},
     "output_type": "display_data"
    },
    {
     "name": "stdout",
     "output_type": "stream",
     "text": [
      "\r"
     ]
    },
    {
     "data": {
      "application/vnd.jupyter.widget-view+json": {
       "model_id": "",
       "version_major": 2,
       "version_minor": 0
      },
      "text/plain": [
       "HBox(children=(IntProgress(value=0, description='planb'), HTML(value='')))"
      ]
     },
     "metadata": {},
     "output_type": "display_data"
    },
    {
     "name": "stdout",
     "output_type": "stream",
     "text": [
      "\r"
     ]
    },
    {
     "data": {
      "text/html": [
       "<div>\n",
       "<style scoped>\n",
       "    .dataframe tbody tr th:only-of-type {\n",
       "        vertical-align: middle;\n",
       "    }\n",
       "\n",
       "    .dataframe tbody tr th {\n",
       "        vertical-align: top;\n",
       "    }\n",
       "\n",
       "    .dataframe thead tr th {\n",
       "        text-align: left;\n",
       "    }\n",
       "</style>\n",
       "<table border=\"1\" class=\"dataframe\">\n",
       "  <thead>\n",
       "    <tr>\n",
       "      <th></th>\n",
       "      <th colspan=\"2\" halign=\"left\">iterations</th>\n",
       "      <th colspan=\"4\" halign=\"left\">time in seconds</th>\n",
       "      <th colspan=\"2\" halign=\"left\"></th>\n",
       "    </tr>\n",
       "    <tr>\n",
       "      <th></th>\n",
       "      <th>total</th>\n",
       "      <th>failed</th>\n",
       "      <th>total</th>\n",
       "      <th>mean</th>\n",
       "      <th>median</th>\n",
       "      <th>stdev</th>\n",
       "      <th>n resources</th>\n",
       "      <th>n times slower</th>\n",
       "    </tr>\n",
       "  </thead>\n",
       "  <tbody>\n",
       "    <tr>\n",
       "      <th>planb</th>\n",
       "      <td>100</td>\n",
       "      <td>0</td>\n",
       "      <td>1.983603</td>\n",
       "      <td>0.019836</td>\n",
       "      <td>0.019082</td>\n",
       "      <td>0.003861</td>\n",
       "      <td>100</td>\n",
       "      <td>1.0</td>\n",
       "    </tr>\n",
       "    <tr>\n",
       "      <th>jsonb_92_no_alog</th>\n",
       "      <td>100</td>\n",
       "      <td>0</td>\n",
       "      <td>3.799127</td>\n",
       "      <td>0.037991</td>\n",
       "      <td>0.037830</td>\n",
       "      <td>0.006878</td>\n",
       "      <td>100</td>\n",
       "      <td>2.0</td>\n",
       "    </tr>\n",
       "    <tr>\n",
       "      <th>qvarn</th>\n",
       "      <td>100</td>\n",
       "      <td>0</td>\n",
       "      <td>3.975797</td>\n",
       "      <td>0.039758</td>\n",
       "      <td>0.039703</td>\n",
       "      <td>0.005189</td>\n",
       "      <td>101</td>\n",
       "      <td>2.1</td>\n",
       "    </tr>\n",
       "    <tr>\n",
       "      <th>jsonb_91_no_alog</th>\n",
       "      <td>100</td>\n",
       "      <td>0</td>\n",
       "      <td>4.078000</td>\n",
       "      <td>0.040780</td>\n",
       "      <td>0.040329</td>\n",
       "      <td>0.007158</td>\n",
       "      <td>100</td>\n",
       "      <td>2.1</td>\n",
       "    </tr>\n",
       "    <tr>\n",
       "      <th>jsonb_92_alog</th>\n",
       "      <td>100</td>\n",
       "      <td>0</td>\n",
       "      <td>4.905717</td>\n",
       "      <td>0.049057</td>\n",
       "      <td>0.048888</td>\n",
       "      <td>0.006974</td>\n",
       "      <td>100</td>\n",
       "      <td>2.6</td>\n",
       "    </tr>\n",
       "    <tr>\n",
       "      <th>jsonb_91_alog</th>\n",
       "      <td>100</td>\n",
       "      <td>0</td>\n",
       "      <td>5.517915</td>\n",
       "      <td>0.055179</td>\n",
       "      <td>0.054810</td>\n",
       "      <td>0.007876</td>\n",
       "      <td>100</td>\n",
       "      <td>2.9</td>\n",
       "    </tr>\n",
       "  </tbody>\n",
       "</table>\n",
       "</div>"
      ],
      "text/plain": [
       "                 iterations        time in seconds                      \\\n",
       "                      total failed           total      mean    median   \n",
       "planb                   100      0        1.983603  0.019836  0.019082   \n",
       "jsonb_92_no_alog        100      0        3.799127  0.037991  0.037830   \n",
       "qvarn                   100      0        3.975797  0.039758  0.039703   \n",
       "jsonb_91_no_alog        100      0        4.078000  0.040780  0.040329   \n",
       "jsonb_92_alog           100      0        4.905717  0.049057  0.048888   \n",
       "jsonb_91_alog           100      0        5.517915  0.055179  0.054810   \n",
       "\n",
       "                                                       \n",
       "                     stdev n resources n times slower  \n",
       "planb             0.003861         100            1.0  \n",
       "jsonb_92_no_alog  0.006878         100            2.0  \n",
       "qvarn             0.005189         101            2.1  \n",
       "jsonb_91_no_alog  0.007158         100            2.1  \n",
       "jsonb_92_alog     0.006974         100            2.6  \n",
       "jsonb_91_alog     0.007876         100            2.9"
      ]
     },
     "metadata": {},
     "output_type": "display_data"
    },
    {
     "data": {
      "text/plain": [
       "<matplotlib.axes._subplots.AxesSubplot object at 0x7fafa8057cf8>"
      ]
     },
     "metadata": {},
     "output_type": "display_data"
    },
    {
     "data": {
      "image/png": "[encoded data removed]",
      "text/plain": [
       "<Figure size 1152x576 with 1 Axes>"
      ]
     },
     "metadata": {},
     "output_type": "display_data"
    }
   ],
   "source": [
    "class UpdateOrgs(Test):\n",
    "    \n",
    "    def __iter__(self):\n",
    "        for resource in session.get(f'{self.backend}/orgs').json()['resources'][:self.total]:\n",
    "            try:\n",
    "                yield session.get(f'{self.backend}/orgs/{resource[\"id\"]}').json()\n",
    "            except requests.ConnectionError:\n",
    "                pass\n",
    "        \n",
    "    def __call__(self, resource):\n",
    "        resource = dict(next(orgs[self.backend]), id=resource['id'], revision=resource['revision'])\n",
    "        return session.put(f'{self.backend}/orgs/{resource[\"id\"]}', json=resource)\n",
    "    \n",
    "measure(100, backends, UpdateOrgs)"
   ]
  },
  {
   "cell_type": "code",
   "execution_count": 21,
   "metadata": {},
   "outputs": [
    {
     "data": {
      "application/vnd.jupyter.widget-view+json": {
       "model_id": "",
       "version_major": 2,
       "version_minor": 0
      },
      "text/plain": [
       "HBox(children=(IntProgress(value=0, description='qvarn', max=101), HTML(value='')))"
      ]
     },
     "metadata": {},
     "output_type": "display_data"
    },
    {
     "name": "stdout",
     "output_type": "stream",
     "text": [
      "\r"
     ]
    },
    {
     "data": {
      "application/vnd.jupyter.widget-view+json": {
       "model_id": "",
       "version_major": 2,
       "version_minor": 0
      },
      "text/plain": [
       "HBox(children=(IntProgress(value=0, description='jsonb_91_no_alog'), HTML(value='')))"
      ]
     },
     "metadata": {},
     "output_type": "display_data"
    },
    {
     "name": "stdout",
     "output_type": "stream",
     "text": [
      "\r"
     ]
    },
    {
     "data": {
      "application/vnd.jupyter.widget-view+json": {
       "model_id": "",
       "version_major": 2,
       "version_minor": 0
      },
      "text/plain": [
       "HBox(children=(IntProgress(value=0, description='jsonb_91_alog'), HTML(value='')))"
      ]
     },
     "metadata": {},
     "output_type": "display_data"
    },
    {
     "name": "stdout",
     "output_type": "stream",
     "text": [
      "\r"
     ]
    },
    {
     "data": {
      "application/vnd.jupyter.widget-view+json": {
       "model_id": "",
       "version_major": 2,
       "version_minor": 0
      },
      "text/plain": [
       "HBox(children=(IntProgress(value=0, description='jsonb_92_no_alog'), HTML(value='')))"
      ]
     },
     "metadata": {},
     "output_type": "display_data"
    },
    {
     "name": "stdout",
     "output_type": "stream",
     "text": [
      "\r"
     ]
    },
    {
     "data": {
      "application/vnd.jupyter.widget-view+json": {
       "model_id": "",
       "version_major": 2,
       "version_minor": 0
      },
      "text/plain": [
       "HBox(children=(IntProgress(value=0, description='jsonb_92_alog'), HTML(value='')))"
      ]
     },
     "metadata": {},
     "output_type": "display_data"
    },
    {
     "name": "stdout",
     "output_type": "stream",
     "text": [
      "\r"
     ]
    },
    {
     "data": {
      "application/vnd.jupyter.widget-view+json": {
       "model_id": "",
       "version_major": 2,
       "version_minor": 0
      },
      "text/plain": [
       "HBox(children=(IntProgress(value=0, description='planb'), HTML(value='')))"
      ]
     },
     "metadata": {},
     "output_type": "display_data"
    },
    {
     "name": "stdout",
     "output_type": "stream",
     "text": [
      "\r"
     ]
    },
    {
     "data": {
      "text/html": [
       "<div>\n",
       "<style scoped>\n",
       "    .dataframe tbody tr th:only-of-type {\n",
       "        vertical-align: middle;\n",
       "    }\n",
       "\n",
       "    .dataframe tbody tr th {\n",
       "        vertical-align: top;\n",
       "    }\n",
       "\n",
       "    .dataframe thead tr th {\n",
       "        text-align: left;\n",
       "    }\n",
       "</style>\n",
       "<table border=\"1\" class=\"dataframe\">\n",
       "  <thead>\n",
       "    <tr>\n",
       "      <th></th>\n",
       "      <th colspan=\"2\" halign=\"left\">iterations</th>\n",
       "      <th colspan=\"4\" halign=\"left\">time in seconds</th>\n",
       "      <th colspan=\"2\" halign=\"left\"></th>\n",
       "    </tr>\n",
       "    <tr>\n",
       "      <th></th>\n",
       "      <th>total</th>\n",
       "      <th>failed</th>\n",
       "      <th>total</th>\n",
       "      <th>mean</th>\n",
       "      <th>median</th>\n",
       "      <th>stdev</th>\n",
       "      <th>n resources</th>\n",
       "      <th>n times slower</th>\n",
       "    </tr>\n",
       "  </thead>\n",
       "  <tbody>\n",
       "    <tr>\n",
       "      <th>planb</th>\n",
       "      <td>100</td>\n",
       "      <td>0</td>\n",
       "      <td>1.093579</td>\n",
       "      <td>0.010936</td>\n",
       "      <td>0.010266</td>\n",
       "      <td>0.002557</td>\n",
       "      <td>100</td>\n",
       "      <td>1.0</td>\n",
       "    </tr>\n",
       "    <tr>\n",
       "      <th>jsonb_92_no_alog</th>\n",
       "      <td>100</td>\n",
       "      <td>0</td>\n",
       "      <td>1.406071</td>\n",
       "      <td>0.014061</td>\n",
       "      <td>0.013504</td>\n",
       "      <td>0.002593</td>\n",
       "      <td>100</td>\n",
       "      <td>1.3</td>\n",
       "    </tr>\n",
       "    <tr>\n",
       "      <th>jsonb_91_no_alog</th>\n",
       "      <td>100</td>\n",
       "      <td>0</td>\n",
       "      <td>1.632242</td>\n",
       "      <td>0.016322</td>\n",
       "      <td>0.015855</td>\n",
       "      <td>0.003503</td>\n",
       "      <td>100</td>\n",
       "      <td>1.5</td>\n",
       "    </tr>\n",
       "    <tr>\n",
       "      <th>jsonb_92_alog</th>\n",
       "      <td>100</td>\n",
       "      <td>0</td>\n",
       "      <td>2.725313</td>\n",
       "      <td>0.027253</td>\n",
       "      <td>0.025810</td>\n",
       "      <td>0.005363</td>\n",
       "      <td>100</td>\n",
       "      <td>2.5</td>\n",
       "    </tr>\n",
       "    <tr>\n",
       "      <th>jsonb_91_alog</th>\n",
       "      <td>100</td>\n",
       "      <td>0</td>\n",
       "      <td>3.265606</td>\n",
       "      <td>0.032656</td>\n",
       "      <td>0.030748</td>\n",
       "      <td>0.011690</td>\n",
       "      <td>100</td>\n",
       "      <td>3.0</td>\n",
       "    </tr>\n",
       "    <tr>\n",
       "      <th>qvarn</th>\n",
       "      <td>101</td>\n",
       "      <td>0</td>\n",
       "      <td>3.260521</td>\n",
       "      <td>0.032282</td>\n",
       "      <td>0.031253</td>\n",
       "      <td>0.005276</td>\n",
       "      <td>101</td>\n",
       "      <td>3.0</td>\n",
       "    </tr>\n",
       "  </tbody>\n",
       "</table>\n",
       "</div>"
      ],
      "text/plain": [
       "                 iterations        time in seconds                      \\\n",
       "                      total failed           total      mean    median   \n",
       "planb                   100      0        1.093579  0.010936  0.010266   \n",
       "jsonb_92_no_alog        100      0        1.406071  0.014061  0.013504   \n",
       "jsonb_91_no_alog        100      0        1.632242  0.016322  0.015855   \n",
       "jsonb_92_alog           100      0        2.725313  0.027253  0.025810   \n",
       "jsonb_91_alog           100      0        3.265606  0.032656  0.030748   \n",
       "qvarn                   101      0        3.260521  0.032282  0.031253   \n",
       "\n",
       "                                                       \n",
       "                     stdev n resources n times slower  \n",
       "planb             0.002557         100            1.0  \n",
       "jsonb_92_no_alog  0.002593         100            1.3  \n",
       "jsonb_91_no_alog  0.003503         100            1.5  \n",
       "jsonb_92_alog     0.005363         100            2.5  \n",
       "jsonb_91_alog     0.011690         100            3.0  \n",
       "qvarn             0.005276         101            3.0"
      ]
     },
     "metadata": {},
     "output_type": "display_data"
    },
    {
     "data": {
      "text/plain": [
       "<matplotlib.axes._subplots.AxesSubplot object at 0x7fafa8257390>"
      ]
     },
     "metadata": {},
     "output_type": "display_data"
    },
    {
     "data": {
      "image/png": "[encoded data removed]",
      "text/plain": [
       "<Figure size 1152x576 with 1 Axes>"
      ]
     },
     "metadata": {},
     "output_type": "display_data"
    }
   ],
   "source": [
    "class DeleteResources(Test):\n",
    "    \n",
    "    def prepare(self, resource_type):\n",
    "        self.resource_type = resource_type\n",
    "        self.resp = session.get(f'{self.backend}/{resource_type}').json()\n",
    "        self.total = len(self.resp['resources'])\n",
    "        \n",
    "    def __iter__(self):\n",
    "        yield from iter(self.resp['resources'])\n",
    "            \n",
    "    def __call__(self, resource):\n",
    "        return session.delete(f'{self.backend}/{self.resource_type}/{resource[\"id\"]}')\n",
    "\n",
    "measure(None, backends, DeleteResources, 'orgs')"
   ]
  },
  {
   "cell_type": "code",
   "execution_count": 22,
   "metadata": {},
   "outputs": [
    {
     "data": {
      "application/vnd.jupyter.widget-view+json": {
       "model_id": "",
       "version_major": 2,
       "version_minor": 0
      },
      "text/plain": [
       "HBox(children=(IntProgress(value=1, bar_style='info', description='delete: qvarn', max=1), HTML(value='')))"
      ]
     },
     "metadata": {},
     "output_type": "display_data"
    },
    {
     "name": "stdout",
     "output_type": "stream",
     "text": [
      "\r"
     ]
    },
    {
     "data": {
      "application/vnd.jupyter.widget-view+json": {
       "model_id": "",
       "version_major": 2,
       "version_minor": 0
      },
      "text/plain": [
       "HBox(children=(IntProgress(value=1, bar_style='info', description='delete: jsonb_91_no_alog', max=1), HTML(val…"
      ]
     },
     "metadata": {},
     "output_type": "display_data"
    },
    {
     "name": "stdout",
     "output_type": "stream",
     "text": [
      "\r"
     ]
    },
    {
     "data": {
      "application/vnd.jupyter.widget-view+json": {
       "model_id": "",
       "version_major": 2,
       "version_minor": 0
      },
      "text/plain": [
       "HBox(children=(IntProgress(value=1, bar_style='info', description='delete: jsonb_91_alog', max=1), HTML(value=…"
      ]
     },
     "metadata": {},
     "output_type": "display_data"
    },
    {
     "name": "stdout",
     "output_type": "stream",
     "text": [
      "\r"
     ]
    },
    {
     "data": {
      "application/vnd.jupyter.widget-view+json": {
       "model_id": "",
       "version_major": 2,
       "version_minor": 0
      },
      "text/plain": [
       "HBox(children=(IntProgress(value=1, bar_style='info', description='delete: jsonb_92_no_alog', max=1), HTML(val…"
      ]
     },
     "metadata": {},
     "output_type": "display_data"
    },
    {
     "name": "stdout",
     "output_type": "stream",
     "text": [
      "\r"
     ]
    },
    {
     "data": {
      "application/vnd.jupyter.widget-view+json": {
       "model_id": "",
       "version_major": 2,
       "version_minor": 0
      },
      "text/plain": [
       "HBox(children=(IntProgress(value=1, bar_style='info', description='delete: jsonb_92_alog', max=1), HTML(value=…"
      ]
     },
     "metadata": {},
     "output_type": "display_data"
    },
    {
     "name": "stdout",
     "output_type": "stream",
     "text": [
      "\r"
     ]
    },
    {
     "data": {
      "application/vnd.jupyter.widget-view+json": {
       "model_id": "",
       "version_major": 2,
       "version_minor": 0
      },
      "text/plain": [
       "HBox(children=(IntProgress(value=1, bar_style='info', description='delete: planb', max=1), HTML(value='')))"
      ]
     },
     "metadata": {},
     "output_type": "display_data"
    },
    {
     "name": "stdout",
     "output_type": "stream",
     "text": [
      "\r"
     ]
    },
    {
     "data": {
      "application/vnd.jupyter.widget-view+json": {
       "model_id": "",
       "version_major": 2,
       "version_minor": 0
      },
      "text/plain": [
       "HBox(children=(IntProgress(value=0, description='create: qvarn'), HTML(value='')))"
      ]
     },
     "metadata": {},
     "output_type": "display_data"
    },
    {
     "name": "stdout",
     "output_type": "stream",
     "text": [
      "\r"
     ]
    },
    {
     "data": {
      "application/vnd.jupyter.widget-view+json": {
       "model_id": "",
       "version_major": 2,
       "version_minor": 0
      },
      "text/plain": [
       "HBox(children=(IntProgress(value=0, description='create: jsonb_91_no_alog'), HTML(value='')))"
      ]
     },
     "metadata": {},
     "output_type": "display_data"
    },
    {
     "name": "stdout",
     "output_type": "stream",
     "text": [
      "\r"
     ]
    },
    {
     "data": {
      "application/vnd.jupyter.widget-view+json": {
       "model_id": "",
       "version_major": 2,
       "version_minor": 0
      },
      "text/plain": [
       "HBox(children=(IntProgress(value=0, description='create: jsonb_91_alog'), HTML(value='')))"
      ]
     },
     "metadata": {},
     "output_type": "display_data"
    },
    {
     "name": "stdout",
     "output_type": "stream",
     "text": [
      "\r"
     ]
    },
    {
     "data": {
      "application/vnd.jupyter.widget-view+json": {
       "model_id": "",
       "version_major": 2,
       "version_minor": 0
      },
      "text/plain": [
       "HBox(children=(IntProgress(value=0, description='create: jsonb_92_no_alog'), HTML(value='')))"
      ]
     },
     "metadata": {},
     "output_type": "display_data"
    },
    {
     "name": "stdout",
     "output_type": "stream",
     "text": [
      "\r"
     ]
    },
    {
     "data": {
      "application/vnd.jupyter.widget-view+json": {
       "model_id": "",
       "version_major": 2,
       "version_minor": 0
      },
      "text/plain": [
       "HBox(children=(IntProgress(value=0, description='create: jsonb_92_alog'), HTML(value='')))"
      ]
     },
     "metadata": {},
     "output_type": "display_data"
    },
    {
     "name": "stdout",
     "output_type": "stream",
     "text": [
      "\r"
     ]
    },
    {
     "data": {
      "application/vnd.jupyter.widget-view+json": {
       "model_id": "",
       "version_major": 2,
       "version_minor": 0
      },
      "text/plain": [
       "HBox(children=(IntProgress(value=0, description='create: planb'), HTML(value='')))"
      ]
     },
     "metadata": {},
     "output_type": "display_data"
    },
    {
     "name": "stdout",
     "output_type": "stream",
     "text": [
      "\r"
     ]
    },
    {
     "data": {
      "text/html": [
       "<div>\n",
       "<style scoped>\n",
       "    .dataframe tbody tr th:only-of-type {\n",
       "        vertical-align: middle;\n",
       "    }\n",
       "\n",
       "    .dataframe tbody tr th {\n",
       "        vertical-align: top;\n",
       "    }\n",
       "\n",
       "    .dataframe thead tr th {\n",
       "        text-align: left;\n",
       "    }\n",
       "</style>\n",
       "<table border=\"1\" class=\"dataframe\">\n",
       "  <thead>\n",
       "    <tr>\n",
       "      <th></th>\n",
       "      <th colspan=\"2\" halign=\"left\">delete orgs</th>\n",
       "      <th colspan=\"2\" halign=\"left\">create orgs</th>\n",
       "      <th></th>\n",
       "    </tr>\n",
       "    <tr>\n",
       "      <th></th>\n",
       "      <th>deleted</th>\n",
       "      <th>failed</th>\n",
       "      <th>created</th>\n",
       "      <th>failed</th>\n",
       "      <th>orgs</th>\n",
       "    </tr>\n",
       "  </thead>\n",
       "  <tbody>\n",
       "    <tr>\n",
       "      <th>qvarn</th>\n",
       "      <td>0</td>\n",
       "      <td>0</td>\n",
       "      <td>99</td>\n",
       "      <td>1</td>\n",
       "      <td>99</td>\n",
       "    </tr>\n",
       "    <tr>\n",
       "      <th>jsonb_91_no_alog</th>\n",
       "      <td>0</td>\n",
       "      <td>0</td>\n",
       "      <td>100</td>\n",
       "      <td>0</td>\n",
       "      <td>100</td>\n",
       "    </tr>\n",
       "    <tr>\n",
       "      <th>jsonb_91_alog</th>\n",
       "      <td>0</td>\n",
       "      <td>0</td>\n",
       "      <td>100</td>\n",
       "      <td>0</td>\n",
       "      <td>100</td>\n",
       "    </tr>\n",
       "    <tr>\n",
       "      <th>jsonb_92_no_alog</th>\n",
       "      <td>0</td>\n",
       "      <td>0</td>\n",
       "      <td>100</td>\n",
       "      <td>0</td>\n",
       "      <td>100</td>\n",
       "    </tr>\n",
       "    <tr>\n",
       "      <th>jsonb_92_alog</th>\n",
       "      <td>0</td>\n",
       "      <td>0</td>\n",
       "      <td>100</td>\n",
       "      <td>0</td>\n",
       "      <td>100</td>\n",
       "    </tr>\n",
       "    <tr>\n",
       "      <th>planb</th>\n",
       "      <td>0</td>\n",
       "      <td>0</td>\n",
       "      <td>100</td>\n",
       "      <td>0</td>\n",
       "      <td>100</td>\n",
       "    </tr>\n",
       "  </tbody>\n",
       "</table>\n",
       "</div>"
      ],
      "text/plain": [
       "                 delete orgs        create orgs            \n",
       "                     deleted failed     created failed orgs\n",
       "qvarn                      0      0          99      1   99\n",
       "jsonb_91_no_alog           0      0         100      0  100\n",
       "jsonb_91_alog              0      0         100      0  100\n",
       "jsonb_92_no_alog           0      0         100      0  100\n",
       "jsonb_92_alog              0      0         100      0  100\n",
       "planb                      0      0         100      0  100"
      ]
     },
     "execution_count": 22,
     "metadata": {},
     "output_type": "execute_result"
    }
   ],
   "source": [
    "reset(100, backends)"
   ]
  },
  {
   "cell_type": "code",
   "execution_count": 23,
   "metadata": {},
   "outputs": [
    {
     "data": {
      "application/vnd.jupyter.widget-view+json": {
       "model_id": "",
       "version_major": 2,
       "version_minor": 0
      },
      "text/plain": [
       "HBox(children=(IntProgress(value=0, description='qvarn'), HTML(value='')))"
      ]
     },
     "metadata": {},
     "output_type": "display_data"
    },
    {
     "name": "stdout",
     "output_type": "stream",
     "text": [
      "\r"
     ]
    },
    {
     "data": {
      "application/vnd.jupyter.widget-view+json": {
       "model_id": "",
       "version_major": 2,
       "version_minor": 0
      },
      "text/plain": [
       "HBox(children=(IntProgress(value=0, description='jsonb_91_no_alog'), HTML(value='')))"
      ]
     },
     "metadata": {},
     "output_type": "display_data"
    },
    {
     "name": "stdout",
     "output_type": "stream",
     "text": [
      "\r"
     ]
    },
    {
     "data": {
      "application/vnd.jupyter.widget-view+json": {
       "model_id": "",
       "version_major": 2,
       "version_minor": 0
      },
      "text/plain": [
       "HBox(children=(IntProgress(value=0, description='jsonb_91_alog'), HTML(value='')))"
      ]
     },
     "metadata": {},
     "output_type": "display_data"
    },
    {
     "name": "stdout",
     "output_type": "stream",
     "text": [
      "\r"
     ]
    },
    {
     "data": {
      "application/vnd.jupyter.widget-view+json": {
       "model_id": "",
       "version_major": 2,
       "version_minor": 0
      },
      "text/plain": [
       "HBox(children=(IntProgress(value=0, description='jsonb_92_no_alog'), HTML(value='')))"
      ]
     },
     "metadata": {},
     "output_type": "display_data"
    },
    {
     "name": "stdout",
     "output_type": "stream",
     "text": [
      "\r"
     ]
    },
    {
     "data": {
      "application/vnd.jupyter.widget-view+json": {
       "model_id": "",
       "version_major": 2,
       "version_minor": 0
      },
      "text/plain": [
       "HBox(children=(IntProgress(value=0, description='jsonb_92_alog'), HTML(value='')))"
      ]
     },
     "metadata": {},
     "output_type": "display_data"
    },
    {
     "name": "stdout",
     "output_type": "stream",
     "text": [
      "\r"
     ]
    },
    {
     "data": {
      "application/vnd.jupyter.widget-view+json": {
       "model_id": "",
       "version_major": 2,
       "version_minor": 0
      },
      "text/plain": [
       "HBox(children=(IntProgress(value=0, description='planb'), HTML(value='')))"
      ]
     },
     "metadata": {},
     "output_type": "display_data"
    },
    {
     "name": "stdout",
     "output_type": "stream",
     "text": [
      "\r"
     ]
    },
    {
     "data": {
      "text/html": [
       "<div>\n",
       "<style scoped>\n",
       "    .dataframe tbody tr th:only-of-type {\n",
       "        vertical-align: middle;\n",
       "    }\n",
       "\n",
       "    .dataframe tbody tr th {\n",
       "        vertical-align: top;\n",
       "    }\n",
       "\n",
       "    .dataframe thead tr th {\n",
       "        text-align: left;\n",
       "    }\n",
       "</style>\n",
       "<table border=\"1\" class=\"dataframe\">\n",
       "  <thead>\n",
       "    <tr>\n",
       "      <th></th>\n",
       "      <th colspan=\"2\" halign=\"left\">iterations</th>\n",
       "      <th colspan=\"4\" halign=\"left\">time in seconds</th>\n",
       "      <th colspan=\"2\" halign=\"left\"></th>\n",
       "    </tr>\n",
       "    <tr>\n",
       "      <th></th>\n",
       "      <th>total</th>\n",
       "      <th>failed</th>\n",
       "      <th>total</th>\n",
       "      <th>mean</th>\n",
       "      <th>median</th>\n",
       "      <th>stdev</th>\n",
       "      <th>n resources</th>\n",
       "      <th>n times slower</th>\n",
       "    </tr>\n",
       "  </thead>\n",
       "  <tbody>\n",
       "    <tr>\n",
       "      <th>planb</th>\n",
       "      <td>100</td>\n",
       "      <td>0</td>\n",
       "      <td>1.003766</td>\n",
       "      <td>0.010038</td>\n",
       "      <td>0.009605</td>\n",
       "      <td>0.002337</td>\n",
       "      <td>100</td>\n",
       "      <td>1.0</td>\n",
       "    </tr>\n",
       "    <tr>\n",
       "      <th>qvarn</th>\n",
       "      <td>100</td>\n",
       "      <td>0</td>\n",
       "      <td>1.272271</td>\n",
       "      <td>0.012723</td>\n",
       "      <td>0.011445</td>\n",
       "      <td>0.006130</td>\n",
       "      <td>99</td>\n",
       "      <td>1.2</td>\n",
       "    </tr>\n",
       "    <tr>\n",
       "      <th>jsonb_92_no_alog</th>\n",
       "      <td>100</td>\n",
       "      <td>0</td>\n",
       "      <td>2.769862</td>\n",
       "      <td>0.027699</td>\n",
       "      <td>0.026291</td>\n",
       "      <td>0.006619</td>\n",
       "      <td>100</td>\n",
       "      <td>2.7</td>\n",
       "    </tr>\n",
       "    <tr>\n",
       "      <th>jsonb_91_no_alog</th>\n",
       "      <td>100</td>\n",
       "      <td>0</td>\n",
       "      <td>3.125002</td>\n",
       "      <td>0.031250</td>\n",
       "      <td>0.031248</td>\n",
       "      <td>0.005381</td>\n",
       "      <td>100</td>\n",
       "      <td>3.3</td>\n",
       "    </tr>\n",
       "    <tr>\n",
       "      <th>jsonb_92_alog</th>\n",
       "      <td>100</td>\n",
       "      <td>0</td>\n",
       "      <td>13.937571</td>\n",
       "      <td>0.139376</td>\n",
       "      <td>0.140182</td>\n",
       "      <td>0.011731</td>\n",
       "      <td>100</td>\n",
       "      <td>14.6</td>\n",
       "    </tr>\n",
       "    <tr>\n",
       "      <th>jsonb_91_alog</th>\n",
       "      <td>100</td>\n",
       "      <td>0</td>\n",
       "      <td>154.624619</td>\n",
       "      <td>1.546246</td>\n",
       "      <td>1.579872</td>\n",
       "      <td>0.144767</td>\n",
       "      <td>100</td>\n",
       "      <td>164.5</td>\n",
       "    </tr>\n",
       "  </tbody>\n",
       "</table>\n",
       "</div>"
      ],
      "text/plain": [
       "                 iterations        time in seconds                      \\\n",
       "                      total failed           total      mean    median   \n",
       "planb                   100      0        1.003766  0.010038  0.009605   \n",
       "qvarn                   100      0        1.272271  0.012723  0.011445   \n",
       "jsonb_92_no_alog        100      0        2.769862  0.027699  0.026291   \n",
       "jsonb_91_no_alog        100      0        3.125002  0.031250  0.031248   \n",
       "jsonb_92_alog           100      0       13.937571  0.139376  0.140182   \n",
       "jsonb_91_alog           100      0      154.624619  1.546246  1.579872   \n",
       "\n",
       "                                                       \n",
       "                     stdev n resources n times slower  \n",
       "planb             0.002337         100            1.0  \n",
       "qvarn             0.006130          99            1.2  \n",
       "jsonb_92_no_alog  0.006619         100            2.7  \n",
       "jsonb_91_no_alog  0.005381         100            3.3  \n",
       "jsonb_92_alog     0.011731         100           14.6  \n",
       "jsonb_91_alog     0.144767         100          164.5"
      ]
     },
     "metadata": {},
     "output_type": "display_data"
    },
    {
     "data": {
      "text/plain": [
       "<matplotlib.axes._subplots.AxesSubplot object at 0x7fafa82e3c18>"
      ]
     },
     "metadata": {},
     "output_type": "display_data"
    },
    {
     "data": {
      "image/png": "[encoded data removed]",
      "text/plain": [
       "<Figure size 1152x576 with 1 Axes>"
      ]
     },
     "metadata": {},
     "output_type": "display_data"
    }
   ],
   "source": [
    "class GetAll(Test):\n",
    "    \n",
    "    def __call__(self, item):\n",
    "        return session.get(f'{self.backend}/orgs')\n",
    "    \n",
    "measure(100, backends, GetAll)"
   ]
  },
  {
   "cell_type": "code",
   "execution_count": 24,
   "metadata": {},
   "outputs": [
    {
     "data": {
      "text/html": [
       "<div>\n",
       "<style scoped>\n",
       "    .dataframe tbody tr th:only-of-type {\n",
       "        vertical-align: middle;\n",
       "    }\n",
       "\n",
       "    .dataframe tbody tr th {\n",
       "        vertical-align: top;\n",
       "    }\n",
       "\n",
       "    .dataframe thead th {\n",
       "        text-align: right;\n",
       "    }\n",
       "</style>\n",
       "<table border=\"1\" class=\"dataframe\">\n",
       "  <thead>\n",
       "    <tr style=\"text-align: right;\">\n",
       "      <th></th>\n",
       "      <th>number of access log entries</th>\n",
       "    </tr>\n",
       "  </thead>\n",
       "  <tbody>\n",
       "    <tr>\n",
       "      <th>qvarn</th>\n",
       "      <td>0</td>\n",
       "    </tr>\n",
       "    <tr>\n",
       "      <th>jsonb_91_no_alog</th>\n",
       "      <td>0</td>\n",
       "    </tr>\n",
       "    <tr>\n",
       "      <th>jsonb_91_alog</th>\n",
       "      <td>47700</td>\n",
       "    </tr>\n",
       "    <tr>\n",
       "      <th>jsonb_92_no_alog</th>\n",
       "      <td>0</td>\n",
       "    </tr>\n",
       "    <tr>\n",
       "      <th>jsonb_92_alog</th>\n",
       "      <td>3720</td>\n",
       "    </tr>\n",
       "    <tr>\n",
       "      <th>planb</th>\n",
       "      <td>0</td>\n",
       "    </tr>\n",
       "  </tbody>\n",
       "</table>\n",
       "</div>"
      ],
      "text/plain": [
       "                  number of access log entries\n",
       "qvarn                                        0\n",
       "jsonb_91_no_alog                             0\n",
       "jsonb_91_alog                            47700\n",
       "jsonb_92_no_alog                             0\n",
       "jsonb_92_alog                             3720\n",
       "planb                                        0"
      ]
     },
     "execution_count": 24,
     "metadata": {},
     "output_type": "execute_result"
    }
   ],
   "source": [
    "pd.DataFrame(collections.OrderedDict([\n",
    "    (names[backend], len(session.get(f'{backend}/access').json()['resources']))\n",
    "    for backend in backends\n",
    "]), index=['number of access log entries']).T"
   ]
  },
  {
   "cell_type": "code",
   "execution_count": 25,
   "metadata": {},
   "outputs": [
    {
     "data": {
      "application/vnd.jupyter.widget-view+json": {
       "model_id": "",
       "version_major": 2,
       "version_minor": 0
      },
      "text/plain": [
       "HBox(children=(IntProgress(value=0, description='qvarn'), HTML(value='')))"
      ]
     },
     "metadata": {},
     "output_type": "display_data"
    },
    {
     "name": "stdout",
     "output_type": "stream",
     "text": [
      "\r"
     ]
    },
    {
     "data": {
      "application/vnd.jupyter.widget-view+json": {
       "model_id": "",
       "version_major": 2,
       "version_minor": 0
      },
      "text/plain": [
       "HBox(children=(IntProgress(value=0, description='jsonb_91_no_alog'), HTML(value='')))"
      ]
     },
     "metadata": {},
     "output_type": "display_data"
    },
    {
     "name": "stdout",
     "output_type": "stream",
     "text": [
      "\r"
     ]
    },
    {
     "data": {
      "application/vnd.jupyter.widget-view+json": {
       "model_id": "",
       "version_major": 2,
       "version_minor": 0
      },
      "text/plain": [
       "HBox(children=(IntProgress(value=0, description='jsonb_91_alog'), HTML(value='')))"
      ]
     },
     "metadata": {},
     "output_type": "display_data"
    },
    {
     "name": "stdout",
     "output_type": "stream",
     "text": [
      "\r"
     ]
    },
    {
     "data": {
      "application/vnd.jupyter.widget-view+json": {
       "model_id": "",
       "version_major": 2,
       "version_minor": 0
      },
      "text/plain": [
       "HBox(children=(IntProgress(value=0, description='jsonb_92_no_alog'), HTML(value='')))"
      ]
     },
     "metadata": {},
     "output_type": "display_data"
    },
    {
     "name": "stdout",
     "output_type": "stream",
     "text": [
      "\r"
     ]
    },
    {
     "data": {
      "application/vnd.jupyter.widget-view+json": {
       "model_id": "",
       "version_major": 2,
       "version_minor": 0
      },
      "text/plain": [
       "HBox(children=(IntProgress(value=0, description='jsonb_92_alog'), HTML(value='')))"
      ]
     },
     "metadata": {},
     "output_type": "display_data"
    },
    {
     "name": "stdout",
     "output_type": "stream",
     "text": [
      "\r"
     ]
    },
    {
     "data": {
      "application/vnd.jupyter.widget-view+json": {
       "model_id": "",
       "version_major": 2,
       "version_minor": 0
      },
      "text/plain": [
       "HBox(children=(IntProgress(value=0, description='planb'), HTML(value='')))"
      ]
     },
     "metadata": {},
     "output_type": "display_data"
    },
    {
     "name": "stdout",
     "output_type": "stream",
     "text": [
      "\r"
     ]
    },
    {
     "data": {
      "text/html": [
       "<div>\n",
       "<style scoped>\n",
       "    .dataframe tbody tr th:only-of-type {\n",
       "        vertical-align: middle;\n",
       "    }\n",
       "\n",
       "    .dataframe tbody tr th {\n",
       "        vertical-align: top;\n",
       "    }\n",
       "\n",
       "    .dataframe thead tr th {\n",
       "        text-align: left;\n",
       "    }\n",
       "</style>\n",
       "<table border=\"1\" class=\"dataframe\">\n",
       "  <thead>\n",
       "    <tr>\n",
       "      <th></th>\n",
       "      <th colspan=\"2\" halign=\"left\">iterations</th>\n",
       "      <th colspan=\"4\" halign=\"left\">time in seconds</th>\n",
       "      <th colspan=\"2\" halign=\"left\"></th>\n",
       "    </tr>\n",
       "    <tr>\n",
       "      <th></th>\n",
       "      <th>total</th>\n",
       "      <th>failed</th>\n",
       "      <th>total</th>\n",
       "      <th>mean</th>\n",
       "      <th>median</th>\n",
       "      <th>stdev</th>\n",
       "      <th>n resources</th>\n",
       "      <th>n times slower</th>\n",
       "    </tr>\n",
       "  </thead>\n",
       "  <tbody>\n",
       "    <tr>\n",
       "      <th>planb</th>\n",
       "      <td>100</td>\n",
       "      <td>0</td>\n",
       "      <td>3.216619</td>\n",
       "      <td>0.032166</td>\n",
       "      <td>0.030703</td>\n",
       "      <td>0.009206</td>\n",
       "      <td>100</td>\n",
       "      <td>1.0</td>\n",
       "    </tr>\n",
       "    <tr>\n",
       "      <th>jsonb_92_no_alog</th>\n",
       "      <td>100</td>\n",
       "      <td>0</td>\n",
       "      <td>22.362988</td>\n",
       "      <td>0.223630</td>\n",
       "      <td>0.221579</td>\n",
       "      <td>0.015993</td>\n",
       "      <td>100</td>\n",
       "      <td>7.2</td>\n",
       "    </tr>\n",
       "    <tr>\n",
       "      <th>jsonb_92_alog</th>\n",
       "      <td>100</td>\n",
       "      <td>0</td>\n",
       "      <td>34.170776</td>\n",
       "      <td>0.341708</td>\n",
       "      <td>0.340849</td>\n",
       "      <td>0.022749</td>\n",
       "      <td>100</td>\n",
       "      <td>11.1</td>\n",
       "    </tr>\n",
       "    <tr>\n",
       "      <th>jsonb_91_no_alog</th>\n",
       "      <td>100</td>\n",
       "      <td>0</td>\n",
       "      <td>34.241463</td>\n",
       "      <td>0.342415</td>\n",
       "      <td>0.342204</td>\n",
       "      <td>0.019058</td>\n",
       "      <td>100</td>\n",
       "      <td>11.1</td>\n",
       "    </tr>\n",
       "    <tr>\n",
       "      <th>qvarn</th>\n",
       "      <td>100</td>\n",
       "      <td>0</td>\n",
       "      <td>99.969237</td>\n",
       "      <td>0.999692</td>\n",
       "      <td>0.997076</td>\n",
       "      <td>0.040052</td>\n",
       "      <td>99</td>\n",
       "      <td>32.5</td>\n",
       "    </tr>\n",
       "    <tr>\n",
       "      <th>jsonb_91_alog</th>\n",
       "      <td>100</td>\n",
       "      <td>0</td>\n",
       "      <td>170.713566</td>\n",
       "      <td>1.707136</td>\n",
       "      <td>1.707337</td>\n",
       "      <td>0.073618</td>\n",
       "      <td>100</td>\n",
       "      <td>55.6</td>\n",
       "    </tr>\n",
       "  </tbody>\n",
       "</table>\n",
       "</div>"
      ],
      "text/plain": [
       "                 iterations        time in seconds                      \\\n",
       "                      total failed           total      mean    median   \n",
       "planb                   100      0        3.216619  0.032166  0.030703   \n",
       "jsonb_92_no_alog        100      0       22.362988  0.223630  0.221579   \n",
       "jsonb_92_alog           100      0       34.170776  0.341708  0.340849   \n",
       "jsonb_91_no_alog        100      0       34.241463  0.342415  0.342204   \n",
       "qvarn                   100      0       99.969237  0.999692  0.997076   \n",
       "jsonb_91_alog           100      0      170.713566  1.707136  1.707337   \n",
       "\n",
       "                                                       \n",
       "                     stdev n resources n times slower  \n",
       "planb             0.009206         100            1.0  \n",
       "jsonb_92_no_alog  0.015993         100            7.2  \n",
       "jsonb_92_alog     0.022749         100           11.1  \n",
       "jsonb_91_no_alog  0.019058         100           11.1  \n",
       "qvarn             0.040052          99           32.5  \n",
       "jsonb_91_alog     0.073618         100           55.6"
      ]
     },
     "metadata": {},
     "output_type": "display_data"
    },
    {
     "data": {
      "text/plain": [
       "<matplotlib.axes._subplots.AxesSubplot object at 0x7fafa840b358>"
      ]
     },
     "metadata": {},
     "output_type": "display_data"
    },
    {
     "data": {
      "image/png": "[encoded data removed]",
      "text/plain": [
       "<Figure size 1152x576 with 1 Axes>"
      ]
     },
     "metadata": {},
     "output_type": "display_data"
    }
   ],
   "source": [
    "class SearchShowAll(Test):\n",
    "    \n",
    "    def __call__(self, item):\n",
    "        return session.get(f'{self.backend}/orgs/search/show_all')\n",
    "\n",
    "measure(100, backends, SearchShowAll)"
   ]
  },
  {
   "cell_type": "code",
   "execution_count": 26,
   "metadata": {},
   "outputs": [
    {
     "data": {
      "application/vnd.jupyter.widget-view+json": {
       "model_id": "",
       "version_major": 2,
       "version_minor": 0
      },
      "text/plain": [
       "HBox(children=(IntProgress(value=0, description='qvarn'), HTML(value='')))"
      ]
     },
     "metadata": {},
     "output_type": "display_data"
    },
    {
     "name": "stdout",
     "output_type": "stream",
     "text": [
      "\r"
     ]
    },
    {
     "data": {
      "application/vnd.jupyter.widget-view+json": {
       "model_id": "",
       "version_major": 2,
       "version_minor": 0
      },
      "text/plain": [
       "HBox(children=(IntProgress(value=0, description='jsonb_91_no_alog'), HTML(value='')))"
      ]
     },
     "metadata": {},
     "output_type": "display_data"
    },
    {
     "name": "stdout",
     "output_type": "stream",
     "text": [
      "\r"
     ]
    },
    {
     "data": {
      "application/vnd.jupyter.widget-view+json": {
       "model_id": "",
       "version_major": 2,
       "version_minor": 0
      },
      "text/plain": [
       "HBox(children=(IntProgress(value=0, description='jsonb_91_alog'), HTML(value='')))"
      ]
     },
     "metadata": {},
     "output_type": "display_data"
    },
    {
     "name": "stdout",
     "output_type": "stream",
     "text": [
      "\r"
     ]
    },
    {
     "data": {
      "application/vnd.jupyter.widget-view+json": {
       "model_id": "",
       "version_major": 2,
       "version_minor": 0
      },
      "text/plain": [
       "HBox(children=(IntProgress(value=0, description='jsonb_92_no_alog'), HTML(value='')))"
      ]
     },
     "metadata": {},
     "output_type": "display_data"
    },
    {
     "name": "stdout",
     "output_type": "stream",
     "text": [
      "\r"
     ]
    },
    {
     "data": {
      "application/vnd.jupyter.widget-view+json": {
       "model_id": "",
       "version_major": 2,
       "version_minor": 0
      },
      "text/plain": [
       "HBox(children=(IntProgress(value=0, description='jsonb_92_alog'), HTML(value='')))"
      ]
     },
     "metadata": {},
     "output_type": "display_data"
    },
    {
     "name": "stdout",
     "output_type": "stream",
     "text": [
      "\r"
     ]
    },
    {
     "data": {
      "application/vnd.jupyter.widget-view+json": {
       "model_id": "",
       "version_major": 2,
       "version_minor": 0
      },
      "text/plain": [
       "HBox(children=(IntProgress(value=0, description='planb'), HTML(value='')))"
      ]
     },
     "metadata": {},
     "output_type": "display_data"
    },
    {
     "name": "stdout",
     "output_type": "stream",
     "text": [
      "\r"
     ]
    },
    {
     "data": {
      "text/html": [
       "<div>\n",
       "<style scoped>\n",
       "    .dataframe tbody tr th:only-of-type {\n",
       "        vertical-align: middle;\n",
       "    }\n",
       "\n",
       "    .dataframe tbody tr th {\n",
       "        vertical-align: top;\n",
       "    }\n",
       "\n",
       "    .dataframe thead tr th {\n",
       "        text-align: left;\n",
       "    }\n",
       "</style>\n",
       "<table border=\"1\" class=\"dataframe\">\n",
       "  <thead>\n",
       "    <tr>\n",
       "      <th></th>\n",
       "      <th colspan=\"2\" halign=\"left\">iterations</th>\n",
       "      <th colspan=\"4\" halign=\"left\">time in seconds</th>\n",
       "      <th colspan=\"2\" halign=\"left\"></th>\n",
       "    </tr>\n",
       "    <tr>\n",
       "      <th></th>\n",
       "      <th>total</th>\n",
       "      <th>failed</th>\n",
       "      <th>total</th>\n",
       "      <th>mean</th>\n",
       "      <th>median</th>\n",
       "      <th>stdev</th>\n",
       "      <th>n resources</th>\n",
       "      <th>n times slower</th>\n",
       "    </tr>\n",
       "  </thead>\n",
       "  <tbody>\n",
       "    <tr>\n",
       "      <th>planb</th>\n",
       "      <td>100</td>\n",
       "      <td>0</td>\n",
       "      <td>2.457648</td>\n",
       "      <td>0.024576</td>\n",
       "      <td>0.023922</td>\n",
       "      <td>0.004239</td>\n",
       "      <td>100</td>\n",
       "      <td>1.0</td>\n",
       "    </tr>\n",
       "    <tr>\n",
       "      <th>qvarn</th>\n",
       "      <td>100</td>\n",
       "      <td>0</td>\n",
       "      <td>17.709698</td>\n",
       "      <td>0.177097</td>\n",
       "      <td>0.175797</td>\n",
       "      <td>0.014934</td>\n",
       "      <td>99</td>\n",
       "      <td>7.3</td>\n",
       "    </tr>\n",
       "    <tr>\n",
       "      <th>jsonb_92_no_alog</th>\n",
       "      <td>100</td>\n",
       "      <td>0</td>\n",
       "      <td>21.706345</td>\n",
       "      <td>0.217063</td>\n",
       "      <td>0.215255</td>\n",
       "      <td>0.014073</td>\n",
       "      <td>100</td>\n",
       "      <td>9.0</td>\n",
       "    </tr>\n",
       "    <tr>\n",
       "      <th>jsonb_91_no_alog</th>\n",
       "      <td>100</td>\n",
       "      <td>0</td>\n",
       "      <td>28.697718</td>\n",
       "      <td>0.286977</td>\n",
       "      <td>0.283966</td>\n",
       "      <td>0.017059</td>\n",
       "      <td>100</td>\n",
       "      <td>11.9</td>\n",
       "    </tr>\n",
       "    <tr>\n",
       "      <th>jsonb_92_alog</th>\n",
       "      <td>100</td>\n",
       "      <td>0</td>\n",
       "      <td>33.322730</td>\n",
       "      <td>0.333227</td>\n",
       "      <td>0.332125</td>\n",
       "      <td>0.019049</td>\n",
       "      <td>100</td>\n",
       "      <td>13.9</td>\n",
       "    </tr>\n",
       "    <tr>\n",
       "      <th>jsonb_91_alog</th>\n",
       "      <td>100</td>\n",
       "      <td>0</td>\n",
       "      <td>165.945939</td>\n",
       "      <td>1.659459</td>\n",
       "      <td>1.659507</td>\n",
       "      <td>0.058020</td>\n",
       "      <td>100</td>\n",
       "      <td>69.4</td>\n",
       "    </tr>\n",
       "  </tbody>\n",
       "</table>\n",
       "</div>"
      ],
      "text/plain": [
       "                 iterations        time in seconds                      \\\n",
       "                      total failed           total      mean    median   \n",
       "planb                   100      0        2.457648  0.024576  0.023922   \n",
       "qvarn                   100      0       17.709698  0.177097  0.175797   \n",
       "jsonb_92_no_alog        100      0       21.706345  0.217063  0.215255   \n",
       "jsonb_91_no_alog        100      0       28.697718  0.286977  0.283966   \n",
       "jsonb_92_alog           100      0       33.322730  0.333227  0.332125   \n",
       "jsonb_91_alog           100      0      165.945939  1.659459  1.659507   \n",
       "\n",
       "                                                       \n",
       "                     stdev n resources n times slower  \n",
       "planb             0.004239         100            1.0  \n",
       "qvarn             0.014934          99            7.3  \n",
       "jsonb_92_no_alog  0.014073         100            9.0  \n",
       "jsonb_91_no_alog  0.017059         100           11.9  \n",
       "jsonb_92_alog     0.019049         100           13.9  \n",
       "jsonb_91_alog     0.058020         100           69.4"
      ]
     },
     "metadata": {},
     "output_type": "display_data"
    },
    {
     "data": {
      "text/plain": [
       "<matplotlib.axes._subplots.AxesSubplot object at 0x7fafa0bc8470>"
      ]
     },
     "metadata": {},
     "output_type": "display_data"
    },
    {
     "data": {
      "image/png": "[encoded data removed]",
      "text/plain": [
       "<Figure size 1152x576 with 1 Axes>"
      ]
     },
     "metadata": {},
     "output_type": "display_data"
    }
   ],
   "source": [
    "class SearchShow(Test):\n",
    "    \n",
    "    def __call__(self, item):\n",
    "        return session.get(f'{self.backend}/orgs/search/show/names')\n",
    "\n",
    "measure(100, backends, SearchShow)"
   ]
  },
  {
   "cell_type": "code",
   "execution_count": 27,
   "metadata": {},
   "outputs": [
    {
     "data": {
      "application/vnd.jupyter.widget-view+json": {
       "model_id": "",
       "version_major": 2,
       "version_minor": 0
      },
      "text/plain": [
       "HBox(children=(IntProgress(value=0, description='create: qvarn', max=1000), HTML(value='')))"
      ]
     },
     "metadata": {},
     "output_type": "display_data"
    },
    {
     "name": "stdout",
     "output_type": "stream",
     "text": [
      "\r"
     ]
    },
    {
     "data": {
      "application/vnd.jupyter.widget-view+json": {
       "model_id": "",
       "version_major": 2,
       "version_minor": 0
      },
      "text/plain": [
       "HBox(children=(IntProgress(value=0, description='create: jsonb_91_no_alog', max=1000), HTML(value='')))"
      ]
     },
     "metadata": {},
     "output_type": "display_data"
    },
    {
     "name": "stdout",
     "output_type": "stream",
     "text": [
      "\r"
     ]
    },
    {
     "data": {
      "application/vnd.jupyter.widget-view+json": {
       "model_id": "",
       "version_major": 2,
       "version_minor": 0
      },
      "text/plain": [
       "HBox(children=(IntProgress(value=0, description='create: jsonb_91_alog', max=1000), HTML(value='')))"
      ]
     },
     "metadata": {},
     "output_type": "display_data"
    },
    {
     "name": "stdout",
     "output_type": "stream",
     "text": [
      "\r"
     ]
    },
    {
     "data": {
      "application/vnd.jupyter.widget-view+json": {
       "model_id": "",
       "version_major": 2,
       "version_minor": 0
      },
      "text/plain": [
       "HBox(children=(IntProgress(value=0, description='create: jsonb_92_no_alog', max=1000), HTML(value='')))"
      ]
     },
     "metadata": {},
     "output_type": "display_data"
    },
    {
     "name": "stdout",
     "output_type": "stream",
     "text": [
      "\r"
     ]
    },
    {
     "data": {
      "application/vnd.jupyter.widget-view+json": {
       "model_id": "",
       "version_major": 2,
       "version_minor": 0
      },
      "text/plain": [
       "HBox(children=(IntProgress(value=0, description='create: jsonb_92_alog', max=1000), HTML(value='')))"
      ]
     },
     "metadata": {},
     "output_type": "display_data"
    },
    {
     "name": "stdout",
     "output_type": "stream",
     "text": [
      "\r"
     ]
    },
    {
     "data": {
      "application/vnd.jupyter.widget-view+json": {
       "model_id": "",
       "version_major": 2,
       "version_minor": 0
      },
      "text/plain": [
       "HBox(children=(IntProgress(value=0, description='create: planb', max=1000), HTML(value='')))"
      ]
     },
     "metadata": {},
     "output_type": "display_data"
    },
    {
     "name": "stdout",
     "output_type": "stream",
     "text": [
      "\r"
     ]
    },
    {
     "data": {
      "text/html": [
       "<div>\n",
       "<style scoped>\n",
       "    .dataframe tbody tr th:only-of-type {\n",
       "        vertical-align: middle;\n",
       "    }\n",
       "\n",
       "    .dataframe tbody tr th {\n",
       "        vertical-align: top;\n",
       "    }\n",
       "\n",
       "    .dataframe thead tr th {\n",
       "        text-align: left;\n",
       "    }\n",
       "</style>\n",
       "<table border=\"1\" class=\"dataframe\">\n",
       "  <thead>\n",
       "    <tr>\n",
       "      <th></th>\n",
       "      <th colspan=\"2\" halign=\"left\">delete orgs</th>\n",
       "      <th colspan=\"2\" halign=\"left\">create orgs</th>\n",
       "      <th></th>\n",
       "    </tr>\n",
       "    <tr>\n",
       "      <th></th>\n",
       "      <th>deleted</th>\n",
       "      <th>failed</th>\n",
       "      <th>created</th>\n",
       "      <th>failed</th>\n",
       "      <th>orgs</th>\n",
       "    </tr>\n",
       "  </thead>\n",
       "  <tbody>\n",
       "    <tr>\n",
       "      <th>qvarn</th>\n",
       "      <td>0</td>\n",
       "      <td>0</td>\n",
       "      <td>999</td>\n",
       "      <td>1</td>\n",
       "      <td>1098</td>\n",
       "    </tr>\n",
       "    <tr>\n",
       "      <th>jsonb_91_no_alog</th>\n",
       "      <td>0</td>\n",
       "      <td>0</td>\n",
       "      <td>1000</td>\n",
       "      <td>0</td>\n",
       "      <td>1100</td>\n",
       "    </tr>\n",
       "    <tr>\n",
       "      <th>jsonb_91_alog</th>\n",
       "      <td>0</td>\n",
       "      <td>0</td>\n",
       "      <td>1000</td>\n",
       "      <td>0</td>\n",
       "      <td>1100</td>\n",
       "    </tr>\n",
       "    <tr>\n",
       "      <th>jsonb_92_no_alog</th>\n",
       "      <td>0</td>\n",
       "      <td>0</td>\n",
       "      <td>1000</td>\n",
       "      <td>0</td>\n",
       "      <td>1100</td>\n",
       "    </tr>\n",
       "    <tr>\n",
       "      <th>jsonb_92_alog</th>\n",
       "      <td>0</td>\n",
       "      <td>0</td>\n",
       "      <td>1000</td>\n",
       "      <td>0</td>\n",
       "      <td>1100</td>\n",
       "    </tr>\n",
       "    <tr>\n",
       "      <th>planb</th>\n",
       "      <td>0</td>\n",
       "      <td>0</td>\n",
       "      <td>1000</td>\n",
       "      <td>0</td>\n",
       "      <td>1100</td>\n",
       "    </tr>\n",
       "  </tbody>\n",
       "</table>\n",
       "</div>"
      ],
      "text/plain": [
       "                 delete orgs        create orgs             \n",
       "                     deleted failed     created failed  orgs\n",
       "qvarn                      0      0         999      1  1098\n",
       "jsonb_91_no_alog           0      0        1000      0  1100\n",
       "jsonb_91_alog              0      0        1000      0  1100\n",
       "jsonb_92_no_alog           0      0        1000      0  1100\n",
       "jsonb_92_alog              0      0        1000      0  1100\n",
       "planb                      0      0        1000      0  1100"
      ]
     },
     "execution_count": 27,
     "metadata": {},
     "output_type": "execute_result"
    }
   ],
   "source": [
    "reset(1000, backends, delete=False)"
   ]
  },
  {
   "cell_type": "code",
   "execution_count": 28,
   "metadata": {},
   "outputs": [
    {
     "data": {
      "application/vnd.jupyter.widget-view+json": {
       "model_id": "",
       "version_major": 2,
       "version_minor": 0
      },
      "text/plain": [
       "HBox(children=(IntProgress(value=0, description='qvarn', max=10), HTML(value='')))"
      ]
     },
     "metadata": {},
     "output_type": "display_data"
    },
    {
     "name": "stdout",
     "output_type": "stream",
     "text": [
      "\r"
     ]
    },
    {
     "data": {
      "application/vnd.jupyter.widget-view+json": {
       "model_id": "",
       "version_major": 2,
       "version_minor": 0
      },
      "text/plain": [
       "HBox(children=(IntProgress(value=0, description='jsonb_91_no_alog', max=10), HTML(value='')))"
      ]
     },
     "metadata": {},
     "output_type": "display_data"
    },
    {
     "name": "stdout",
     "output_type": "stream",
     "text": [
      "\r"
     ]
    },
    {
     "data": {
      "application/vnd.jupyter.widget-view+json": {
       "model_id": "",
       "version_major": 2,
       "version_minor": 0
      },
      "text/plain": [
       "HBox(children=(IntProgress(value=0, description='jsonb_91_alog', max=10), HTML(value='')))"
      ]
     },
     "metadata": {},
     "output_type": "display_data"
    },
    {
     "name": "stdout",
     "output_type": "stream",
     "text": [
      "\r"
     ]
    },
    {
     "data": {
      "application/vnd.jupyter.widget-view+json": {
       "model_id": "",
       "version_major": 2,
       "version_minor": 0
      },
      "text/plain": [
       "HBox(children=(IntProgress(value=0, description='jsonb_92_no_alog', max=10), HTML(value='')))"
      ]
     },
     "metadata": {},
     "output_type": "display_data"
    },
    {
     "name": "stdout",
     "output_type": "stream",
     "text": [
      "\r"
     ]
    },
    {
     "data": {
      "application/vnd.jupyter.widget-view+json": {
       "model_id": "",
       "version_major": 2,
       "version_minor": 0
      },
      "text/plain": [
       "HBox(children=(IntProgress(value=0, description='jsonb_92_alog', max=10), HTML(value='')))"
      ]
     },
     "metadata": {},
     "output_type": "display_data"
    },
    {
     "name": "stdout",
     "output_type": "stream",
     "text": [
      "\r"
     ]
    },
    {
     "data": {
      "application/vnd.jupyter.widget-view+json": {
       "model_id": "",
       "version_major": 2,
       "version_minor": 0
      },
      "text/plain": [
       "HBox(children=(IntProgress(value=0, description='planb', max=10), HTML(value='')))"
      ]
     },
     "metadata": {},
     "output_type": "display_data"
    },
    {
     "name": "stdout",
     "output_type": "stream",
     "text": [
      "\r"
     ]
    },
    {
     "data": {
      "text/html": [
       "<div>\n",
       "<style scoped>\n",
       "    .dataframe tbody tr th:only-of-type {\n",
       "        vertical-align: middle;\n",
       "    }\n",
       "\n",
       "    .dataframe tbody tr th {\n",
       "        vertical-align: top;\n",
       "    }\n",
       "\n",
       "    .dataframe thead tr th {\n",
       "        text-align: left;\n",
       "    }\n",
       "</style>\n",
       "<table border=\"1\" class=\"dataframe\">\n",
       "  <thead>\n",
       "    <tr>\n",
       "      <th></th>\n",
       "      <th colspan=\"2\" halign=\"left\">iterations</th>\n",
       "      <th colspan=\"4\" halign=\"left\">time in seconds</th>\n",
       "      <th colspan=\"2\" halign=\"left\"></th>\n",
       "    </tr>\n",
       "    <tr>\n",
       "      <th></th>\n",
       "      <th>total</th>\n",
       "      <th>failed</th>\n",
       "      <th>total</th>\n",
       "      <th>mean</th>\n",
       "      <th>median</th>\n",
       "      <th>stdev</th>\n",
       "      <th>n resources</th>\n",
       "      <th>n times slower</th>\n",
       "    </tr>\n",
       "  </thead>\n",
       "  <tbody>\n",
       "    <tr>\n",
       "      <th>qvarn</th>\n",
       "      <td>10</td>\n",
       "      <td>0</td>\n",
       "      <td>0.186223</td>\n",
       "      <td>0.018622</td>\n",
       "      <td>0.016839</td>\n",
       "      <td>0.005710</td>\n",
       "      <td>1098</td>\n",
       "      <td>1.0</td>\n",
       "    </tr>\n",
       "    <tr>\n",
       "      <th>planb</th>\n",
       "      <td>10</td>\n",
       "      <td>0</td>\n",
       "      <td>0.386847</td>\n",
       "      <td>0.038685</td>\n",
       "      <td>0.038902</td>\n",
       "      <td>0.005298</td>\n",
       "      <td>1100</td>\n",
       "      <td>2.3</td>\n",
       "    </tr>\n",
       "    <tr>\n",
       "      <th>jsonb_92_no_alog</th>\n",
       "      <td>10</td>\n",
       "      <td>0</td>\n",
       "      <td>2.037382</td>\n",
       "      <td>0.203738</td>\n",
       "      <td>0.198803</td>\n",
       "      <td>0.040960</td>\n",
       "      <td>1100</td>\n",
       "      <td>11.8</td>\n",
       "    </tr>\n",
       "    <tr>\n",
       "      <th>jsonb_91_no_alog</th>\n",
       "      <td>10</td>\n",
       "      <td>0</td>\n",
       "      <td>2.280513</td>\n",
       "      <td>0.228051</td>\n",
       "      <td>0.229950</td>\n",
       "      <td>0.014386</td>\n",
       "      <td>1100</td>\n",
       "      <td>13.7</td>\n",
       "    </tr>\n",
       "    <tr>\n",
       "      <th>jsonb_92_alog</th>\n",
       "      <td>10</td>\n",
       "      <td>0</td>\n",
       "      <td>12.112362</td>\n",
       "      <td>1.211236</td>\n",
       "      <td>1.186890</td>\n",
       "      <td>0.062181</td>\n",
       "      <td>1100</td>\n",
       "      <td>70.5</td>\n",
       "    </tr>\n",
       "    <tr>\n",
       "      <th>jsonb_91_alog</th>\n",
       "      <td>10</td>\n",
       "      <td>0</td>\n",
       "      <td>145.135115</td>\n",
       "      <td>14.513512</td>\n",
       "      <td>14.513658</td>\n",
       "      <td>0.115567</td>\n",
       "      <td>1100</td>\n",
       "      <td>861.9</td>\n",
       "    </tr>\n",
       "  </tbody>\n",
       "</table>\n",
       "</div>"
      ],
      "text/plain": [
       "                 iterations        time in seconds                        \\\n",
       "                      total failed           total       mean     median   \n",
       "qvarn                    10      0        0.186223   0.018622   0.016839   \n",
       "planb                    10      0        0.386847   0.038685   0.038902   \n",
       "jsonb_92_no_alog         10      0        2.037382   0.203738   0.198803   \n",
       "jsonb_91_no_alog         10      0        2.280513   0.228051   0.229950   \n",
       "jsonb_92_alog            10      0       12.112362   1.211236   1.186890   \n",
       "jsonb_91_alog            10      0      145.135115  14.513512  14.513658   \n",
       "\n",
       "                                                       \n",
       "                     stdev n resources n times slower  \n",
       "qvarn             0.005710        1098            1.0  \n",
       "planb             0.005298        1100            2.3  \n",
       "jsonb_92_no_alog  0.040960        1100           11.8  \n",
       "jsonb_91_no_alog  0.014386        1100           13.7  \n",
       "jsonb_92_alog     0.062181        1100           70.5  \n",
       "jsonb_91_alog     0.115567        1100          861.9"
      ]
     },
     "metadata": {},
     "output_type": "display_data"
    },
    {
     "data": {
      "text/plain": [
       "<matplotlib.axes._subplots.AxesSubplot object at 0x7fafa3e6f5c0>"
      ]
     },
     "metadata": {},
     "output_type": "display_data"
    },
    {
     "data": {
      "image/png": "[encoded data removed]",
      "text/plain": [
       "<Figure size 1152x576 with 1 Axes>"
      ]
     },
     "metadata": {},
     "output_type": "display_data"
    }
   ],
   "source": [
    "measure(10, backends, GetAll)"
   ]
  },
  {
   "cell_type": "code",
   "execution_count": 29,
   "metadata": {},
   "outputs": [
    {
     "data": {
      "application/vnd.jupyter.widget-view+json": {
       "model_id": "",
       "version_major": 2,
       "version_minor": 0
      },
      "text/plain": [
       "HBox(children=(IntProgress(value=0, description='qvarn'), HTML(value='')))"
      ]
     },
     "metadata": {},
     "output_type": "display_data"
    },
    {
     "name": "stdout",
     "output_type": "stream",
     "text": [
      "\r"
     ]
    },
    {
     "data": {
      "application/vnd.jupyter.widget-view+json": {
       "model_id": "",
       "version_major": 2,
       "version_minor": 0
      },
      "text/plain": [
       "HBox(children=(IntProgress(value=0, description='jsonb_91_no_alog'), HTML(value='')))"
      ]
     },
     "metadata": {},
     "output_type": "display_data"
    },
    {
     "name": "stdout",
     "output_type": "stream",
     "text": [
      "\r"
     ]
    },
    {
     "data": {
      "application/vnd.jupyter.widget-view+json": {
       "model_id": "",
       "version_major": 2,
       "version_minor": 0
      },
      "text/plain": [
       "HBox(children=(IntProgress(value=0, description='jsonb_91_alog'), HTML(value='')))"
      ]
     },
     "metadata": {},
     "output_type": "display_data"
    },
    {
     "name": "stdout",
     "output_type": "stream",
     "text": [
      "\r"
     ]
    },
    {
     "data": {
      "application/vnd.jupyter.widget-view+json": {
       "model_id": "",
       "version_major": 2,
       "version_minor": 0
      },
      "text/plain": [
       "HBox(children=(IntProgress(value=0, description='jsonb_92_no_alog'), HTML(value='')))"
      ]
     },
     "metadata": {},
     "output_type": "display_data"
    },
    {
     "name": "stdout",
     "output_type": "stream",
     "text": [
      "\r"
     ]
    },
    {
     "data": {
      "application/vnd.jupyter.widget-view+json": {
       "model_id": "",
       "version_major": 2,
       "version_minor": 0
      },
      "text/plain": [
       "HBox(children=(IntProgress(value=0, description='jsonb_92_alog'), HTML(value='')))"
      ]
     },
     "metadata": {},
     "output_type": "display_data"
    },
    {
     "name": "stdout",
     "output_type": "stream",
     "text": [
      "\r"
     ]
    },
    {
     "data": {
      "application/vnd.jupyter.widget-view+json": {
       "model_id": "",
       "version_major": 2,
       "version_minor": 0
      },
      "text/plain": [
       "HBox(children=(IntProgress(value=0, description='planb'), HTML(value='')))"
      ]
     },
     "metadata": {},
     "output_type": "display_data"
    },
    {
     "name": "stdout",
     "output_type": "stream",
     "text": [
      "\r"
     ]
    },
    {
     "data": {
      "text/html": [
       "<div>\n",
       "<style scoped>\n",
       "    .dataframe tbody tr th:only-of-type {\n",
       "        vertical-align: middle;\n",
       "    }\n",
       "\n",
       "    .dataframe tbody tr th {\n",
       "        vertical-align: top;\n",
       "    }\n",
       "\n",
       "    .dataframe thead tr th {\n",
       "        text-align: left;\n",
       "    }\n",
       "</style>\n",
       "<table border=\"1\" class=\"dataframe\">\n",
       "  <thead>\n",
       "    <tr>\n",
       "      <th></th>\n",
       "      <th colspan=\"2\" halign=\"left\">iterations</th>\n",
       "      <th colspan=\"4\" halign=\"left\">time in seconds</th>\n",
       "      <th colspan=\"2\" halign=\"left\"></th>\n",
       "    </tr>\n",
       "    <tr>\n",
       "      <th></th>\n",
       "      <th>total</th>\n",
       "      <th>failed</th>\n",
       "      <th>total</th>\n",
       "      <th>mean</th>\n",
       "      <th>median</th>\n",
       "      <th>stdev</th>\n",
       "      <th>n resources</th>\n",
       "      <th>n times slower</th>\n",
       "    </tr>\n",
       "  </thead>\n",
       "  <tbody>\n",
       "    <tr>\n",
       "      <th>planb</th>\n",
       "      <td>100</td>\n",
       "      <td>0</td>\n",
       "      <td>0.841854</td>\n",
       "      <td>0.008419</td>\n",
       "      <td>0.008164</td>\n",
       "      <td>0.001745</td>\n",
       "      <td>1100</td>\n",
       "      <td>1.0</td>\n",
       "    </tr>\n",
       "    <tr>\n",
       "      <th>qvarn</th>\n",
       "      <td>100</td>\n",
       "      <td>1</td>\n",
       "      <td>1.912746</td>\n",
       "      <td>0.019321</td>\n",
       "      <td>0.018676</td>\n",
       "      <td>0.003627</td>\n",
       "      <td>1098</td>\n",
       "      <td>2.3</td>\n",
       "    </tr>\n",
       "    <tr>\n",
       "      <th>jsonb_92_no_alog</th>\n",
       "      <td>100</td>\n",
       "      <td>0</td>\n",
       "      <td>243.871824</td>\n",
       "      <td>2.438718</td>\n",
       "      <td>2.424037</td>\n",
       "      <td>0.125033</td>\n",
       "      <td>1100</td>\n",
       "      <td>296.9</td>\n",
       "    </tr>\n",
       "    <tr>\n",
       "      <th>jsonb_92_alog</th>\n",
       "      <td>100</td>\n",
       "      <td>0</td>\n",
       "      <td>250.443279</td>\n",
       "      <td>2.504433</td>\n",
       "      <td>2.491969</td>\n",
       "      <td>0.085085</td>\n",
       "      <td>1100</td>\n",
       "      <td>305.2</td>\n",
       "    </tr>\n",
       "    <tr>\n",
       "      <th>jsonb_91_no_alog</th>\n",
       "      <td>100</td>\n",
       "      <td>0</td>\n",
       "      <td>313.932744</td>\n",
       "      <td>3.139327</td>\n",
       "      <td>3.113238</td>\n",
       "      <td>0.137839</td>\n",
       "      <td>1100</td>\n",
       "      <td>381.3</td>\n",
       "    </tr>\n",
       "    <tr>\n",
       "      <th>jsonb_91_alog</th>\n",
       "      <td>100</td>\n",
       "      <td>0</td>\n",
       "      <td>344.364726</td>\n",
       "      <td>3.443647</td>\n",
       "      <td>3.404668</td>\n",
       "      <td>0.226343</td>\n",
       "      <td>1100</td>\n",
       "      <td>417.0</td>\n",
       "    </tr>\n",
       "  </tbody>\n",
       "</table>\n",
       "</div>"
      ],
      "text/plain": [
       "                 iterations        time in seconds                      \\\n",
       "                      total failed           total      mean    median   \n",
       "planb                   100      0        0.841854  0.008419  0.008164   \n",
       "qvarn                   100      1        1.912746  0.019321  0.018676   \n",
       "jsonb_92_no_alog        100      0      243.871824  2.438718  2.424037   \n",
       "jsonb_92_alog           100      0      250.443279  2.504433  2.491969   \n",
       "jsonb_91_no_alog        100      0      313.932744  3.139327  3.113238   \n",
       "jsonb_91_alog           100      0      344.364726  3.443647  3.404668   \n",
       "\n",
       "                                                       \n",
       "                     stdev n resources n times slower  \n",
       "planb             0.001745        1100            1.0  \n",
       "qvarn             0.003627        1098            2.3  \n",
       "jsonb_92_no_alog  0.125033        1100          296.9  \n",
       "jsonb_92_alog     0.085085        1100          305.2  \n",
       "jsonb_91_no_alog  0.137839        1100          381.3  \n",
       "jsonb_91_alog     0.226343        1100          417.0"
      ]
     },
     "metadata": {},
     "output_type": "display_data"
    },
    {
     "data": {
      "text/plain": [
       "<matplotlib.axes._subplots.AxesSubplot object at 0x7fafa3ee3470>"
      ]
     },
     "metadata": {},
     "output_type": "display_data"
    },
    {
     "data": {
      "image/png": "[encoded data removed]",
      "text/plain": [
       "<Figure size 1152x576 with 1 Axes>"
      ]
     },
     "metadata": {},
     "output_type": "display_data"
    }
   ],
   "source": [
    "class SearchLimit(Test):\n",
    "    \n",
    "    def __call__(self, item):\n",
    "        return session.get(f'{self.backend}/orgs/search/sort/id/limit/1')\n",
    "    \n",
    "measure(100, backends, SearchLimit)"
   ]
  },
  {
   "cell_type": "code",
   "execution_count": 30,
   "metadata": {},
   "outputs": [
    {
     "data": {
      "application/vnd.jupyter.widget-view+json": {
       "model_id": "",
       "version_major": 2,
       "version_minor": 0
      },
      "text/plain": [
       "HBox(children=(IntProgress(value=0, description='qvarn', max=1000), HTML(value='')))"
      ]
     },
     "metadata": {},
     "output_type": "display_data"
    },
    {
     "name": "stdout",
     "output_type": "stream",
     "text": [
      "\r"
     ]
    },
    {
     "data": {
      "application/vnd.jupyter.widget-view+json": {
       "model_id": "",
       "version_major": 2,
       "version_minor": 0
      },
      "text/plain": [
       "HBox(children=(IntProgress(value=0, description='jsonb_91_no_alog', max=1000), HTML(value='')))"
      ]
     },
     "metadata": {},
     "output_type": "display_data"
    },
    {
     "name": "stdout",
     "output_type": "stream",
     "text": [
      "\r"
     ]
    },
    {
     "data": {
      "application/vnd.jupyter.widget-view+json": {
       "model_id": "",
       "version_major": 2,
       "version_minor": 0
      },
      "text/plain": [
       "HBox(children=(IntProgress(value=0, description='jsonb_91_alog', max=1000), HTML(value='')))"
      ]
     },
     "metadata": {},
     "output_type": "display_data"
    },
    {
     "name": "stdout",
     "output_type": "stream",
     "text": [
      "\r"
     ]
    },
    {
     "data": {
      "application/vnd.jupyter.widget-view+json": {
       "model_id": "",
       "version_major": 2,
       "version_minor": 0
      },
      "text/plain": [
       "HBox(children=(IntProgress(value=0, description='jsonb_92_no_alog', max=1000), HTML(value='')))"
      ]
     },
     "metadata": {},
     "output_type": "display_data"
    },
    {
     "name": "stdout",
     "output_type": "stream",
     "text": [
      "\r"
     ]
    },
    {
     "data": {
      "application/vnd.jupyter.widget-view+json": {
       "model_id": "",
       "version_major": 2,
       "version_minor": 0
      },
      "text/plain": [
       "HBox(children=(IntProgress(value=0, description='jsonb_92_alog', max=1000), HTML(value='')))"
      ]
     },
     "metadata": {},
     "output_type": "display_data"
    },
    {
     "name": "stdout",
     "output_type": "stream",
     "text": [
      "\r"
     ]
    },
    {
     "data": {
      "application/vnd.jupyter.widget-view+json": {
       "model_id": "",
       "version_major": 2,
       "version_minor": 0
      },
      "text/plain": [
       "HBox(children=(IntProgress(value=0, description='planb', max=1000), HTML(value='')))"
      ]
     },
     "metadata": {},
     "output_type": "display_data"
    },
    {
     "name": "stdout",
     "output_type": "stream",
     "text": [
      "\r"
     ]
    },
    {
     "data": {
      "text/html": [
       "<div>\n",
       "<style scoped>\n",
       "    .dataframe tbody tr th:only-of-type {\n",
       "        vertical-align: middle;\n",
       "    }\n",
       "\n",
       "    .dataframe tbody tr th {\n",
       "        vertical-align: top;\n",
       "    }\n",
       "\n",
       "    .dataframe thead tr th {\n",
       "        text-align: left;\n",
       "    }\n",
       "</style>\n",
       "<table border=\"1\" class=\"dataframe\">\n",
       "  <thead>\n",
       "    <tr>\n",
       "      <th></th>\n",
       "      <th colspan=\"2\" halign=\"left\">iterations</th>\n",
       "      <th colspan=\"4\" halign=\"left\">time in seconds</th>\n",
       "      <th colspan=\"2\" halign=\"left\"></th>\n",
       "    </tr>\n",
       "    <tr>\n",
       "      <th></th>\n",
       "      <th>total</th>\n",
       "      <th>failed</th>\n",
       "      <th>total</th>\n",
       "      <th>mean</th>\n",
       "      <th>median</th>\n",
       "      <th>stdev</th>\n",
       "      <th>n resources</th>\n",
       "      <th>n times slower</th>\n",
       "    </tr>\n",
       "  </thead>\n",
       "  <tbody>\n",
       "    <tr>\n",
       "      <th>planb</th>\n",
       "      <td>1000</td>\n",
       "      <td>0</td>\n",
       "      <td>7.967088</td>\n",
       "      <td>0.007967</td>\n",
       "      <td>0.007620</td>\n",
       "      <td>0.002851</td>\n",
       "      <td>1100</td>\n",
       "      <td>1.0</td>\n",
       "    </tr>\n",
       "    <tr>\n",
       "      <th>jsonb_92_no_alog</th>\n",
       "      <td>1000</td>\n",
       "      <td>0</td>\n",
       "      <td>10.434951</td>\n",
       "      <td>0.010435</td>\n",
       "      <td>0.009956</td>\n",
       "      <td>0.002188</td>\n",
       "      <td>1100</td>\n",
       "      <td>1.3</td>\n",
       "    </tr>\n",
       "    <tr>\n",
       "      <th>jsonb_91_no_alog</th>\n",
       "      <td>1000</td>\n",
       "      <td>0</td>\n",
       "      <td>10.651476</td>\n",
       "      <td>0.010651</td>\n",
       "      <td>0.010193</td>\n",
       "      <td>0.002229</td>\n",
       "      <td>1100</td>\n",
       "      <td>1.3</td>\n",
       "    </tr>\n",
       "    <tr>\n",
       "      <th>jsonb_92_alog</th>\n",
       "      <td>1000</td>\n",
       "      <td>0</td>\n",
       "      <td>24.627045</td>\n",
       "      <td>0.024627</td>\n",
       "      <td>0.023925</td>\n",
       "      <td>0.003883</td>\n",
       "      <td>1100</td>\n",
       "      <td>3.1</td>\n",
       "    </tr>\n",
       "    <tr>\n",
       "      <th>jsonb_91_alog</th>\n",
       "      <td>1000</td>\n",
       "      <td>0</td>\n",
       "      <td>25.665519</td>\n",
       "      <td>0.025666</td>\n",
       "      <td>0.024744</td>\n",
       "      <td>0.004596</td>\n",
       "      <td>1100</td>\n",
       "      <td>3.2</td>\n",
       "    </tr>\n",
       "    <tr>\n",
       "      <th>qvarn</th>\n",
       "      <td>1000</td>\n",
       "      <td>4</td>\n",
       "      <td>27.963634</td>\n",
       "      <td>0.028076</td>\n",
       "      <td>0.027357</td>\n",
       "      <td>0.007127</td>\n",
       "      <td>1098</td>\n",
       "      <td>3.6</td>\n",
       "    </tr>\n",
       "  </tbody>\n",
       "</table>\n",
       "</div>"
      ],
      "text/plain": [
       "                 iterations        time in seconds                      \\\n",
       "                      total failed           total      mean    median   \n",
       "planb                  1000      0        7.967088  0.007967  0.007620   \n",
       "jsonb_92_no_alog       1000      0       10.434951  0.010435  0.009956   \n",
       "jsonb_91_no_alog       1000      0       10.651476  0.010651  0.010193   \n",
       "jsonb_92_alog          1000      0       24.627045  0.024627  0.023925   \n",
       "jsonb_91_alog          1000      0       25.665519  0.025666  0.024744   \n",
       "qvarn                  1000      4       27.963634  0.028076  0.027357   \n",
       "\n",
       "                                                       \n",
       "                     stdev n resources n times slower  \n",
       "planb             0.002851        1100            1.0  \n",
       "jsonb_92_no_alog  0.002188        1100            1.3  \n",
       "jsonb_91_no_alog  0.002229        1100            1.3  \n",
       "jsonb_92_alog     0.003883        1100            3.1  \n",
       "jsonb_91_alog     0.004596        1100            3.2  \n",
       "qvarn             0.007127        1098            3.6"
      ]
     },
     "metadata": {},
     "output_type": "display_data"
    },
    {
     "data": {
      "text/plain": [
       "<matplotlib.axes._subplots.AxesSubplot object at 0x7fafa821ac50>"
      ]
     },
     "metadata": {},
     "output_type": "display_data"
    },
    {
     "data": {
      "image/png": "[encoded data removed]",
      "text/plain": [
       "<Figure size 1152x576 with 1 Axes>"
      ]
     },
     "metadata": {},
     "output_type": "display_data"
    }
   ],
   "source": [
    "class GetOne(Test):\n",
    "    \n",
    "    def prepare(self):\n",
    "        self.resources = [\n",
    "            resource['id'] for resource in session.get(f'{self.backend}/orgs').json()['resources']\n",
    "        ]\n",
    "        \n",
    "    def __call__(self, item):\n",
    "        return session.get(f'{self.backend}/orgs/{random.choice(self.resources)}')\n",
    "    \n",
    "measure(1000, backends, GetOne)"
   ]
  },
  {
   "cell_type": "code",
   "execution_count": 31,
   "metadata": {},
   "outputs": [
    {
     "data": {
      "application/vnd.jupyter.widget-view+json": {
       "model_id": "",
       "version_major": 2,
       "version_minor": 0
      },
      "text/plain": [
       "HBox(children=(IntProgress(value=0, description='qvarn'), HTML(value='')))"
      ]
     },
     "metadata": {},
     "output_type": "display_data"
    },
    {
     "name": "stdout",
     "output_type": "stream",
     "text": [
      "\r"
     ]
    },
    {
     "data": {
      "application/vnd.jupyter.widget-view+json": {
       "model_id": "",
       "version_major": 2,
       "version_minor": 0
      },
      "text/plain": [
       "HBox(children=(IntProgress(value=0, description='jsonb_91_no_alog'), HTML(value='')))"
      ]
     },
     "metadata": {},
     "output_type": "display_data"
    },
    {
     "name": "stdout",
     "output_type": "stream",
     "text": [
      "\r"
     ]
    },
    {
     "data": {
      "application/vnd.jupyter.widget-view+json": {
       "model_id": "",
       "version_major": 2,
       "version_minor": 0
      },
      "text/plain": [
       "HBox(children=(IntProgress(value=0, description='jsonb_91_alog'), HTML(value='')))"
      ]
     },
     "metadata": {},
     "output_type": "display_data"
    },
    {
     "name": "stdout",
     "output_type": "stream",
     "text": [
      "\r"
     ]
    },
    {
     "data": {
      "application/vnd.jupyter.widget-view+json": {
       "model_id": "",
       "version_major": 2,
       "version_minor": 0
      },
      "text/plain": [
       "HBox(children=(IntProgress(value=0, description='jsonb_92_no_alog'), HTML(value='')))"
      ]
     },
     "metadata": {},
     "output_type": "display_data"
    },
    {
     "name": "stdout",
     "output_type": "stream",
     "text": [
      "\r"
     ]
    },
    {
     "data": {
      "application/vnd.jupyter.widget-view+json": {
       "model_id": "",
       "version_major": 2,
       "version_minor": 0
      },
      "text/plain": [
       "HBox(children=(IntProgress(value=0, description='jsonb_92_alog'), HTML(value='')))"
      ]
     },
     "metadata": {},
     "output_type": "display_data"
    },
    {
     "name": "stdout",
     "output_type": "stream",
     "text": [
      "\r"
     ]
    },
    {
     "data": {
      "application/vnd.jupyter.widget-view+json": {
       "model_id": "",
       "version_major": 2,
       "version_minor": 0
      },
      "text/plain": [
       "HBox(children=(IntProgress(value=0, description='planb'), HTML(value='')))"
      ]
     },
     "metadata": {},
     "output_type": "display_data"
    },
    {
     "name": "stdout",
     "output_type": "stream",
     "text": [
      "\r"
     ]
    },
    {
     "data": {
      "text/html": [
       "<div>\n",
       "<style scoped>\n",
       "    .dataframe tbody tr th:only-of-type {\n",
       "        vertical-align: middle;\n",
       "    }\n",
       "\n",
       "    .dataframe tbody tr th {\n",
       "        vertical-align: top;\n",
       "    }\n",
       "\n",
       "    .dataframe thead tr th {\n",
       "        text-align: left;\n",
       "    }\n",
       "</style>\n",
       "<table border=\"1\" class=\"dataframe\">\n",
       "  <thead>\n",
       "    <tr>\n",
       "      <th></th>\n",
       "      <th colspan=\"2\" halign=\"left\">iterations</th>\n",
       "      <th colspan=\"4\" halign=\"left\">time in seconds</th>\n",
       "      <th colspan=\"2\" halign=\"left\"></th>\n",
       "    </tr>\n",
       "    <tr>\n",
       "      <th></th>\n",
       "      <th>total</th>\n",
       "      <th>failed</th>\n",
       "      <th>total</th>\n",
       "      <th>mean</th>\n",
       "      <th>median</th>\n",
       "      <th>stdev</th>\n",
       "      <th>n resources</th>\n",
       "      <th>n times slower</th>\n",
       "    </tr>\n",
       "  </thead>\n",
       "  <tbody>\n",
       "    <tr>\n",
       "      <th>planb</th>\n",
       "      <td>100</td>\n",
       "      <td>0</td>\n",
       "      <td>0.977047</td>\n",
       "      <td>0.009770</td>\n",
       "      <td>0.009426</td>\n",
       "      <td>0.002351</td>\n",
       "      <td>1100</td>\n",
       "      <td>1.0</td>\n",
       "    </tr>\n",
       "    <tr>\n",
       "      <th>jsonb_92_no_alog</th>\n",
       "      <td>100</td>\n",
       "      <td>0</td>\n",
       "      <td>1.408246</td>\n",
       "      <td>0.014082</td>\n",
       "      <td>0.013400</td>\n",
       "      <td>0.002961</td>\n",
       "      <td>1100</td>\n",
       "      <td>1.4</td>\n",
       "    </tr>\n",
       "    <tr>\n",
       "      <th>jsonb_91_no_alog</th>\n",
       "      <td>100</td>\n",
       "      <td>0</td>\n",
       "      <td>1.458359</td>\n",
       "      <td>0.014584</td>\n",
       "      <td>0.014002</td>\n",
       "      <td>0.003129</td>\n",
       "      <td>1100</td>\n",
       "      <td>1.5</td>\n",
       "    </tr>\n",
       "    <tr>\n",
       "      <th>qvarn</th>\n",
       "      <td>100</td>\n",
       "      <td>0</td>\n",
       "      <td>1.920153</td>\n",
       "      <td>0.019202</td>\n",
       "      <td>0.018672</td>\n",
       "      <td>0.003232</td>\n",
       "      <td>1098</td>\n",
       "      <td>2.0</td>\n",
       "    </tr>\n",
       "    <tr>\n",
       "      <th>jsonb_92_alog</th>\n",
       "      <td>100</td>\n",
       "      <td>0</td>\n",
       "      <td>2.806551</td>\n",
       "      <td>0.028066</td>\n",
       "      <td>0.026940</td>\n",
       "      <td>0.004965</td>\n",
       "      <td>1100</td>\n",
       "      <td>2.9</td>\n",
       "    </tr>\n",
       "    <tr>\n",
       "      <th>jsonb_91_alog</th>\n",
       "      <td>100</td>\n",
       "      <td>0</td>\n",
       "      <td>3.143512</td>\n",
       "      <td>0.031435</td>\n",
       "      <td>0.029040</td>\n",
       "      <td>0.008457</td>\n",
       "      <td>1100</td>\n",
       "      <td>3.1</td>\n",
       "    </tr>\n",
       "  </tbody>\n",
       "</table>\n",
       "</div>"
      ],
      "text/plain": [
       "                 iterations        time in seconds                      \\\n",
       "                      total failed           total      mean    median   \n",
       "planb                   100      0        0.977047  0.009770  0.009426   \n",
       "jsonb_92_no_alog        100      0        1.408246  0.014082  0.013400   \n",
       "jsonb_91_no_alog        100      0        1.458359  0.014584  0.014002   \n",
       "qvarn                   100      0        1.920153  0.019202  0.018672   \n",
       "jsonb_92_alog           100      0        2.806551  0.028066  0.026940   \n",
       "jsonb_91_alog           100      0        3.143512  0.031435  0.029040   \n",
       "\n",
       "                                                       \n",
       "                     stdev n resources n times slower  \n",
       "planb             0.002351        1100            1.0  \n",
       "jsonb_92_no_alog  0.002961        1100            1.4  \n",
       "jsonb_91_no_alog  0.003129        1100            1.5  \n",
       "qvarn             0.003232        1098            2.0  \n",
       "jsonb_92_alog     0.004965        1100            2.9  \n",
       "jsonb_91_alog     0.008457        1100            3.1"
      ]
     },
     "metadata": {},
     "output_type": "display_data"
    },
    {
     "data": {
      "text/plain": [
       "<matplotlib.axes._subplots.AxesSubplot object at 0x7fafa83ac940>"
      ]
     },
     "metadata": {},
     "output_type": "display_data"
    },
    {
     "data": {
      "image/png": "[encoded data removed]",
      "text/plain": [
       "<Figure size 1152x576 with 1 Axes>"
      ]
     },
     "metadata": {},
     "output_type": "display_data"
    }
   ],
   "source": [
    "class SearchExact(Test):\n",
    "    \n",
    "    def prepare(self):\n",
    "        self.gov_org_ids = [\n",
    "            resource['gov_org_ids'][0]['gov_org_id'] for resource in (\n",
    "                session.get(f'{self.backend}/orgs/search/show/gov_org_ids').\n",
    "                json()['resources']\n",
    "            )\n",
    "        ]\n",
    "        \n",
    "    def __call__(self, item):\n",
    "        return session.get(f'{self.backend}/orgs/search/exact/gov_org_id/{random.choice(self.gov_org_ids)}')\n",
    "    \n",
    "measure(100, backends, SearchExact)"
   ]
  },
  {
   "cell_type": "code",
   "execution_count": 32,
   "metadata": {},
   "outputs": [
    {
     "data": {
      "application/vnd.jupyter.widget-view+json": {
       "model_id": "",
       "version_major": 2,
       "version_minor": 0
      },
      "text/plain": [
       "HBox(children=(IntProgress(value=0, description='qvarn'), HTML(value='')))"
      ]
     },
     "metadata": {},
     "output_type": "display_data"
    },
    {
     "name": "stdout",
     "output_type": "stream",
     "text": [
      "\r"
     ]
    },
    {
     "data": {
      "application/vnd.jupyter.widget-view+json": {
       "model_id": "",
       "version_major": 2,
       "version_minor": 0
      },
      "text/plain": [
       "HBox(children=(IntProgress(value=0, description='jsonb_91_no_alog'), HTML(value='')))"
      ]
     },
     "metadata": {},
     "output_type": "display_data"
    },
    {
     "name": "stdout",
     "output_type": "stream",
     "text": [
      "\r"
     ]
    },
    {
     "data": {
      "application/vnd.jupyter.widget-view+json": {
       "model_id": "",
       "version_major": 2,
       "version_minor": 0
      },
      "text/plain": [
       "HBox(children=(IntProgress(value=0, description='jsonb_91_alog'), HTML(value='')))"
      ]
     },
     "metadata": {},
     "output_type": "display_data"
    },
    {
     "name": "stdout",
     "output_type": "stream",
     "text": [
      "\r"
     ]
    },
    {
     "data": {
      "application/vnd.jupyter.widget-view+json": {
       "model_id": "",
       "version_major": 2,
       "version_minor": 0
      },
      "text/plain": [
       "HBox(children=(IntProgress(value=0, description='jsonb_92_no_alog'), HTML(value='')))"
      ]
     },
     "metadata": {},
     "output_type": "display_data"
    },
    {
     "name": "stdout",
     "output_type": "stream",
     "text": [
      "\r"
     ]
    },
    {
     "data": {
      "application/vnd.jupyter.widget-view+json": {
       "model_id": "",
       "version_major": 2,
       "version_minor": 0
      },
      "text/plain": [
       "HBox(children=(IntProgress(value=0, description='jsonb_92_alog'), HTML(value='')))"
      ]
     },
     "metadata": {},
     "output_type": "display_data"
    },
    {
     "name": "stdout",
     "output_type": "stream",
     "text": [
      "\r"
     ]
    },
    {
     "data": {
      "application/vnd.jupyter.widget-view+json": {
       "model_id": "",
       "version_major": 2,
       "version_minor": 0
      },
      "text/plain": [
       "HBox(children=(IntProgress(value=0, description='planb'), HTML(value='')))"
      ]
     },
     "metadata": {},
     "output_type": "display_data"
    },
    {
     "name": "stdout",
     "output_type": "stream",
     "text": [
      "\r"
     ]
    },
    {
     "data": {
      "text/html": [
       "<div>\n",
       "<style scoped>\n",
       "    .dataframe tbody tr th:only-of-type {\n",
       "        vertical-align: middle;\n",
       "    }\n",
       "\n",
       "    .dataframe tbody tr th {\n",
       "        vertical-align: top;\n",
       "    }\n",
       "\n",
       "    .dataframe thead tr th {\n",
       "        text-align: left;\n",
       "    }\n",
       "</style>\n",
       "<table border=\"1\" class=\"dataframe\">\n",
       "  <thead>\n",
       "    <tr>\n",
       "      <th></th>\n",
       "      <th colspan=\"2\" halign=\"left\">iterations</th>\n",
       "      <th colspan=\"4\" halign=\"left\">time in seconds</th>\n",
       "      <th colspan=\"2\" halign=\"left\"></th>\n",
       "    </tr>\n",
       "    <tr>\n",
       "      <th></th>\n",
       "      <th>total</th>\n",
       "      <th>failed</th>\n",
       "      <th>total</th>\n",
       "      <th>mean</th>\n",
       "      <th>median</th>\n",
       "      <th>stdev</th>\n",
       "      <th>n resources</th>\n",
       "      <th>n times slower</th>\n",
       "    </tr>\n",
       "  </thead>\n",
       "  <tbody>\n",
       "    <tr>\n",
       "      <th>planb</th>\n",
       "      <td>100</td>\n",
       "      <td>0</td>\n",
       "      <td>1.519250</td>\n",
       "      <td>0.015193</td>\n",
       "      <td>0.014920</td>\n",
       "      <td>0.003199</td>\n",
       "      <td>1100</td>\n",
       "      <td>1.0</td>\n",
       "    </tr>\n",
       "    <tr>\n",
       "      <th>qvarn</th>\n",
       "      <td>100</td>\n",
       "      <td>0</td>\n",
       "      <td>1.932325</td>\n",
       "      <td>0.019323</td>\n",
       "      <td>0.018831</td>\n",
       "      <td>0.003320</td>\n",
       "      <td>1098</td>\n",
       "      <td>1.3</td>\n",
       "    </tr>\n",
       "    <tr>\n",
       "      <th>jsonb_92_no_alog</th>\n",
       "      <td>100</td>\n",
       "      <td>0</td>\n",
       "      <td>3.124500</td>\n",
       "      <td>0.031245</td>\n",
       "      <td>0.030458</td>\n",
       "      <td>0.004205</td>\n",
       "      <td>1100</td>\n",
       "      <td>2.0</td>\n",
       "    </tr>\n",
       "    <tr>\n",
       "      <th>jsonb_91_no_alog</th>\n",
       "      <td>100</td>\n",
       "      <td>0</td>\n",
       "      <td>3.332848</td>\n",
       "      <td>0.033328</td>\n",
       "      <td>0.031983</td>\n",
       "      <td>0.005357</td>\n",
       "      <td>1100</td>\n",
       "      <td>2.1</td>\n",
       "    </tr>\n",
       "    <tr>\n",
       "      <th>jsonb_92_alog</th>\n",
       "      <td>100</td>\n",
       "      <td>0</td>\n",
       "      <td>10.774858</td>\n",
       "      <td>0.107749</td>\n",
       "      <td>0.105521</td>\n",
       "      <td>0.007243</td>\n",
       "      <td>1100</td>\n",
       "      <td>7.1</td>\n",
       "    </tr>\n",
       "    <tr>\n",
       "      <th>jsonb_91_alog</th>\n",
       "      <td>100</td>\n",
       "      <td>0</td>\n",
       "      <td>45.919845</td>\n",
       "      <td>0.459198</td>\n",
       "      <td>0.452605</td>\n",
       "      <td>0.022600</td>\n",
       "      <td>1100</td>\n",
       "      <td>30.3</td>\n",
       "    </tr>\n",
       "  </tbody>\n",
       "</table>\n",
       "</div>"
      ],
      "text/plain": [
       "                 iterations        time in seconds                      \\\n",
       "                      total failed           total      mean    median   \n",
       "planb                   100      0        1.519250  0.015193  0.014920   \n",
       "qvarn                   100      0        1.932325  0.019323  0.018831   \n",
       "jsonb_92_no_alog        100      0        3.124500  0.031245  0.030458   \n",
       "jsonb_91_no_alog        100      0        3.332848  0.033328  0.031983   \n",
       "jsonb_92_alog           100      0       10.774858  0.107749  0.105521   \n",
       "jsonb_91_alog           100      0       45.919845  0.459198  0.452605   \n",
       "\n",
       "                                                       \n",
       "                     stdev n resources n times slower  \n",
       "planb             0.003199        1100            1.0  \n",
       "qvarn             0.003320        1098            1.3  \n",
       "jsonb_92_no_alog  0.004205        1100            2.0  \n",
       "jsonb_91_no_alog  0.005357        1100            2.1  \n",
       "jsonb_92_alog     0.007243        1100            7.1  \n",
       "jsonb_91_alog     0.022600        1100           30.3"
      ]
     },
     "metadata": {},
     "output_type": "display_data"
    },
    {
     "data": {
      "text/plain": [
       "<matplotlib.axes._subplots.AxesSubplot object at 0x7fafa1ca6828>"
      ]
     },
     "metadata": {},
     "output_type": "display_data"
    },
    {
     "data": {
      "image/png": "[encoded data removed]",
      "text/plain": [
       "<Figure size 1152x576 with 1 Axes>"
      ]
     },
     "metadata": {},
     "output_type": "display_data"
    }
   ],
   "source": [
    "class SearchStartswith(Test):\n",
    "    \n",
    "    def prepare(self):\n",
    "        self.gov_org_ids = [\n",
    "            resource['gov_org_ids'][0]['gov_org_id'] for resource in (\n",
    "                session.get(f'{self.backend}/orgs/search/show/gov_org_ids').\n",
    "                json()['resources']\n",
    "            )\n",
    "        ]\n",
    "        \n",
    "    def __call__(self, item):\n",
    "        return session.get(f'{self.backend}/orgs/search/startswith/gov_org_id/{random.choice(self.gov_org_ids)}')\n",
    "    \n",
    "measure(100, backends, SearchStartswith)"
   ]
  },
  {
   "cell_type": "code",
   "execution_count": 33,
   "metadata": {},
   "outputs": [
    {
     "data": {
      "text/plain": [
       "Text(0.5,0,'n times slower (mean of all tests)')"
      ]
     },
     "execution_count": 33,
     "metadata": {},
     "output_type": "execute_result"
    },
    {
     "data": {
      "image/png": "[encoded data removed]",
      "text/plain": [
       "<Figure size 1152x576 with 1 Axes>"
      ]
     },
     "metadata": {},
     "output_type": "display_data"
    }
   ],
   "source": [
    "ax = summary.mean(axis=1).sort_values(ascending=False).plot.barh()\n",
    "ax.set_xlabel('n times slower (mean of all tests)')"
   ]
  },
  {
   "cell_type": "code",
   "execution_count": 34,
   "metadata": {},
   "outputs": [
    {
     "data": {
      "text/plain": [
       "Text(0.5,0,'n times slower (median of all tests)')"
      ]
     },
     "execution_count": 34,
     "metadata": {},
     "output_type": "execute_result"
    },
    {
     "data": {
      "image/png": "[encoded data removed]",
      "text/plain": [
       "<Figure size 1152x576 with 1 Axes>"
      ]
     },
     "metadata": {},
     "output_type": "display_data"
    }
   ],
   "source": [
    "ax = summary.median(axis=1).sort_values(ascending=False).plot.barh()\n",
    "ax.set_xlabel('n times slower (median of all tests)')"
   ]
  },
  {
   "cell_type": "code",
   "execution_count": 35,
   "metadata": {},
   "outputs": [
    {
     "data": {
      "text/html": [
       "<div>\n",
       "<style scoped>\n",
       "    .dataframe tbody tr th:only-of-type {\n",
       "        vertical-align: middle;\n",
       "    }\n",
       "\n",
       "    .dataframe tbody tr th {\n",
       "        vertical-align: top;\n",
       "    }\n",
       "\n",
       "    .dataframe thead th {\n",
       "        text-align: right;\n",
       "    }\n",
       "</style>\n",
       "<table border=\"1\" class=\"dataframe\">\n",
       "  <thead>\n",
       "    <tr style=\"text-align: right;\">\n",
       "      <th></th>\n",
       "      <th>0</th>\n",
       "      <th>1</th>\n",
       "      <th>2</th>\n",
       "      <th>3</th>\n",
       "      <th>4</th>\n",
       "      <th>5</th>\n",
       "      <th>6</th>\n",
       "      <th>7</th>\n",
       "      <th>8</th>\n",
       "      <th>9</th>\n",
       "      <th>10</th>\n",
       "    </tr>\n",
       "  </thead>\n",
       "  <tbody>\n",
       "    <tr>\n",
       "      <th>jsonb_91_alog</th>\n",
       "      <td>4.3</td>\n",
       "      <td>2.9</td>\n",
       "      <td>3.0</td>\n",
       "      <td>164.5</td>\n",
       "      <td>55.6</td>\n",
       "      <td>69.4</td>\n",
       "      <td>861.9</td>\n",
       "      <td>417.0</td>\n",
       "      <td>3.2</td>\n",
       "      <td>3.1</td>\n",
       "      <td>30.3</td>\n",
       "    </tr>\n",
       "    <tr>\n",
       "      <th>jsonb_91_no_alog</th>\n",
       "      <td>3.2</td>\n",
       "      <td>2.1</td>\n",
       "      <td>1.5</td>\n",
       "      <td>3.3</td>\n",
       "      <td>11.1</td>\n",
       "      <td>11.9</td>\n",
       "      <td>13.7</td>\n",
       "      <td>381.3</td>\n",
       "      <td>1.3</td>\n",
       "      <td>1.5</td>\n",
       "      <td>2.1</td>\n",
       "    </tr>\n",
       "    <tr>\n",
       "      <th>jsonb_92_alog</th>\n",
       "      <td>3.9</td>\n",
       "      <td>2.6</td>\n",
       "      <td>2.5</td>\n",
       "      <td>14.6</td>\n",
       "      <td>11.1</td>\n",
       "      <td>13.9</td>\n",
       "      <td>70.5</td>\n",
       "      <td>305.2</td>\n",
       "      <td>3.1</td>\n",
       "      <td>2.9</td>\n",
       "      <td>7.1</td>\n",
       "    </tr>\n",
       "    <tr>\n",
       "      <th>jsonb_92_no_alog</th>\n",
       "      <td>3.1</td>\n",
       "      <td>2.0</td>\n",
       "      <td>1.3</td>\n",
       "      <td>2.7</td>\n",
       "      <td>7.2</td>\n",
       "      <td>9.0</td>\n",
       "      <td>11.8</td>\n",
       "      <td>296.9</td>\n",
       "      <td>1.3</td>\n",
       "      <td>1.4</td>\n",
       "      <td>2.0</td>\n",
       "    </tr>\n",
       "    <tr>\n",
       "      <th>planb</th>\n",
       "      <td>1.0</td>\n",
       "      <td>1.0</td>\n",
       "      <td>1.0</td>\n",
       "      <td>1.0</td>\n",
       "      <td>1.0</td>\n",
       "      <td>1.0</td>\n",
       "      <td>2.3</td>\n",
       "      <td>1.0</td>\n",
       "      <td>1.0</td>\n",
       "      <td>1.0</td>\n",
       "      <td>1.0</td>\n",
       "    </tr>\n",
       "    <tr>\n",
       "      <th>qvarn</th>\n",
       "      <td>2.6</td>\n",
       "      <td>2.1</td>\n",
       "      <td>3.0</td>\n",
       "      <td>1.2</td>\n",
       "      <td>32.5</td>\n",
       "      <td>7.3</td>\n",
       "      <td>1.0</td>\n",
       "      <td>2.3</td>\n",
       "      <td>3.6</td>\n",
       "      <td>2.0</td>\n",
       "      <td>1.3</td>\n",
       "    </tr>\n",
       "  </tbody>\n",
       "</table>\n",
       "</div>"
      ],
      "text/plain": [
       "                   0    1    2      3     4     5      6      7    8    9   \\\n",
       "jsonb_91_alog     4.3  2.9  3.0  164.5  55.6  69.4  861.9  417.0  3.2  3.1   \n",
       "jsonb_91_no_alog  3.2  2.1  1.5    3.3  11.1  11.9   13.7  381.3  1.3  1.5   \n",
       "jsonb_92_alog     3.9  2.6  2.5   14.6  11.1  13.9   70.5  305.2  3.1  2.9   \n",
       "jsonb_92_no_alog  3.1  2.0  1.3    2.7   7.2   9.0   11.8  296.9  1.3  1.4   \n",
       "planb             1.0  1.0  1.0    1.0   1.0   1.0    2.3    1.0  1.0  1.0   \n",
       "qvarn             2.6  2.1  3.0    1.2  32.5   7.3    1.0    2.3  3.6  2.0   \n",
       "\n",
       "                    10  \n",
       "jsonb_91_alog     30.3  \n",
       "jsonb_91_no_alog   2.1  \n",
       "jsonb_92_alog      7.1  \n",
       "jsonb_92_no_alog   2.0  \n",
       "planb              1.0  \n",
       "qvarn              1.3"
      ]
     },
     "execution_count": 35,
     "metadata": {},
     "output_type": "execute_result"
    }
   ],
   "source": [
    "summary"
   ]
  }
 ],
 "metadata": {
  "kernelspec": {
   "display_name": "Python 3",
   "language": "python",
   "name": "python3"
  },
  "language_info": {
   "codemirror_mode": {
    "name": "ipython",
    "version": 3
   },
   "file_extension": ".py",
   "mimetype": "text/x-python",
   "name": "python",
   "nbconvert_exporter": "python",
   "pygments_lexer": "ipython3",
   "version": "3.6.4"
  }
 },
 "nbformat": 4,
 "nbformat_minor": 2
}
